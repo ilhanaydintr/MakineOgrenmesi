{
  "nbformat": 4,
  "nbformat_minor": 0,
  "metadata": {
    "colab": {
      "name": "YSA_Keras_egitim.ipynb",
      "provenance": [],
      "collapsed_sections": []
    },
    "kernelspec": {
      "name": "python3",
      "display_name": "Python 3"
    },
    "language_info": {
      "name": "python"
    }
  },
  "cells": [
    {
      "cell_type": "code",
      "metadata": {
        "id": "0OnrsCjyjKqM"
      },
      "source": [
        "from sklearn import datasets\n",
        "iris=datasets.load_iris()\n",
        "X=iris.data\n",
        "y=iris.target"
      ],
      "execution_count": null,
      "outputs": []
    },
    {
      "cell_type": "code",
      "metadata": {
        "id": "rA7zkKCMjkVp"
      },
      "source": [
        "from tensorflow.keras.utils import to_categorical\n",
        "y=to_categorical(y)\n",
        "y"
      ],
      "execution_count": null,
      "outputs": []
    },
    {
      "cell_type": "code",
      "metadata": {
        "id": "gbBAlTqWj-AW"
      },
      "source": [
        "from keras.models import Sequential\n",
        "from keras.layers import Dense"
      ],
      "execution_count": null,
      "outputs": []
    },
    {
      "cell_type": "code",
      "metadata": {
        "id": "n41rdWQPkG2S"
      },
      "source": [
        "model=Sequential()\n",
        "model.add(Dense(8,activation='relu',input_shape=(X.shape[1],)))\n",
        "model.add(Dense(3,activation='softmax'))\n",
        "model.compile(loss='categorical_crossentropy',\n",
        "              optimizer='adam',\n",
        "              metrics=['accuracy'])"
      ],
      "execution_count": null,
      "outputs": []
    },
    {
      "cell_type": "code",
      "metadata": {
        "colab": {
          "base_uri": "https://localhost:8080/"
        },
        "id": "Vsv3qpRFkqvz",
        "outputId": "29594ff2-58ca-4103-f6c5-3b039e6a8ffd"
      },
      "source": [
        "model.fit(X,y,epochs=500)"
      ],
      "execution_count": null,
      "outputs": [
        {
          "output_type": "execute_result",
          "data": {
            "text/plain": [
              "<keras.callbacks.History at 0x7fdc7e41e1d0>"
            ]
          },
          "metadata": {
            "tags": []
          },
          "execution_count": 6
        }
      ]
    },
    {
      "cell_type": "code",
      "metadata": {
        "colab": {
          "base_uri": "https://localhost:8080/"
        },
        "id": "qvDQPrlRk6a7",
        "outputId": "98ad2633-f356-45a3-c774-bbbb34d45629"
      },
      "source": [
        "from keras.models import load_model\n",
        "import numpy as np\n",
        "model.save('model_iris.h5')\n",
        "model_2=load_model('model_iris.h5')\n",
        "yeni_veri=np.array([[6.6, 3. , 4.4, 1.4]])\n",
        "tahmin=model_2.predict(yeni_veri)\n",
        "tahmin"
      ],
      "execution_count": null,
      "outputs": [
        {
          "output_type": "stream",
          "text": [
            "WARNING:tensorflow:6 out of the last 10 calls to <function Model.make_predict_function.<locals>.predict_function at 0x7fdc72eb8b00> triggered tf.function retracing. Tracing is expensive and the excessive number of tracings could be due to (1) creating @tf.function repeatedly in a loop, (2) passing tensors with different shapes, (3) passing Python objects instead of tensors. For (1), please define your @tf.function outside of the loop. For (2), @tf.function has experimental_relax_shapes=True option that relaxes argument shapes that can avoid unnecessary retracing. For (3), please refer to https://www.tensorflow.org/guide/function#controlling_retracing and https://www.tensorflow.org/api_docs/python/tf/function for  more details.\n"
          ],
          "name": "stdout"
        },
        {
          "output_type": "execute_result",
          "data": {
            "text/plain": [
              "array([[0.00354888, 0.9234296 , 0.07302152]], dtype=float32)"
            ]
          },
          "metadata": {
            "tags": []
          },
          "execution_count": 17
        }
      ]
    }
  ]
}