{
  "nbformat": 4,
  "nbformat_minor": 0,
  "metadata": {
    "colab": {
      "name": "Karar_agaci_ornek.ipynb",
      "provenance": [],
      "collapsed_sections": []
    },
    "kernelspec": {
      "name": "python3",
      "display_name": "Python 3"
    },
    "language_info": {
      "name": "python"
    }
  },
  "cells": [
    {
      "cell_type": "code",
      "metadata": {
        "id": "YgtUdSOdO6bq"
      },
      "source": [
        "import numpy as np\n",
        "import pandas as pd\n",
        "from sklearn.metrics import confusion_matrix\n",
        "from sklearn.model_selection import train_test_split\n",
        "from sklearn import tree\n",
        "from sklearn.metrics import accuracy_score\n",
        "from sklearn.metrics import classification_report\n",
        "  \n",
        "# Function importing Dataset\n",
        "def importdata():\n",
        "    balance_data = pd.read_csv(\n",
        "'https://archive.ics.uci.edu/ml/machine-learning-'+\n",
        "'databases/balance-scale/balance-scale.data',\n",
        "    sep= ',', header = None)\n",
        "      \n",
        "    # Printing the dataswet shape\n",
        "    print (\"Dataset Length: \", len(balance_data))\n",
        "    print (\"Dataset Shape: \", balance_data.shape)\n",
        "      \n",
        "    # Printing the dataset obseravtions\n",
        "    print (\"Dataset: \",balance_data.head())\n",
        "    return balance_data\n",
        "  \n",
        "# Function to split the dataset\n",
        "def splitdataset(balance_data):\n",
        "  \n",
        "    # Separating the target variable\n",
        "    X = balance_data.values[:, 1:5]\n",
        "    Y = balance_data.values[:, 0]\n",
        "  \n",
        "    # Splitting the dataset into train and test\n",
        "    X_train, X_test, y_train, y_test = train_test_split( \n",
        "    X, Y, test_size = 0.3, random_state = 123)\n",
        "      \n",
        "    return X, Y, X_train, X_test, y_train, y_test\n",
        "      \n",
        "# Function to perform training with giniIndex.\n",
        "def train_using_gini(X_train, X_test, y_train):\n",
        "  \n",
        "    # Creating the classifier object\n",
        "    clf_gini = tree.DecisionTreeClassifier(criterion = \"gini\",\n",
        "            random_state = 100,max_depth=3, min_samples_leaf=5)\n",
        "  \n",
        "    # Performing training\n",
        "    clf_gini.fit(X_train, y_train)\n",
        "    print('Gini karar agaci')\n",
        "    tree.plot_tree(clf_gini) \n",
        "    return clf_gini\n",
        "      \n",
        "# Function to perform training with entropy.\n",
        "def train_using_entropy(X_train, X_test, y_train):\n",
        "  \n",
        "    # Decision tree with entropy\n",
        "    clf_entropy = tree.DecisionTreeClassifier(\n",
        "            criterion = \"entropy\", random_state = 100,\n",
        "            max_depth = 3, min_samples_leaf = 5)\n",
        "  \n",
        "    # Performing training\n",
        "    clf_entropy.fit(X_train, y_train)\n",
        "    return clf_entropy\n",
        "  \n",
        "  \n",
        "# Function to make predictions\n",
        "def prediction(X_test, clf_object):\n",
        "  \n",
        "    # Predicton on test with giniIndex\n",
        "    y_pred = clf_object.predict(X_test)\n",
        "    print(\"Predicted values:\")\n",
        "    print(y_pred)\n",
        "    return y_pred\n",
        "      \n",
        "# Function to calculate accuracy\n",
        "def cal_accuracy(y_test, y_pred):\n",
        "      \n",
        "    print(\"Confusion Matrix: \",\n",
        "        confusion_matrix(y_test, y_pred))\n",
        "      \n",
        "    print (\"Accuracy : \",\n",
        "    accuracy_score(y_test,y_pred)*100)\n",
        "      \n",
        "    print(\"Report : \",\n",
        "    classification_report(y_test, y_pred))\n",
        "  \n",
        "      \n",
        "    # Building Phase\n",
        "data = importdata()\n",
        "X, Y, X_train, X_test, y_train, y_test = splitdataset(data)\n",
        "clf_gini = train_using_gini(X_train, X_test, y_train)\n",
        "clf_entropy = train_using_entropy(X_train, X_test, y_train)     \n",
        "# Operational Phase\n",
        "print(\"Results Using Gini Index:\")\n",
        "      \n",
        "# Prediction using gini\n",
        "y_pred_gini = prediction(X_test, clf_gini)\n",
        "cal_accuracy(y_test, y_pred_gini)\n",
        "      \n",
        "print(\"Results Using Entropy:\")\n",
        "# Prediction using entropy\n",
        "y_pred_entropy = prediction(X_test, clf_entropy)\n",
        "cal_accuracy(y_test, y_pred_entropy)"
      ],
      "execution_count": null,
      "outputs": []
    },
    {
      "cell_type": "code",
      "metadata": {
        "colab": {
          "base_uri": "https://localhost:8080/"
        },
        "id": "05JvZMjzTQLq",
        "outputId": "303a0d65-3354-4d85-99dd-b1a374ebea91"
      },
      "source": [
        "data.keys()"
      ],
      "execution_count": null,
      "outputs": [
        {
          "output_type": "execute_result",
          "data": {
            "text/plain": [
              "Int64Index([0, 1, 2, 3, 4], dtype='int64')"
            ]
          },
          "metadata": {
            "tags": []
          },
          "execution_count": 13
        }
      ]
    },
    {
      "cell_type": "markdown",
      "metadata": {
        "id": "roAPM1jzSWnx"
      },
      "source": [
        "Ayrıca export aracını kullanarak ağacı Graphviz formatında dışa aktarabiliriz export_graphviz. Eğer  AnaConda paket yöneticisini kullanıyorsanız, graphviz Python paketi ile kurulabilirsiniz\n",
        "conda install python-graphviz\n",
        "\n",
        "Aşağıda, tüm Balance veri kümesi üzerinde eğitilmiş yukarıdaki ağacın bir grafik dışa aktarma örneği verilmiştir; sonuçlar bir çıktı dosyasına kaydedilir Balance.pdf:"
      ]
    },
    {
      "cell_type": "code",
      "metadata": {
        "id": "LAlEhGRGPlUh",
        "colab": {
          "base_uri": "https://localhost:8080/",
          "height": 35
        },
        "outputId": "7b1b2a92-87b7-409c-f23d-7fa42ac28c90"
      },
      "source": [
        "import graphviz \n",
        "dot_data = tree.export_graphviz(clf_gini, out_file=None) \n",
        "graph = graphviz.Source(dot_data) \n",
        "graph.render(\"Balance\") "
      ],
      "execution_count": null,
      "outputs": [
        {
          "output_type": "execute_result",
          "data": {
            "application/vnd.google.colaboratory.intrinsic+json": {
              "type": "string"
            },
            "text/plain": [
              "'Balance.pdf'"
            ]
          },
          "metadata": {
            "tags": []
          },
          "execution_count": 9
        }
      ]
    },
    {
      "cell_type": "code",
      "metadata": {
        "id": "f0NRtAzPSJl3",
        "colab": {
          "base_uri": "https://localhost:8080/",
          "height": 522
        },
        "outputId": "12ee43b6-428a-4075-b8c8-0afa74a30d02"
      },
      "source": [
        "dot_data = tree.export_graphviz(clf_entropy, out_file=None, \n",
        "...                      filled=True, rounded=True,  \n",
        "...                      special_characters=True)  \n",
        "graph = graphviz.Source(dot_data)  \n",
        "graph "
      ],
      "execution_count": null,
      "outputs": [
        {
          "output_type": "execute_result",
          "data": {
            "text/plain": [
              "<graphviz.files.Source at 0x7f65e6bb3a50>"
            ],
            "image/svg+xml": "<?xml version=\"1.0\" encoding=\"UTF-8\" standalone=\"no\"?>\n<!DOCTYPE svg PUBLIC \"-//W3C//DTD SVG 1.1//EN\"\n \"http://www.w3.org/Graphics/SVG/1.1/DTD/svg11.dtd\">\n<!-- Generated by graphviz version 2.40.1 (20161225.0304)\n -->\n<!-- Title: Tree Pages: 1 -->\n<svg width=\"1152pt\" height=\"361pt\"\n viewBox=\"0.00 0.00 1151.50 361.00\" xmlns=\"http://www.w3.org/2000/svg\" xmlns:xlink=\"http://www.w3.org/1999/xlink\">\n<g id=\"graph0\" class=\"graph\" transform=\"scale(1 1) rotate(0) translate(4 357)\">\n<title>Tree</title>\n<polygon fill=\"#ffffff\" stroke=\"transparent\" points=\"-4,4 -4,-357 1147.5,-357 1147.5,4 -4,4\"/>\n<!-- 0 -->\n<g id=\"node1\" class=\"node\">\n<title>0</title>\n<path fill=\"#f6fef9\" stroke=\"#000000\" d=\"M616.5,-353C616.5,-353 484.5,-353 484.5,-353 478.5,-353 472.5,-347 472.5,-341 472.5,-341 472.5,-301 472.5,-301 472.5,-295 478.5,-289 484.5,-289 484.5,-289 616.5,-289 616.5,-289 622.5,-289 628.5,-295 628.5,-301 628.5,-301 628.5,-341 628.5,-341 628.5,-347 622.5,-353 616.5,-353\"/>\n<text text-anchor=\"start\" x=\"524\" y=\"-338.8\" font-family=\"Helvetica,sans-Serif\" font-size=\"14.00\" fill=\"#000000\">X</text>\n<text text-anchor=\"start\" x=\"534\" y=\"-338.8\" font-family=\"Helvetica,sans-Serif\" baseline-shift=\"sub\" font-size=\"14.00\" fill=\"#000000\">0</text>\n<text text-anchor=\"start\" x=\"541\" y=\"-338.8\" font-family=\"Helvetica,sans-Serif\" font-size=\"14.00\" fill=\"#000000\"> ≤ 2.5</text>\n<text text-anchor=\"start\" x=\"499.5\" y=\"-324.8\" font-family=\"Helvetica,sans-Serif\" font-size=\"14.00\" fill=\"#000000\">entropy = 1.316</text>\n<text text-anchor=\"start\" x=\"502.5\" y=\"-310.8\" font-family=\"Helvetica,sans-Serif\" font-size=\"14.00\" fill=\"#000000\">samples = 437</text>\n<text text-anchor=\"start\" x=\"480.5\" y=\"-296.8\" font-family=\"Helvetica,sans-Serif\" font-size=\"14.00\" fill=\"#000000\">value = [34, 207, 196]</text>\n</g>\n<!-- 1 -->\n<g id=\"node2\" class=\"node\">\n<title>1</title>\n<path fill=\"#b489f0\" stroke=\"#000000\" d=\"M471.5,-253C471.5,-253 347.5,-253 347.5,-253 341.5,-253 335.5,-247 335.5,-241 335.5,-241 335.5,-201 335.5,-201 335.5,-195 341.5,-189 347.5,-189 347.5,-189 471.5,-189 471.5,-189 477.5,-189 483.5,-195 483.5,-201 483.5,-201 483.5,-241 483.5,-241 483.5,-247 477.5,-253 471.5,-253\"/>\n<text text-anchor=\"start\" x=\"383\" y=\"-238.8\" font-family=\"Helvetica,sans-Serif\" font-size=\"14.00\" fill=\"#000000\">X</text>\n<text text-anchor=\"start\" x=\"393\" y=\"-238.8\" font-family=\"Helvetica,sans-Serif\" baseline-shift=\"sub\" font-size=\"14.00\" fill=\"#000000\">2</text>\n<text text-anchor=\"start\" x=\"400\" y=\"-238.8\" font-family=\"Helvetica,sans-Serif\" font-size=\"14.00\" fill=\"#000000\"> ≤ 2.5</text>\n<text text-anchor=\"start\" x=\"358.5\" y=\"-224.8\" font-family=\"Helvetica,sans-Serif\" font-size=\"14.00\" fill=\"#000000\">entropy = 1.148</text>\n<text text-anchor=\"start\" x=\"361.5\" y=\"-210.8\" font-family=\"Helvetica,sans-Serif\" font-size=\"14.00\" fill=\"#000000\">samples = 177</text>\n<text text-anchor=\"start\" x=\"343.5\" y=\"-196.8\" font-family=\"Helvetica,sans-Serif\" font-size=\"14.00\" fill=\"#000000\">value = [14, 41, 122]</text>\n</g>\n<!-- 0&#45;&gt;1 -->\n<g id=\"edge1\" class=\"edge\">\n<title>0&#45;&gt;1</title>\n<path fill=\"none\" stroke=\"#000000\" d=\"M505.1106,-288.8089C491.7769,-279.3524 477.0647,-268.9182 463.2612,-259.1285\"/>\n<polygon fill=\"#000000\" stroke=\"#000000\" points=\"464.986,-256.0609 454.8044,-253.1308 460.9365,-261.7707 464.986,-256.0609\"/>\n<text text-anchor=\"middle\" x=\"458.9972\" y=\"-274.0766\" font-family=\"Helvetica,sans-Serif\" font-size=\"14.00\" fill=\"#000000\">True</text>\n</g>\n<!-- 8 -->\n<g id=\"node9\" class=\"node\">\n<title>8</title>\n<path fill=\"#9df2c1\" stroke=\"#000000\" d=\"M763.5,-253C763.5,-253 639.5,-253 639.5,-253 633.5,-253 627.5,-247 627.5,-241 627.5,-241 627.5,-201 627.5,-201 627.5,-195 633.5,-189 639.5,-189 639.5,-189 763.5,-189 763.5,-189 769.5,-189 775.5,-195 775.5,-201 775.5,-201 775.5,-241 775.5,-241 775.5,-247 769.5,-253 763.5,-253\"/>\n<text text-anchor=\"start\" x=\"675\" y=\"-238.8\" font-family=\"Helvetica,sans-Serif\" font-size=\"14.00\" fill=\"#000000\">X</text>\n<text text-anchor=\"start\" x=\"685\" y=\"-238.8\" font-family=\"Helvetica,sans-Serif\" baseline-shift=\"sub\" font-size=\"14.00\" fill=\"#000000\">3</text>\n<text text-anchor=\"start\" x=\"692\" y=\"-238.8\" font-family=\"Helvetica,sans-Serif\" font-size=\"14.00\" fill=\"#000000\"> ≤ 2.5</text>\n<text text-anchor=\"start\" x=\"650.5\" y=\"-224.8\" font-family=\"Helvetica,sans-Serif\" font-size=\"14.00\" fill=\"#000000\">entropy = 1.214</text>\n<text text-anchor=\"start\" x=\"653.5\" y=\"-210.8\" font-family=\"Helvetica,sans-Serif\" font-size=\"14.00\" fill=\"#000000\">samples = 260</text>\n<text text-anchor=\"start\" x=\"635.5\" y=\"-196.8\" font-family=\"Helvetica,sans-Serif\" font-size=\"14.00\" fill=\"#000000\">value = [20, 166, 74]</text>\n</g>\n<!-- 0&#45;&gt;8 -->\n<g id=\"edge8\" class=\"edge\">\n<title>0&#45;&gt;8</title>\n<path fill=\"none\" stroke=\"#000000\" d=\"M599.1085,-288.8089C613.5226,-279.2632 629.4409,-268.7213 644.3441,-258.8516\"/>\n<polygon fill=\"#000000\" stroke=\"#000000\" points=\"646.5776,-261.5704 652.9826,-253.1308 642.7125,-255.7342 646.5776,-261.5704\"/>\n<text text-anchor=\"middle\" x=\"648.0046\" y=\"-273.9301\" font-family=\"Helvetica,sans-Serif\" font-size=\"14.00\" fill=\"#000000\">False</text>\n</g>\n<!-- 2 -->\n<g id=\"node3\" class=\"node\">\n<title>2</title>\n<path fill=\"#fafefc\" stroke=\"#000000\" d=\"M256,-153C256,-153 149,-153 149,-153 143,-153 137,-147 137,-141 137,-141 137,-101 137,-101 137,-95 143,-89 149,-89 149,-89 256,-89 256,-89 262,-89 268,-95 268,-101 268,-101 268,-141 268,-141 268,-147 262,-153 256,-153\"/>\n<text text-anchor=\"start\" x=\"176\" y=\"-138.8\" font-family=\"Helvetica,sans-Serif\" font-size=\"14.00\" fill=\"#000000\">X</text>\n<text text-anchor=\"start\" x=\"186\" y=\"-138.8\" font-family=\"Helvetica,sans-Serif\" baseline-shift=\"sub\" font-size=\"14.00\" fill=\"#000000\">1</text>\n<text text-anchor=\"start\" x=\"193\" y=\"-138.8\" font-family=\"Helvetica,sans-Serif\" font-size=\"14.00\" fill=\"#000000\"> ≤ 2.5</text>\n<text text-anchor=\"start\" x=\"151.5\" y=\"-124.8\" font-family=\"Helvetica,sans-Serif\" font-size=\"14.00\" fill=\"#000000\">entropy = 1.445</text>\n<text text-anchor=\"start\" x=\"158.5\" y=\"-110.8\" font-family=\"Helvetica,sans-Serif\" font-size=\"14.00\" fill=\"#000000\">samples = 64</text>\n<text text-anchor=\"start\" x=\"145\" y=\"-96.8\" font-family=\"Helvetica,sans-Serif\" font-size=\"14.00\" fill=\"#000000\">value = [9, 28, 27]</text>\n</g>\n<!-- 1&#45;&gt;2 -->\n<g id=\"edge2\" class=\"edge\">\n<title>1&#45;&gt;2</title>\n<path fill=\"none\" stroke=\"#000000\" d=\"M343.1498,-188.9467C322.1447,-178.7994 298.7859,-167.5149 277.2345,-157.1036\"/>\n<polygon fill=\"#000000\" stroke=\"#000000\" points=\"278.6479,-153.8994 268.121,-152.701 275.6029,-160.2025 278.6479,-153.8994\"/>\n</g>\n<!-- 5 -->\n<g id=\"node6\" class=\"node\">\n<title>5</title>\n<path fill=\"#985dea\" stroke=\"#000000\" d=\"M463,-153C463,-153 356,-153 356,-153 350,-153 344,-147 344,-141 344,-141 344,-101 344,-101 344,-95 350,-89 356,-89 356,-89 463,-89 463,-89 469,-89 475,-95 475,-101 475,-101 475,-141 475,-141 475,-147 469,-153 463,-153\"/>\n<text text-anchor=\"start\" x=\"383\" y=\"-138.8\" font-family=\"Helvetica,sans-Serif\" font-size=\"14.00\" fill=\"#000000\">X</text>\n<text text-anchor=\"start\" x=\"393\" y=\"-138.8\" font-family=\"Helvetica,sans-Serif\" baseline-shift=\"sub\" font-size=\"14.00\" fill=\"#000000\">3</text>\n<text text-anchor=\"start\" x=\"400\" y=\"-138.8\" font-family=\"Helvetica,sans-Serif\" font-size=\"14.00\" fill=\"#000000\"> ≤ 2.5</text>\n<text text-anchor=\"start\" x=\"358.5\" y=\"-124.8\" font-family=\"Helvetica,sans-Serif\" font-size=\"14.00\" fill=\"#000000\">entropy = 0.768</text>\n<text text-anchor=\"start\" x=\"361.5\" y=\"-110.8\" font-family=\"Helvetica,sans-Serif\" font-size=\"14.00\" fill=\"#000000\">samples = 113</text>\n<text text-anchor=\"start\" x=\"352\" y=\"-96.8\" font-family=\"Helvetica,sans-Serif\" font-size=\"14.00\" fill=\"#000000\">value = [5, 13, 95]</text>\n</g>\n<!-- 1&#45;&gt;5 -->\n<g id=\"edge5\" class=\"edge\">\n<title>1&#45;&gt;5</title>\n<path fill=\"none\" stroke=\"#000000\" d=\"M409.5,-188.8089C409.5,-180.6906 409.5,-171.8517 409.5,-163.3186\"/>\n<polygon fill=\"#000000\" stroke=\"#000000\" points=\"413.0001,-163.1307 409.5,-153.1308 406.0001,-163.1308 413.0001,-163.1307\"/>\n</g>\n<!-- 3 -->\n<g id=\"node4\" class=\"node\">\n<title>3</title>\n<path fill=\"#ab7bee\" stroke=\"#000000\" d=\"M111,-53C111,-53 12,-53 12,-53 6,-53 0,-47 0,-41 0,-41 0,-12 0,-12 0,-6 6,0 12,0 12,0 111,0 111,0 117,0 123,-6 123,-12 123,-12 123,-41 123,-41 123,-47 117,-53 111,-53\"/>\n<text text-anchor=\"start\" x=\"10.5\" y=\"-37.8\" font-family=\"Helvetica,sans-Serif\" font-size=\"14.00\" fill=\"#000000\">entropy = 1.131</text>\n<text text-anchor=\"start\" x=\"17.5\" y=\"-22.8\" font-family=\"Helvetica,sans-Serif\" font-size=\"14.00\" fill=\"#000000\">samples = 25</text>\n<text text-anchor=\"start\" x=\"8\" y=\"-7.8\" font-family=\"Helvetica,sans-Serif\" font-size=\"14.00\" fill=\"#000000\">value = [4, 3, 18]</text>\n</g>\n<!-- 2&#45;&gt;3 -->\n<g id=\"edge3\" class=\"edge\">\n<title>2&#45;&gt;3</title>\n<path fill=\"none\" stroke=\"#000000\" d=\"M154.3702,-88.7428C140.0998,-79.1786 124.4652,-68.7001 110.1614,-59.1135\"/>\n<polygon fill=\"#000000\" stroke=\"#000000\" points=\"111.7068,-55.9359 101.4513,-53.2759 107.8096,-61.7507 111.7068,-55.9359\"/>\n</g>\n<!-- 4 -->\n<g id=\"node5\" class=\"node\">\n<title>4</title>\n<path fill=\"#95f1bc\" stroke=\"#000000\" d=\"M252,-53C252,-53 153,-53 153,-53 147,-53 141,-47 141,-41 141,-41 141,-12 141,-12 141,-6 147,0 153,0 153,0 252,0 252,0 258,0 264,-6 264,-12 264,-12 264,-41 264,-41 264,-47 258,-53 252,-53\"/>\n<text text-anchor=\"start\" x=\"151.5\" y=\"-37.8\" font-family=\"Helvetica,sans-Serif\" font-size=\"14.00\" fill=\"#000000\">entropy = 1.279</text>\n<text text-anchor=\"start\" x=\"158.5\" y=\"-22.8\" font-family=\"Helvetica,sans-Serif\" font-size=\"14.00\" fill=\"#000000\">samples = 39</text>\n<text text-anchor=\"start\" x=\"149\" y=\"-7.8\" font-family=\"Helvetica,sans-Serif\" font-size=\"14.00\" fill=\"#000000\">value = [5, 25, 9]</text>\n</g>\n<!-- 2&#45;&gt;4 -->\n<g id=\"edge4\" class=\"edge\">\n<title>2&#45;&gt;4</title>\n<path fill=\"none\" stroke=\"#000000\" d=\"M202.5,-88.7428C202.5,-80.6222 202.5,-71.8426 202.5,-63.5093\"/>\n<polygon fill=\"#000000\" stroke=\"#000000\" points=\"206.0001,-63.2758 202.5,-53.2759 199.0001,-63.2759 206.0001,-63.2758\"/>\n</g>\n<!-- 6 -->\n<g id=\"node7\" class=\"node\">\n<title>6</title>\n<path fill=\"#caacf4\" stroke=\"#000000\" d=\"M401,-53C401,-53 294,-53 294,-53 288,-53 282,-47 282,-41 282,-41 282,-12 282,-12 282,-6 288,0 294,0 294,0 401,0 401,0 407,0 413,-6 413,-12 413,-12 413,-41 413,-41 413,-47 407,-53 401,-53\"/>\n<text text-anchor=\"start\" x=\"296.5\" y=\"-37.8\" font-family=\"Helvetica,sans-Serif\" font-size=\"14.00\" fill=\"#000000\">entropy = 1.325</text>\n<text text-anchor=\"start\" x=\"303.5\" y=\"-22.8\" font-family=\"Helvetica,sans-Serif\" font-size=\"14.00\" fill=\"#000000\">samples = 44</text>\n<text text-anchor=\"start\" x=\"290\" y=\"-7.8\" font-family=\"Helvetica,sans-Serif\" font-size=\"14.00\" fill=\"#000000\">value = [5, 13, 26]</text>\n</g>\n<!-- 5&#45;&gt;6 -->\n<g id=\"edge6\" class=\"edge\">\n<title>5&#45;&gt;6</title>\n<path fill=\"none\" stroke=\"#000000\" d=\"M388.3365,-88.7428C382.6536,-80.0809 376.4786,-70.669 370.6919,-61.849\"/>\n<polygon fill=\"#000000\" stroke=\"#000000\" points=\"373.4793,-59.717 365.0672,-53.2759 367.6265,-63.557 373.4793,-59.717\"/>\n</g>\n<!-- 7 -->\n<g id=\"node8\" class=\"node\">\n<title>7</title>\n<path fill=\"#8139e5\" stroke=\"#000000\" d=\"M542,-53C542,-53 443,-53 443,-53 437,-53 431,-47 431,-41 431,-41 431,-12 431,-12 431,-6 437,0 443,0 443,0 542,0 542,0 548,0 554,-6 554,-12 554,-12 554,-41 554,-41 554,-47 548,-53 542,-53\"/>\n<text text-anchor=\"start\" x=\"450\" y=\"-37.8\" font-family=\"Helvetica,sans-Serif\" font-size=\"14.00\" fill=\"#000000\">entropy = 0.0</text>\n<text text-anchor=\"start\" x=\"448.5\" y=\"-22.8\" font-family=\"Helvetica,sans-Serif\" font-size=\"14.00\" fill=\"#000000\">samples = 69</text>\n<text text-anchor=\"start\" x=\"439\" y=\"-7.8\" font-family=\"Helvetica,sans-Serif\" font-size=\"14.00\" fill=\"#000000\">value = [0, 0, 69]</text>\n</g>\n<!-- 5&#45;&gt;7 -->\n<g id=\"edge7\" class=\"edge\">\n<title>5&#45;&gt;7</title>\n<path fill=\"none\" stroke=\"#000000\" d=\"M437.8317,-88.7428C445.6773,-79.8102 454.2234,-70.08 462.1775,-61.0238\"/>\n<polygon fill=\"#000000\" stroke=\"#000000\" points=\"465.0131,-63.099 468.9826,-53.2759 459.7537,-58.4796 465.0131,-63.099\"/>\n</g>\n<!-- 9 -->\n<g id=\"node10\" class=\"node\">\n<title>9</title>\n<path fill=\"#53e891\" stroke=\"#000000\" d=\"M751,-153C751,-153 652,-153 652,-153 646,-153 640,-147 640,-141 640,-141 640,-101 640,-101 640,-95 646,-89 652,-89 652,-89 751,-89 751,-89 757,-89 763,-95 763,-101 763,-101 763,-141 763,-141 763,-147 757,-153 751,-153\"/>\n<text text-anchor=\"start\" x=\"675\" y=\"-138.8\" font-family=\"Helvetica,sans-Serif\" font-size=\"14.00\" fill=\"#000000\">X</text>\n<text text-anchor=\"start\" x=\"685\" y=\"-138.8\" font-family=\"Helvetica,sans-Serif\" baseline-shift=\"sub\" font-size=\"14.00\" fill=\"#000000\">1</text>\n<text text-anchor=\"start\" x=\"692\" y=\"-138.8\" font-family=\"Helvetica,sans-Serif\" font-size=\"14.00\" fill=\"#000000\"> ≤ 2.5</text>\n<text text-anchor=\"start\" x=\"650.5\" y=\"-124.8\" font-family=\"Helvetica,sans-Serif\" font-size=\"14.00\" fill=\"#000000\">entropy = 0.633</text>\n<text text-anchor=\"start\" x=\"653.5\" y=\"-110.8\" font-family=\"Helvetica,sans-Serif\" font-size=\"14.00\" fill=\"#000000\">samples = 109</text>\n<text text-anchor=\"start\" x=\"648\" y=\"-96.8\" font-family=\"Helvetica,sans-Serif\" font-size=\"14.00\" fill=\"#000000\">value = [4, 96, 9]</text>\n</g>\n<!-- 8&#45;&gt;9 -->\n<g id=\"edge9\" class=\"edge\">\n<title>8&#45;&gt;9</title>\n<path fill=\"none\" stroke=\"#000000\" d=\"M701.5,-188.8089C701.5,-180.6906 701.5,-171.8517 701.5,-163.3186\"/>\n<polygon fill=\"#000000\" stroke=\"#000000\" points=\"705.0001,-163.1307 701.5,-153.1308 698.0001,-163.1308 705.0001,-163.1307\"/>\n</g>\n<!-- 12 -->\n<g id=\"node13\" class=\"node\">\n<title>12</title>\n<path fill=\"#f3fdf8\" stroke=\"#000000\" d=\"M977.5,-153C977.5,-153 861.5,-153 861.5,-153 855.5,-153 849.5,-147 849.5,-141 849.5,-141 849.5,-101 849.5,-101 849.5,-95 855.5,-89 861.5,-89 861.5,-89 977.5,-89 977.5,-89 983.5,-89 989.5,-95 989.5,-101 989.5,-101 989.5,-141 989.5,-141 989.5,-147 983.5,-153 977.5,-153\"/>\n<text text-anchor=\"start\" x=\"893\" y=\"-138.8\" font-family=\"Helvetica,sans-Serif\" font-size=\"14.00\" fill=\"#000000\">X</text>\n<text text-anchor=\"start\" x=\"903\" y=\"-138.8\" font-family=\"Helvetica,sans-Serif\" baseline-shift=\"sub\" font-size=\"14.00\" fill=\"#000000\">2</text>\n<text text-anchor=\"start\" x=\"910\" y=\"-138.8\" font-family=\"Helvetica,sans-Serif\" font-size=\"14.00\" fill=\"#000000\"> ≤ 2.5</text>\n<text text-anchor=\"start\" x=\"868.5\" y=\"-124.8\" font-family=\"Helvetica,sans-Serif\" font-size=\"14.00\" fill=\"#000000\">entropy = 1.381</text>\n<text text-anchor=\"start\" x=\"871.5\" y=\"-110.8\" font-family=\"Helvetica,sans-Serif\" font-size=\"14.00\" fill=\"#000000\">samples = 151</text>\n<text text-anchor=\"start\" x=\"857.5\" y=\"-96.8\" font-family=\"Helvetica,sans-Serif\" font-size=\"14.00\" fill=\"#000000\">value = [16, 70, 65]</text>\n</g>\n<!-- 8&#45;&gt;12 -->\n<g id=\"edge12\" class=\"edge\">\n<title>8&#45;&gt;12</title>\n<path fill=\"none\" stroke=\"#000000\" d=\"M771.3761,-188.9467C793.3772,-178.8545 817.8303,-167.6375 840.424,-157.2734\"/>\n<polygon fill=\"#000000\" stroke=\"#000000\" points=\"842.0156,-160.394 849.6456,-153.0433 839.097,-154.0315 842.0156,-160.394\"/>\n</g>\n<!-- 10 -->\n<g id=\"node11\" class=\"node\">\n<title>10</title>\n<path fill=\"#7beeab\" stroke=\"#000000\" d=\"M683,-53C683,-53 584,-53 584,-53 578,-53 572,-47 572,-41 572,-41 572,-12 572,-12 572,-6 578,0 584,0 584,0 683,0 683,0 689,0 695,-6 695,-12 695,-12 695,-41 695,-41 695,-47 689,-53 683,-53\"/>\n<text text-anchor=\"start\" x=\"582.5\" y=\"-37.8\" font-family=\"Helvetica,sans-Serif\" font-size=\"14.00\" fill=\"#000000\">entropy = 1.096</text>\n<text text-anchor=\"start\" x=\"589.5\" y=\"-22.8\" font-family=\"Helvetica,sans-Serif\" font-size=\"14.00\" fill=\"#000000\">samples = 44</text>\n<text text-anchor=\"start\" x=\"580\" y=\"-7.8\" font-family=\"Helvetica,sans-Serif\" font-size=\"14.00\" fill=\"#000000\">value = [4, 32, 8]</text>\n</g>\n<!-- 9&#45;&gt;10 -->\n<g id=\"edge10\" class=\"edge\">\n<title>9&#45;&gt;10</title>\n<path fill=\"none\" stroke=\"#000000\" d=\"M678.2884,-88.7428C671.9906,-79.9906 665.1418,-70.4728 658.7381,-61.5735\"/>\n<polygon fill=\"#000000\" stroke=\"#000000\" points=\"661.4491,-59.3486 652.7673,-53.2759 655.7672,-63.4371 661.4491,-59.3486\"/>\n</g>\n<!-- 11 -->\n<g id=\"node12\" class=\"node\">\n<title>11</title>\n<path fill=\"#3ce583\" stroke=\"#000000\" d=\"M824,-53C824,-53 725,-53 725,-53 719,-53 713,-47 713,-41 713,-41 713,-12 713,-12 713,-6 719,0 725,0 725,0 824,0 824,0 830,0 836,-6 836,-12 836,-12 836,-41 836,-41 836,-47 830,-53 824,-53\"/>\n<text text-anchor=\"start\" x=\"723.5\" y=\"-37.8\" font-family=\"Helvetica,sans-Serif\" font-size=\"14.00\" fill=\"#000000\">entropy = 0.115</text>\n<text text-anchor=\"start\" x=\"730.5\" y=\"-22.8\" font-family=\"Helvetica,sans-Serif\" font-size=\"14.00\" fill=\"#000000\">samples = 65</text>\n<text text-anchor=\"start\" x=\"721\" y=\"-7.8\" font-family=\"Helvetica,sans-Serif\" font-size=\"14.00\" fill=\"#000000\">value = [0, 64, 1]</text>\n</g>\n<!-- 9&#45;&gt;11 -->\n<g id=\"edge11\" class=\"edge\">\n<title>9&#45;&gt;11</title>\n<path fill=\"none\" stroke=\"#000000\" d=\"M726.4183,-88.7428C733.2489,-79.9004 740.6832,-70.2765 747.6186,-61.2985\"/>\n<polygon fill=\"#000000\" stroke=\"#000000\" points=\"750.4725,-63.3293 753.816,-53.2759 744.9328,-59.05 750.4725,-63.3293\"/>\n</g>\n<!-- 13 -->\n<g id=\"node14\" class=\"node\">\n<title>13</title>\n<path fill=\"#6eeca2\" stroke=\"#000000\" d=\"M973,-53C973,-53 866,-53 866,-53 860,-53 854,-47 854,-41 854,-41 854,-12 854,-12 854,-6 860,0 866,0 866,0 973,0 973,0 979,0 985,-6 985,-12 985,-12 985,-41 985,-41 985,-47 979,-53 973,-53\"/>\n<text text-anchor=\"start\" x=\"868.5\" y=\"-37.8\" font-family=\"Helvetica,sans-Serif\" font-size=\"14.00\" fill=\"#000000\">entropy = 0.888</text>\n<text text-anchor=\"start\" x=\"875.5\" y=\"-22.8\" font-family=\"Helvetica,sans-Serif\" font-size=\"14.00\" fill=\"#000000\">samples = 60</text>\n<text text-anchor=\"start\" x=\"862\" y=\"-7.8\" font-family=\"Helvetica,sans-Serif\" font-size=\"14.00\" fill=\"#000000\">value = [2, 47, 11]</text>\n</g>\n<!-- 12&#45;&gt;13 -->\n<g id=\"edge13\" class=\"edge\">\n<title>12&#45;&gt;13</title>\n<path fill=\"none\" stroke=\"#000000\" d=\"M919.5,-88.7428C919.5,-80.6222 919.5,-71.8426 919.5,-63.5093\"/>\n<polygon fill=\"#000000\" stroke=\"#000000\" points=\"923.0001,-63.2758 919.5,-53.2759 916.0001,-63.2759 923.0001,-63.2758\"/>\n</g>\n<!-- 14 -->\n<g id=\"node15\" class=\"node\">\n<title>14</title>\n<path fill=\"#c6a5f3\" stroke=\"#000000\" d=\"M1131.5,-53C1131.5,-53 1015.5,-53 1015.5,-53 1009.5,-53 1003.5,-47 1003.5,-41 1003.5,-41 1003.5,-12 1003.5,-12 1003.5,-6 1009.5,0 1015.5,0 1015.5,0 1131.5,0 1131.5,0 1137.5,0 1143.5,-6 1143.5,-12 1143.5,-12 1143.5,-41 1143.5,-41 1143.5,-47 1137.5,-53 1131.5,-53\"/>\n<text text-anchor=\"start\" x=\"1022.5\" y=\"-37.8\" font-family=\"Helvetica,sans-Serif\" font-size=\"14.00\" fill=\"#000000\">entropy = 1.364</text>\n<text text-anchor=\"start\" x=\"1029.5\" y=\"-22.8\" font-family=\"Helvetica,sans-Serif\" font-size=\"14.00\" fill=\"#000000\">samples = 91</text>\n<text text-anchor=\"start\" x=\"1011.5\" y=\"-7.8\" font-family=\"Helvetica,sans-Serif\" font-size=\"14.00\" fill=\"#000000\">value = [14, 23, 54]</text>\n</g>\n<!-- 12&#45;&gt;14 -->\n<g id=\"edge14\" class=\"edge\">\n<title>12&#45;&gt;14</title>\n<path fill=\"none\" stroke=\"#000000\" d=\"M972.0673,-88.7428C987.9475,-78.9981 1005.3744,-68.3043 1021.2348,-58.5718\"/>\n<polygon fill=\"#000000\" stroke=\"#000000\" points=\"1023.1726,-61.4892 1029.8653,-53.2759 1019.5114,-55.5229 1023.1726,-61.4892\"/>\n</g>\n</g>\n</svg>\n"
          },
          "metadata": {
            "tags": []
          },
          "execution_count": 14
        }
      ]
    }
  ]
}