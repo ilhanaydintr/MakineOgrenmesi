{
  "nbformat": 4,
  "nbformat_minor": 0,
  "metadata": {
    "anaconda-cloud": {},
    "kernelspec": {
      "display_name": "Python 3",
      "language": "python",
      "name": "python3"
    },
    "language_info": {
      "codemirror_mode": {
        "name": "ipython",
        "version": 3
      },
      "file_extension": ".py",
      "mimetype": "text/x-python",
      "name": "python",
      "nbconvert_exporter": "python",
      "pygments_lexer": "ipython3",
      "version": "3.8.3"
    },
    "toc": {
      "nav_menu": {},
      "number_sections": true,
      "sideBar": true,
      "skip_h1_title": false,
      "title_cell": "Table of Contents",
      "title_sidebar": "Contents",
      "toc_cell": false,
      "toc_position": {},
      "toc_section_display": true,
      "toc_window_display": false
    },
    "colab": {
      "name": "veri_bilimine_giris.ipynb adlı not defterinin kopyası",
      "provenance": [],
      "collapsed_sections": [
        "pgVSWnWYgnnF",
        "tqJdGxeggnnQ",
        "5rZN1Ae5gnna",
        "RYPYcemMgnnc",
        "RWq_D4Gognnk",
        "deWFc0Hrgnnl",
        "s83Xx6BTgnnp",
        "AUre6ejFgnnu",
        "wmfVlTSEgnn3"
      ],
      "include_colab_link": true
    }
  },
  "cells": [
    {
      "cell_type": "markdown",
      "metadata": {
        "id": "view-in-github",
        "colab_type": "text"
      },
      "source": [
        "<a href=\"https://colab.research.google.com/github/ilhanaydintr/MakineOgrenmesi/blob/main/veri_bilimine_giris_ipynb_adl%C4%B1_not_defterinin_kopyas%C4%B1.ipynb\" target=\"_parent\"><img src=\"https://colab.research.google.com/assets/colab-badge.svg\" alt=\"Open In Colab\"/></a>"
      ]
    },
    {
      "cell_type": "markdown",
      "metadata": {
        "id": "jYPVfAIlgnmv"
      },
      "source": [
        "###  Python'da Bilimsel Hesaplama\n",
        "\n",
        "---\n",
        "\n"
      ]
    },
    {
      "cell_type": "code",
      "metadata": {
        "id": "4mrXABibgnmy"
      },
      "source": [
        "# conda install numpy scipy matplotlib"
      ],
      "execution_count": null,
      "outputs": []
    },
    {
      "cell_type": "code",
      "metadata": {
        "colab": {
          "base_uri": "https://localhost:8080/"
        },
        "id": "e0HjL4dqmaYv",
        "outputId": "b296092c-c852-4d91-b5ec-2a54cc8f375f"
      },
      "source": [
        "a=5\n",
        "print(a)\n",
        "a=\"AYDIN\"\n",
        "print(a)\n",
        "a=3.14\n",
        "print(a)\n",
        "b=2\n",
        "print(\"Değişken değerleri\",a,b)\n",
        "a,b=3.14,2.8\n",
        "print(a)\n",
        "print(b)"
      ],
      "execution_count": null,
      "outputs": [
        {
          "output_type": "stream",
          "text": [
            "5\n",
            "AYDIN\n",
            "3.14\n",
            "Değişken değerleri 3.14 2\n",
            "3.14\n",
            "2.8\n"
          ],
          "name": "stdout"
        }
      ]
    },
    {
      "cell_type": "markdown",
      "metadata": {
        "id": "4qHYkrTonZ9w"
      },
      "source": [
        "+->Toplama\n",
        "- ->Çıkarma\n",
        "/-> Bölme\n",
        "* ->Çarpma\n",
        "% ->Mod alma\n",
        "** --> üs alma\n",
        "// -->Tamsayı bölme\n"
      ]
    },
    {
      "cell_type": "code",
      "metadata": {
        "colab": {
          "base_uri": "https://localhost:8080/"
        },
        "id": "BsQnOQL2nsAW",
        "outputId": "6f233749-0ee7-45d4-bc16-d15dd71bab0a"
      },
      "source": [
        "print(2**3)\n",
        "sonuc=5+5/2\n",
        "print(sonuc)\n",
        "sonuctam=5+5//2\n",
        "print(sonuctam)\n",
        "print(87//10)\n",
        "a=int(5.2)\n",
        "print(a)\n",
        "b=float(a)\n",
        "print(b)\n",
        "c=str(b)\n",
        "print(c)\n",
        "[x,y,z]=[5,7,9]\n",
        "print(x)\n",
        "deg1=int('1807')\n",
        "deg2=deg1+5\n",
        "print(deg2)"
      ],
      "execution_count": null,
      "outputs": [
        {
          "output_type": "stream",
          "text": [
            "8\n",
            "7.5\n",
            "7\n",
            "8\n",
            "5\n",
            "5.0\n",
            "5.0\n",
            "5\n",
            "1812\n"
          ],
          "name": "stdout"
        }
      ]
    },
    {
      "cell_type": "markdown",
      "metadata": {
        "id": "_CPNiPAspEXD"
      },
      "source": [
        "KOnsoldan veri girişi için input komutu kullanır. "
      ]
    },
    {
      "cell_type": "code",
      "metadata": {
        "colab": {
          "base_uri": "https://localhost:8080/"
        },
        "id": "4CltCikIpJ8E",
        "outputId": "b5ba09b7-3f7a-4d02-e97c-2242cfcb2329"
      },
      "source": [
        "x=float(input(\"sayı girişi:\"))\n",
        "print(\"Girilen sayı:\",x)\n",
        "int('1010',2)\n",
        "int('FF',16)"
      ],
      "execution_count": null,
      "outputs": [
        {
          "output_type": "stream",
          "text": [
            "sayı girişi:8\n",
            "Girilen sayı: 8.0\n"
          ],
          "name": "stdout"
        },
        {
          "output_type": "execute_result",
          "data": {
            "text/plain": [
              "255"
            ]
          },
          "metadata": {
            "tags": []
          },
          "execution_count": 26
        }
      ]
    },
    {
      "cell_type": "code",
      "metadata": {
        "colab": {
          "base_uri": "https://localhost:8080/"
        },
        "id": "6OVRsOCVpx4z",
        "outputId": "d601ffb4-8fc9-4103-acca-3b357e7c84cf"
      },
      "source": [
        "a=complex(3,4)\n",
        "print(a)\n",
        "print(3+5j)\n",
        "bool(1)"
      ],
      "execution_count": null,
      "outputs": [
        {
          "output_type": "stream",
          "text": [
            "(3+4j)\n",
            "(3+5j)\n"
          ],
          "name": "stdout"
        },
        {
          "output_type": "execute_result",
          "data": {
            "text/plain": [
              "True"
            ]
          },
          "metadata": {
            "tags": []
          },
          "execution_count": 30
        }
      ]
    },
    {
      "cell_type": "markdown",
      "metadata": {
        "id": "apH_mO6UqDjv"
      },
      "source": [
        "String \"\" içerisine yazılır. "
      ]
    },
    {
      "cell_type": "code",
      "metadata": {
        "colab": {
          "base_uri": "https://localhost:8080/"
        },
        "id": "JyaYIFeHqJR2",
        "outputId": "23c1177f-1f3a-4e01-9a15-60b4c60586ef"
      },
      "source": [
        "a=\"deneme \" \"deneme1 \" \"deneme2    \"\n",
        "print(a)\n",
        "print(a.capitalize())\n",
        "print(a.upper())\n",
        "print(a.title())\n",
        "print(a.lstrip())\n",
        "print(a.startswith('d'))\n",
        "print(a.count(\"eneme\")) #stringin kaç kez geçtiğini bulur\n",
        "if(a.islower()):\n",
        "  print(\"Bütün harfler küçük\")\n",
        "print(a[0])\n",
        "print(a[1])\n",
        "dil=\"Python\"\n",
        "dil1=dil*3\n",
        "print(dil1)"
      ],
      "execution_count": null,
      "outputs": [
        {
          "output_type": "stream",
          "text": [
            "deneme deneme1 deneme2    \n",
            "Deneme deneme1 deneme2    \n",
            "DENEME DENEME1 DENEME2    \n",
            "Deneme Deneme1 Deneme2    \n",
            "deneme deneme1 deneme2    \n",
            "True\n",
            "3\n",
            "Bütün harfler küçük\n",
            "d\n",
            "e\n",
            "PythonPythonPython\n"
          ],
          "name": "stdout"
        }
      ]
    },
    {
      "cell_type": "markdown",
      "metadata": {
        "id": "F3DPMr0yr4E0"
      },
      "source": [
        "List veya Lİste Veri Yapısı\n",
        "liste=[1,2,3,4]"
      ]
    },
    {
      "cell_type": "code",
      "metadata": {
        "colab": {
          "base_uri": "https://localhost:8080/"
        },
        "id": "kt02oOy_sCKA",
        "outputId": "7e37fb49-e62e-429e-a715-7e4c318d364f"
      },
      "source": [
        "liste=[1,2,4,5]\n",
        "print(liste[0])\n",
        "print(len(liste))\n",
        "print(type(liste))\n",
        "print(liste[2:])\n",
        "liste2=[4,7,9,10,14,15,30,11,18]\n",
        "print(liste2[2:6:2])\n",
        "liste3=['A','B','C','B','D','B']\n",
        "liste3.pop()\n",
        "print(liste3)\n",
        "liste3.append('F')\n",
        "print(liste3)\n",
        "liste3.remove('B')\n",
        "print(liste3)\n",
        "print(liste3.index('D'))\n",
        "del(liste2[2])# i. elemanı silme\n",
        "print(liste2)"
      ],
      "execution_count": null,
      "outputs": [
        {
          "output_type": "stream",
          "text": [
            "1\n",
            "4\n",
            "<class 'list'>\n",
            "[4, 5]\n",
            "[9, 14]\n",
            "['A', 'B', 'C', 'B', 'D']\n",
            "['A', 'B', 'C', 'B', 'D', 'F']\n",
            "['A', 'C', 'B', 'D', 'F']\n",
            "3\n",
            "[4, 7, 10, 14, 15, 30, 11, 18]\n"
          ],
          "name": "stdout"
        }
      ]
    },
    {
      "cell_type": "markdown",
      "metadata": {
        "id": "qxjXBQ13pDXA"
      },
      "source": [
        "Sözlük\n",
        "hisseler={'ABCD':17.7,\n",
        "'KLMN':19,\n",
        "'XYZ':20}"
      ]
    },
    {
      "cell_type": "code",
      "metadata": {
        "id": "MfvMoyP8gnmy",
        "colab": {
          "base_uri": "https://localhost:8080/"
        },
        "outputId": "9ac82fd8-0071-4d49-de41-5040892329ac"
      },
      "source": [
        "hisseler={'ABCD':17.7,\n",
        "'KLMN':19,\n",
        "'XYZ':20}\n",
        "print(hisseler['ABCD'])"
      ],
      "execution_count": null,
      "outputs": [
        {
          "output_type": "stream",
          "text": [
            "17.7\n"
          ],
          "name": "stdout"
        }
      ]
    },
    {
      "cell_type": "code",
      "metadata": {
        "colab": {
          "base_uri": "https://localhost:8080/"
        },
        "id": "Y-KJ8oK3vgJE",
        "outputId": "591090d5-bc83-4055-bcbe-69c495374168"
      },
      "source": [
        "x=int(input(\"Sayı girişi\"))\n",
        "if(x%2!=0):\n",
        "  print(\"çift sayı\")\n",
        "else:\n",
        "  print(\"Tek sayı\")\n",
        "\n"
      ],
      "execution_count": null,
      "outputs": [
        {
          "output_type": "stream",
          "text": [
            "Sayı girişi15\n",
            "Tek sayı\n"
          ],
          "name": "stdout"
        }
      ]
    },
    {
      "cell_type": "markdown",
      "metadata": {
        "id": "PiVD_6xVxTYm"
      },
      "source": [
        "==\n",
        "!=\n",
        "<\n",
        ">\n",
        "<=\n",
        ">="
      ]
    },
    {
      "cell_type": "code",
      "metadata": {
        "colab": {
          "base_uri": "https://localhost:8080/"
        },
        "id": "Q1FScZg4wLCC",
        "outputId": "b2495ad9-cdbf-4988-ee15-5f0f44f49121"
      },
      "source": [
        "x=int(input(\"Sayı girişi\"))\n",
        "if(x>=0) & (x<=9):\n",
        "  print(\"Rakam\")\n",
        "elif(x>=10) & (x<100):\n",
        "  print(\"İki basamaklı\")\n",
        "else:\n",
        "  print(\"Çok basamaklı\")"
      ],
      "execution_count": null,
      "outputs": [
        {
          "output_type": "stream",
          "text": [
            "Sayı girişi15\n",
            "İki basamaklı\n"
          ],
          "name": "stdout"
        }
      ]
    },
    {
      "cell_type": "markdown",
      "metadata": {
        "id": "T4El78lnxbkR"
      },
      "source": [
        "while koşul:<br>\n",
        "for  değişken  in aralık:"
      ]
    },
    {
      "cell_type": "code",
      "metadata": {
        "colab": {
          "base_uri": "https://localhost:8080/"
        },
        "id": "LI1E-7x1xhB5",
        "outputId": "f5b8a704-7414-424d-8d15-4e2f45e4fc61"
      },
      "source": [
        "x=1\n",
        "while x<10:\n",
        "  print(x)\n",
        "  x+=1"
      ],
      "execution_count": null,
      "outputs": [
        {
          "output_type": "stream",
          "text": [
            "1\n",
            "2\n",
            "3\n",
            "4\n",
            "5\n",
            "6\n",
            "7\n",
            "8\n",
            "9\n"
          ],
          "name": "stdout"
        }
      ]
    },
    {
      "cell_type": "code",
      "metadata": {
        "colab": {
          "base_uri": "https://localhost:8080/"
        },
        "id": "CNWL--uXx0aR",
        "outputId": "2de7eea3-071f-4f2a-e632-56f9a23a4f60"
      },
      "source": [
        "for i in range(1,6):\n",
        "  print(i**2)\n",
        "#foreach\n",
        "liste=[\"ali\",\"Ahmet\",\"veli\"]\n",
        "for isim in liste:\n",
        "  print(isim)\n",
        "for sira,isim in enumerate(liste):\n",
        "  print(str(sira)+\":\"+str(isim))"
      ],
      "execution_count": null,
      "outputs": [
        {
          "output_type": "stream",
          "text": [
            "1\n",
            "4\n",
            "9\n",
            "16\n",
            "25\n",
            "ali\n",
            "Ahmet\n",
            "veli\n",
            "0:ali\n",
            "1:Ahmet\n",
            "2:veli\n"
          ],
          "name": "stdout"
        }
      ]
    },
    {
      "cell_type": "markdown",
      "metadata": {
        "id": "Z_tBNz8Sgnm0"
      },
      "source": [
        "---\n",
        "\n",
        "###  NumPy Temelleri\n",
        "\n",
        "---"
      ]
    },
    {
      "cell_type": "markdown",
      "metadata": {
        "id": "_KlpDQLngnm1"
      },
      "source": [
        "## NumPy -- Sayısal Diziler ile Çalışmak"
      ]
    },
    {
      "cell_type": "markdown",
      "metadata": {
        "id": "ufwIWViTgnm1"
      },
      "source": [
        "### NumPy Giriş"
      ]
    },
    {
      "cell_type": "markdown",
      "metadata": {
        "id": "mCS2F2_Wgnm3"
      },
      "source": [
        "Bu bölüm, Python'da çok boyutlu dizilerle çalışmak için NumPy kitaplığında hızlı bir tur sunar. NumPy(Numerical Python), Numarray'i 2005 yılında Numeric ile birleştirilerek oluşturuldu. O zamandan beri, açık kaynak NumPy kitaplığı, Python'da bilimsel hesaplama için temel bir kitaplığa dönüştü ve SciPy, Scikit-learn, Pandas ve diğerleri gibi diğer birçok bilimsel kitaplığın yapı taşı haline geldi.\n",
        "\n",
        "NumPy'yi bilim camiası için özellikle çekici kılan şey, çok boyutlu dizi veri yapılarıyla verimli bir şekilde çalışmak için uygun bir Python arabirimi sağlamasıdır; NumPy dizi veri yapısı, \\*n\\*-boyutlu dizinin kısaltması olan \"ndarray\" olarak da adlandırılır.\n",
        "\n",
        "Çoğunlukla C'de uygulanmaya ve Python'u bir \"tutkal dili\" olarak kullanmaya ek olarak, NumPy'nin sayısal hesaplamalar için bu kadar verimli olmasının ana nedeni, NumPy dizilerinin CPU tarafından verimli bir şekilde önbelleğe alınabilen bitişik bellek blokları kullanmasıdır. Buna karşılık, Python listeleri, bellekte rastgele konumlarda bulunan, kolayca önbelleğe alınamayan ve daha pahalı bir bellek aramasıyla gelen nesnelere yönelik işaretçi dizileridir. Ancak, hesaplama verimliliğinin ve düşük bellek ayak izinin bir bedeli vardır: NumPy dizilerinin sabit bir boyutu vardır ve homojendir; bu, tüm öğelerin aynı türde olması gerektiği anlamına gelir. Homojen 'ndarray' nesnelerinin avantajı, NumPy'nin verimli C döngüleri kullanarak işlemleri gerçekleştirebilmesi ve pahalı tür kontrollerinden ve Python API'sinin diğer genel giderlerinden kaçınmasıdır. Python listesinin sonuna eleman eklemek ve çıkarmak çok verimli olsa da, bir NumPy dizisinin boyutunu değiştirmek, yeni bir dizi oluşturmayı ve genişletmek veya küçültmek istediğimiz eski dizinin içeriğini taşımayı gerektirdiğinden çok pahalıdır.\n",
        "\n",
        "NumPy, sayısal hesaplamalar için yerel Python kodundan daha verimli olmasının yanı sıra, bu derste inceleyeceğimiz özellikler olan vektörleştirilmiş işlemler ve yayım sayesinde daha zarif ve okunabilir olabilir. Bu materyal, bu dersteki kod örneklerini takip etmek için yeterli olmalıdır."
      ]
    },
    {
      "cell_type": "markdown",
      "metadata": {
        "id": "8dqnFYBcgnm5"
      },
      "source": [
        "---\n",
        "\n",
        "NumPy, bilimsel Python hesaplama ekosisteminin temelidir\n",
        "\n",
        "<img src=\"https://raw.githubusercontent.com/rasbt/stat451-machine-learning-fs20/9e463e06a49278a3940774ef32def883e85e9cc0/L04/images/numpy-intro/numpy-nature-1.png\" alt=\"Drawing\" style=\"width: 600px;\"/>\n",
        "\n",
        "Image Source:  Harris, C.R., Millman, K.J., van der Walt, S.J., Gommers, R., Virtanen, P., Cournapeau, D., Wieser, E., Taylor, J., Berg, S., Smith, N.J. and Kern, R., 2020 [Array Programming with NumPy](https://www.nature.com/articles/s41586-020-2649-2). Nature 585, 357–362 (2020). \n",
        "\n",
        "---"
      ]
    },
    {
      "cell_type": "markdown",
      "metadata": {
        "id": "MTOajzdMgnm5"
      },
      "source": [
        "### Motivasyon: NumPy hızlıdır!"
      ]
    },
    {
      "cell_type": "markdown",
      "metadata": {
        "id": "5GmS4Y2Ognm6"
      },
      "source": [
        "NumPy'yi öğrenmenin ve kullanmanın neden yararlı olduğu konusunda size biraz motivasyon sağlamak için, Python'da (listeleri kullanarak) bir vektör nokta çarpımını hesaplama ile NumPy'yi (ayrıntılar daha sonra netleşecek) hesaplama hız karşılaştırmasına bir göz atın."
      ]
    },
    {
      "cell_type": "markdown",
      "metadata": {
        "id": "7N7qLA4_gnm6"
      },
      "source": [
        "$$\n",
        "z = \\sum_i x_i w_i = \\mathbf{x}^\\top \\mathbf{w}\n",
        "$$"
      ]
    },
    {
      "cell_type": "code",
      "metadata": {
        "colab": {
          "base_uri": "https://localhost:8080/"
        },
        "id": "2gg5tb-0zAjS",
        "outputId": "5c360bce-9096-4581-d55f-bc8a349924db"
      },
      "source": [
        "def faktoriyel(x):\n",
        "  sonuc=1\n",
        "  for i in range(2,x+1):\n",
        "    sonuc=sonuc*i\n",
        "  return sonuc\n",
        "print(faktoriyel(5))"
      ],
      "execution_count": null,
      "outputs": [
        {
          "output_type": "stream",
          "text": [
            "120\n"
          ],
          "name": "stdout"
        }
      ]
    },
    {
      "cell_type": "code",
      "metadata": {
        "id": "zqYW0UQCgnm7",
        "outputId": "d7dc4ae0-13c5-4345-d2ac-d884dc262f7f"
      },
      "source": [
        "def python_forloop_list_approach(x, w):\n",
        "    z = 0.\n",
        "    for i in range(len(x)):\n",
        "        z += x[i] * w[i]\n",
        "    return z\n",
        "\n",
        "a = [1., 2., 3.]\n",
        "b = [4., 5., 6.]\n",
        "\n",
        "print(python_forloop_list_approach(a, b))"
      ],
      "execution_count": null,
      "outputs": [
        {
          "output_type": "stream",
          "text": [
            "32.0\n"
          ],
          "name": "stdout"
        }
      ]
    },
    {
      "cell_type": "code",
      "metadata": {
        "id": "V-teIMDXgnm7",
        "outputId": "ca61f7d2-abe7-4b00-dcd2-eda0060a12d0"
      },
      "source": [
        "large_a = list(range(1000))\n",
        "large_b = list(range(1000))\n",
        "\n",
        "%timeit python_forloop_list_approach(large_a, large_b)"
      ],
      "execution_count": null,
      "outputs": [
        {
          "output_type": "stream",
          "text": [
            "93.8 µs ± 3.05 µs per loop (mean ± std. dev. of 7 runs, 10000 loops each)\n"
          ],
          "name": "stdout"
        }
      ]
    },
    {
      "cell_type": "code",
      "metadata": {
        "id": "Njnco-Djgnm8",
        "outputId": "fe356685-1870-4211-aa64-88bf859c3882"
      },
      "source": [
        "import numpy as np\n",
        "\n",
        "\n",
        "def numpy_dotproduct_approach(x, w):\n",
        "    return x.dot(w)\n",
        "\n",
        "a = np.array([1., 2., 3.])\n",
        "b = np.array([4., 5., 6.])\n",
        "\n",
        "print(numpy_dotproduct_approach(a, b))"
      ],
      "execution_count": null,
      "outputs": [
        {
          "output_type": "stream",
          "text": [
            "32.0\n"
          ],
          "name": "stdout"
        }
      ]
    },
    {
      "cell_type": "code",
      "metadata": {
        "id": "f836kiRKgnm9",
        "outputId": "6291f04e-ed60-459a-eb9a-5f2f43f62e86"
      },
      "source": [
        "large_a = np.arange(1000)\n",
        "large_b = np.arange(1000)\n",
        "\n",
        "%timeit numpy_dotproduct_approach(large_a, large_b)"
      ],
      "execution_count": null,
      "outputs": [
        {
          "output_type": "stream",
          "text": [
            "1.07 µs ± 34.1 ns per loop (mean ± std. dev. of 7 runs, 1000000 loops each)\n"
          ],
          "name": "stdout"
        }
      ]
    },
    {
      "cell_type": "markdown",
      "metadata": {
        "id": "5BskLNP4gnm9"
      },
      "source": [
        "### N-boyutlu Diziler"
      ]
    },
    {
      "cell_type": "markdown",
      "metadata": {
        "id": "CIBDWyhsgnm9"
      },
      "source": [
        "NumPy, yüksek performanslı çok boyutlu dizi veri yapıları olan [`ndarrays`](https://docs.scipy.org/doc/numpy/reference/generated/numpy.ndarray.html) nesneleri etrafında oluşturulmuştur. Sezgisel olarak, tek boyutlu bir NumPy dizisini, bir öğe vektörünü temsil eden bir veri yapısı olarak düşünebiliriz -- bunu, tüm öğelerin aynı türü paylaştığı sabit boyutlu bir Python listesi olarak düşünebilirsiniz. Benzer şekilde, iki boyutlu bir diziyi, bir matrisi veya bir Python liste listesini temsil eden bir veri yapısı olarak düşünebiliriz. NumPy dizileri, kaynak kodunda değişiklik yapılmadan derlendiyse 32 boyuta kadar olabilirken, bu girişte açıklama amacıyla daha düşük boyutlu dizilere odaklanacağız.\n",
        "\n",
        "Şimdi, bir liste listesinden iki satır ve üç sütundan oluşan iki boyutlu bir NumPy dizisi oluşturmak için dizi işlevini çağırarak NumPy ile başlayalım:"
      ]
    },
    {
      "cell_type": "code",
      "metadata": {
        "id": "jFD7VS3Rgnm_",
        "outputId": "b99b6fab-ce4e-4653-d980-523168196b82"
      },
      "source": [
        "import numpy as np\n",
        "\n",
        "\n",
        "lst = [[1, 2, 3], [4, 5, 6]]\n",
        "ary2d = np.array(lst)\n",
        "ary2d"
      ],
      "execution_count": null,
      "outputs": [
        {
          "output_type": "execute_result",
          "data": {
            "text/plain": [
              "array([[1, 2, 3],\n",
              "       [4, 5, 6]])"
            ]
          },
          "metadata": {
            "tags": []
          },
          "execution_count": 10
        }
      ]
    },
    {
      "cell_type": "markdown",
      "metadata": {
        "id": "UnfAZSl9gnm_"
      },
      "source": [
        "<img src=\"https://github.com/rasbt/stat451-machine-learning-fs20/raw/9e463e06a49278a3940774ef32def883e85e9cc0/L04/images/numpy-intro/array_1.png\" alt=\"Drawing\" style=\"width: 300px;\"/>"
      ]
    },
    {
      "cell_type": "markdown",
      "metadata": {
        "id": "jQ7N4RXWgnnA"
      },
      "source": [
        "Varsayılan olarak, NumPy, yapım sırasında dizinin türünü çıkarır. Python tamsayılarını diziye ilettiğimiz için, `ndarray` nesnesi `ary2d`, 64 bitlik bir makinede `int64` türünde olmalıdır, bunu `dtype` özniteliğine erişerek onaylayabiliriz:"
      ]
    },
    {
      "cell_type": "code",
      "metadata": {
        "id": "j2Hwrm2agnnA",
        "outputId": "a1a96b65-22e4-4f8c-8163-1b6733066cec"
      },
      "source": [
        "ary2d.dtype"
      ],
      "execution_count": null,
      "outputs": [
        {
          "output_type": "execute_result",
          "data": {
            "text/plain": [
              "dtype('int64')"
            ]
          },
          "metadata": {
            "tags": []
          },
          "execution_count": 11
        }
      ]
    },
    {
      "cell_type": "markdown",
      "metadata": {
        "id": "08mHRaA6gnnB"
      },
      "source": [
        "Farklı türlerde NumPy dizileri oluşturmak istiyorsak, `array` fonksiyonunun `dtype` parametresine bir argüman iletebiliriz, örneğin 32 bit diziler oluşturmak için `np.int32`. Desteklenen veri türlerinin tam listesi için lütfen resmi [NumPy dökümanına](https://docs.scipy.org/doc/numpy/user/basics.types.html) bakın. Bir dizi oluşturulduktan sonra, aşağıdaki örnekte gösterildiği gibi `astype` yöntemiyle veri türünü alt veri tipine(downcast) veya yeniden(recast) biçimlendirebiliriz:"
      ]
    },
    {
      "cell_type": "code",
      "metadata": {
        "id": "TgayTXOKgnnB",
        "outputId": "1cdff443-e6b2-4894-b1c0-ca421b2018e0"
      },
      "source": [
        "float32_ary = ary2d.astype(np.float32)\n",
        "float32_ary"
      ],
      "execution_count": null,
      "outputs": [
        {
          "output_type": "execute_result",
          "data": {
            "text/plain": [
              "array([[1., 2., 3.],\n",
              "       [4., 5., 6.]], dtype=float32)"
            ]
          },
          "metadata": {
            "tags": []
          },
          "execution_count": 12
        }
      ]
    },
    {
      "cell_type": "code",
      "metadata": {
        "id": "fnrmlw8ggnnC",
        "outputId": "91b79351-132b-4105-eb41-483a9c558912"
      },
      "source": [
        "float32_ary.dtype"
      ],
      "execution_count": null,
      "outputs": [
        {
          "output_type": "execute_result",
          "data": {
            "text/plain": [
              "dtype('float32')"
            ]
          },
          "metadata": {
            "tags": []
          },
          "execution_count": 13
        }
      ]
    },
    {
      "cell_type": "markdown",
      "metadata": {
        "id": "VXXaoUtzgnnC"
      },
      "source": [
        "Yukarıdaki kod parçacığı `8` döndürdü; bu, dizideki her öğenin (`ndarray`'lerin homojen olduğunu unutmayın) bellekte 8 bayt yer kapladığı anlamına gelir. Bu sonuç, `ary2d` dizisinin daha önce belirlediğimiz `int64` (64-bit tamsayı) tipine sahip olması ve 8 bitin 1 bayta eşit olması nedeniyle mantıklıdır. (`'int64'`ün, `np.int64`'ün yalnızca bir kısaltması olduğuna dikkat edin.)\n",
        "\n",
        "Bir dizideki eleman sayısını döndürmek için aşağıda gösterildiği gibi `size` özniteliğini kullanabiliriz:"
      ]
    },
    {
      "cell_type": "code",
      "metadata": {
        "id": "6u0qeOPUgnnC",
        "outputId": "b9cbbf0e-2627-43f9-840c-dcaa4028a40c"
      },
      "source": [
        "ary2d.size"
      ],
      "execution_count": null,
      "outputs": [
        {
          "output_type": "execute_result",
          "data": {
            "text/plain": [
              "6"
            ]
          },
          "metadata": {
            "tags": []
          },
          "execution_count": 14
        }
      ]
    },
    {
      "cell_type": "markdown",
      "metadata": {
        "id": "MbJO-NVVgnnD"
      },
      "source": [
        "Ve dizimizin boyut sayısı (Sezgisel olarak *boyutları(dimensions)* bir tensörün *rütbesi(rank)* olarak düşünebilirsiniz) `ndim` özniteliği aracılığıyla elde edilebilir:"
      ]
    },
    {
      "cell_type": "code",
      "metadata": {
        "id": "DMciROWdgnnD",
        "outputId": "54cb5b3a-6809-4f86-fcca-5a6aa35ece62"
      },
      "source": [
        "ary2d.ndim"
      ],
      "execution_count": null,
      "outputs": [
        {
          "output_type": "execute_result",
          "data": {
            "text/plain": [
              "2"
            ]
          },
          "metadata": {
            "tags": []
          },
          "execution_count": 15
        }
      ]
    },
    {
      "cell_type": "markdown",
      "metadata": {
        "id": "ANk-rRHsgnnE"
      },
      "source": [
        "Her dizi boyutundaki elemanların sayısıyla ilgileniyorsak (NumPy dizileri bağlamında bunlara *axes* olarak da değinebiliriz), aşağıda gösterildiği gibi `shape` özniteliğine erişebiliriz:"
      ]
    },
    {
      "cell_type": "code",
      "metadata": {
        "id": "jpLgWMHXgnnE",
        "outputId": "90156c4b-b86a-4fd6-e56c-2d0c5492d0fa"
      },
      "source": [
        "ary2d.shape"
      ],
      "execution_count": null,
      "outputs": [
        {
          "output_type": "execute_result",
          "data": {
            "text/plain": [
              "(2, 3)"
            ]
          },
          "metadata": {
            "tags": []
          },
          "execution_count": 16
        }
      ]
    },
    {
      "cell_type": "markdown",
      "metadata": {
        "id": "VwsbKU4TgnnE"
      },
      "source": [
        "`shape` daima bir tuple'dır; Yukarıdaki kod örneğinde, eğer bir matris temsili olarak düşünürsek, `ary` nesnesinin iki *satır* ve *üç* sütun `(2,3)` vardır.\n",
        "\n",
        "Benzer şekilde, tek boyutlu dizinin `shape`'i yalnızca tek bir değer içerir:"
      ]
    },
    {
      "cell_type": "code",
      "metadata": {
        "id": "OptLM3CugnnF",
        "outputId": "05b9e4ab-7ffb-4056-ac78-7e5eeda4fc0c"
      },
      "source": [
        "np.array([1, 2, 3]).shape"
      ],
      "execution_count": null,
      "outputs": [
        {
          "output_type": "execute_result",
          "data": {
            "text/plain": [
              "(3,)"
            ]
          },
          "metadata": {
            "tags": []
          },
          "execution_count": 17
        }
      ]
    },
    {
      "cell_type": "markdown",
      "metadata": {
        "id": "pgVSWnWYgnnF"
      },
      "source": [
        "---\n",
        "\n",
        "### 4.2: NumPy Dizi Oluşturma ve İndeksleme\n",
        "\n",
        "---"
      ]
    },
    {
      "cell_type": "markdown",
      "metadata": {
        "id": "BKo8e3lvgnnG"
      },
      "source": [
        "### Dizi Oluşturma Rutinleri"
      ]
    },
    {
      "cell_type": "markdown",
      "metadata": {
        "id": "3i1-h0ADgnnG"
      },
      "source": [
        "Bu bölüm, dizi oluşturma fonksiyonlarının kapsamlı olmayan bir listesini sağlar.\n",
        "Birler veya sıfırlar içeren diziler oluşturmak için basit ama kullanışlı işlevler mevcuttur:"
      ]
    },
    {
      "cell_type": "code",
      "metadata": {
        "id": "SF6O2kvsgnnG",
        "colab": {
          "base_uri": "https://localhost:8080/"
        },
        "outputId": "66adbc32-1441-4910-a11d-86577401a53a"
      },
      "source": [
        "import numpy as np\n",
        "np.ones((3, 3))\n",
        "np.ones((1,3))"
      ],
      "execution_count": null,
      "outputs": [
        {
          "output_type": "execute_result",
          "data": {
            "text/plain": [
              "array([[1., 1., 1.]])"
            ]
          },
          "metadata": {
            "tags": []
          },
          "execution_count": 82
        }
      ]
    },
    {
      "cell_type": "code",
      "metadata": {
        "id": "Murok9oegnnH",
        "outputId": "6287bbbc-47a8-424b-e442-2a69e7a84961"
      },
      "source": [
        "np.zeros((3, 3))"
      ],
      "execution_count": null,
      "outputs": [
        {
          "output_type": "execute_result",
          "data": {
            "text/plain": [
              "array([[0., 0., 0.],\n",
              "       [0., 0., 0.],\n",
              "       [0., 0., 0.]])"
            ]
          },
          "metadata": {
            "tags": []
          },
          "execution_count": 19
        }
      ]
    },
    {
      "cell_type": "markdown",
      "metadata": {
        "id": "_VUDFwa1gnnH"
      },
      "source": [
        "Birler veya sıfırlardan oluşan diziler oluşturmak, hesaplamalar için başlangıç değerlerini kullanmak istemediğimiz, ancak hemen diğer değerlerle doldurmak istediğimiz durumlarda, yer tutucu diziler olarak da yararlı olabilir.\n",
        "`0` ve `1` gibi başlangıç değerlerine ihtiyacınız yoksa `np.zero` ve `np.one` gibi sözdizimine sahip `np.empty` vardır. Ancak, diziyi belirli bir değerle doldurmak yerine, `empty` işlevi, diziyi bellekten anlamsız değerlerle oluşturur. `zeros`'ı, dizi `empty` ile oluşturan ve ardından tüm değerleri `0`'a ayarlayan bir fonksiyon olarak düşünebiliriz. -- Gerçekte hız farkı hissedilmiyor."
      ]
    },
    {
      "cell_type": "markdown",
      "metadata": {
        "id": "t1nFuYjegnnH"
      },
      "source": [
        "NumPy ayrıca, `ndarrays` gibi lineer cebir bağlamında yararlı olabilecek, kimlik matrisleri ve köşegen matrisler oluşturma işlevleriyle birlikte gelir; bu, bu bölümün ilerleyen bölümlerinde inceleyeceğimiz bir konudur."
      ]
    },
    {
      "cell_type": "code",
      "metadata": {
        "id": "tNR2zbCegnnI",
        "outputId": "0ac621aa-7430-4280-e045-3f919fa0a523"
      },
      "source": [
        "np.eye(3)"
      ],
      "execution_count": null,
      "outputs": [
        {
          "output_type": "execute_result",
          "data": {
            "text/plain": [
              "array([[1., 0., 0.],\n",
              "       [0., 1., 0.],\n",
              "       [0., 0., 1.]])"
            ]
          },
          "metadata": {
            "tags": []
          },
          "execution_count": 20
        }
      ]
    },
    {
      "cell_type": "code",
      "metadata": {
        "id": "3-6b6Yq7gnnI",
        "colab": {
          "base_uri": "https://localhost:8080/"
        },
        "outputId": "b6ad74a9-b23b-4a57-f59d-ca0acfb8e6a1"
      },
      "source": [
        "np.diag((6, 6, 6,6))"
      ],
      "execution_count": null,
      "outputs": [
        {
          "output_type": "execute_result",
          "data": {
            "text/plain": [
              "array([[6, 0, 0, 0],\n",
              "       [0, 6, 0, 0],\n",
              "       [0, 0, 6, 0],\n",
              "       [0, 0, 0, 6]])"
            ]
          },
          "metadata": {
            "tags": []
          },
          "execution_count": 85
        }
      ]
    },
    {
      "cell_type": "markdown",
      "metadata": {
        "id": "ZN2vAIYMgnnJ"
      },
      "source": [
        "Son olarak, belirli bir aralıkta sayı dizileri oluşturmak için çok kullanışlı iki fonksiyondan, yani `arange` ve `linspace`'den bahsetmek istiyorum. NumPy'nin `arange` işlevi, Python'un `range` nesneleri ile aynı sözdizimini izler: İki argüman sağlanmışsa, ilk argüman başlangıç değerini temsil eder ve ikinci değer, yarı açık bir aralığın bitiş değerini tanımlar:"
      ]
    },
    {
      "cell_type": "code",
      "metadata": {
        "id": "KfEWEGNsgnnJ",
        "outputId": "71891518-b7f5-4735-ca24-09fd12407bde"
      },
      "source": [
        "np.arange(4., 10.)"
      ],
      "execution_count": null,
      "outputs": [
        {
          "output_type": "execute_result",
          "data": {
            "text/plain": [
              "array([4., 5., 6., 7., 8., 9.])"
            ]
          },
          "metadata": {
            "tags": []
          },
          "execution_count": 22
        }
      ]
    },
    {
      "cell_type": "markdown",
      "metadata": {
        "id": "yrVNHc0kgnnJ"
      },
      "source": [
        "`arange` öğesinin de `array` işlevine benzer tür çıkarımı yaptığına dikkat edin. Yalnızca tek bir işlev argümanı sağlarsak, aralık nesnesi bu sayıyı aralığın bitiş noktası olarak kabul eder ve 0'dan başlar:"
      ]
    },
    {
      "cell_type": "code",
      "metadata": {
        "id": "pEWuJSe8gnnK",
        "colab": {
          "base_uri": "https://localhost:8080/"
        },
        "outputId": "5127bbd4-eb56-4d41-eab7-414785a678aa"
      },
      "source": [
        "np.arange(5)"
      ],
      "execution_count": null,
      "outputs": [
        {
          "output_type": "execute_result",
          "data": {
            "text/plain": [
              "array([0, 1, 2, 3, 4])"
            ]
          },
          "metadata": {
            "tags": []
          },
          "execution_count": 86
        }
      ]
    },
    {
      "cell_type": "markdown",
      "metadata": {
        "id": "8hgyr9whgnnK"
      },
      "source": [
        "Python'un `range`'ına benzer şekilde, *adımı(step)* tanımlamak için üçüncü bir argüman sağlanabilir (varsayılan adım boyutu 1'dir). Örneğin, bir ile on arasındaki tüm eşit olmayan değerlerin bir dizisini aşağıdaki gibi elde edebiliriz:"
      ]
    },
    {
      "cell_type": "code",
      "metadata": {
        "id": "8CyfPhokgnnK",
        "outputId": "0ce4e531-0c82-4926-d873-35da81cbfd09"
      },
      "source": [
        "np.arange(1., 11., 2)"
      ],
      "execution_count": null,
      "outputs": [
        {
          "output_type": "execute_result",
          "data": {
            "text/plain": [
              "array([1., 3., 5., 7., 9.])"
            ]
          },
          "metadata": {
            "tags": []
          },
          "execution_count": 24
        }
      ]
    },
    {
      "cell_type": "markdown",
      "metadata": {
        "id": "Dlt9KgHbgnnL"
      },
      "source": [
        "`linspace` işlevi, belirli bir yarı açık aralıkta belirli sayıda eşit aralıklı değer oluşturmak istiyorsak özellikle yararlıdır:"
      ]
    },
    {
      "cell_type": "code",
      "metadata": {
        "id": "PebiccMEgnnL",
        "colab": {
          "base_uri": "https://localhost:8080/"
        },
        "outputId": "a9ca091e-dd5c-4d02-a8f4-74661843d1ba"
      },
      "source": [
        "np.linspace(0., 1., num=5)\n",
        "t=np.linspace(0,np.pi,100)\n",
        "y=np.sin(t)\n",
        "print(y)"
      ],
      "execution_count": null,
      "outputs": [
        {
          "output_type": "stream",
          "text": [
            "[0.00000000e+00 3.17279335e-02 6.34239197e-02 9.50560433e-02\n",
            " 1.26592454e-01 1.58001396e-01 1.89251244e-01 2.20310533e-01\n",
            " 2.51147987e-01 2.81732557e-01 3.12033446e-01 3.42020143e-01\n",
            " 3.71662456e-01 4.00930535e-01 4.29794912e-01 4.58226522e-01\n",
            " 4.86196736e-01 5.13677392e-01 5.40640817e-01 5.67059864e-01\n",
            " 5.92907929e-01 6.18158986e-01 6.42787610e-01 6.66769001e-01\n",
            " 6.90079011e-01 7.12694171e-01 7.34591709e-01 7.55749574e-01\n",
            " 7.76146464e-01 7.95761841e-01 8.14575952e-01 8.32569855e-01\n",
            " 8.49725430e-01 8.66025404e-01 8.81453363e-01 8.95993774e-01\n",
            " 9.09631995e-01 9.22354294e-01 9.34147860e-01 9.45000819e-01\n",
            " 9.54902241e-01 9.63842159e-01 9.71811568e-01 9.78802446e-01\n",
            " 9.84807753e-01 9.89821442e-01 9.93838464e-01 9.96854776e-01\n",
            " 9.98867339e-01 9.99874128e-01 9.99874128e-01 9.98867339e-01\n",
            " 9.96854776e-01 9.93838464e-01 9.89821442e-01 9.84807753e-01\n",
            " 9.78802446e-01 9.71811568e-01 9.63842159e-01 9.54902241e-01\n",
            " 9.45000819e-01 9.34147860e-01 9.22354294e-01 9.09631995e-01\n",
            " 8.95993774e-01 8.81453363e-01 8.66025404e-01 8.49725430e-01\n",
            " 8.32569855e-01 8.14575952e-01 7.95761841e-01 7.76146464e-01\n",
            " 7.55749574e-01 7.34591709e-01 7.12694171e-01 6.90079011e-01\n",
            " 6.66769001e-01 6.42787610e-01 6.18158986e-01 5.92907929e-01\n",
            " 5.67059864e-01 5.40640817e-01 5.13677392e-01 4.86196736e-01\n",
            " 4.58226522e-01 4.29794912e-01 4.00930535e-01 3.71662456e-01\n",
            " 3.42020143e-01 3.12033446e-01 2.81732557e-01 2.51147987e-01\n",
            " 2.20310533e-01 1.89251244e-01 1.58001396e-01 1.26592454e-01\n",
            " 9.50560433e-02 6.34239197e-02 3.17279335e-02 1.22464680e-16]\n"
          ],
          "name": "stdout"
        }
      ]
    },
    {
      "cell_type": "markdown",
      "metadata": {
        "id": "govVpwpMgnnM"
      },
      "source": [
        "### Dizi İndeksleme"
      ]
    },
    {
      "cell_type": "markdown",
      "metadata": {
        "id": "jTZmhuUUgnnM"
      },
      "source": [
        "Bu bölümde, NumPy dizi öğelerini farklı indeksleme yöntemleriyle almanın temellerini gözden geçireceğiz. Basit NumPy indeksleme ve dilimleme, tek boyutlu bir dizinin ilk öğesini aldığımız aşağıdaki kod parçacığında göstereceğimiz Python listelerine benzer şekilde çalışır:"
      ]
    },
    {
      "cell_type": "code",
      "metadata": {
        "id": "ReK9-rRegnnM",
        "outputId": "d4bd1528-cb7c-4aba-dc87-a5b7111da2de"
      },
      "source": [
        "ary = np.array([1, 2, 3])\n",
        "ary[0]"
      ],
      "execution_count": null,
      "outputs": [
        {
          "output_type": "execute_result",
          "data": {
            "text/plain": [
              "1"
            ]
          },
          "metadata": {
            "tags": []
          },
          "execution_count": 26
        }
      ]
    },
    {
      "cell_type": "markdown",
      "metadata": {
        "id": "DJGrHCUqgnnM"
      },
      "source": [
        "Ayrıca, aynı Python semantiği dilimleme işlemleri için de geçerlidir. Aşağıdaki örnek, `ary` içindeki ilk iki öğenin nasıl getirileceğini gösterir:"
      ]
    },
    {
      "cell_type": "code",
      "metadata": {
        "id": "b8ITqmQjgnnN",
        "outputId": "3eb909d6-a712-40e9-8760-b0bc3e257137"
      },
      "source": [
        "ary[:2] # equivalent to ary[0:2]"
      ],
      "execution_count": null,
      "outputs": [
        {
          "output_type": "execute_result",
          "data": {
            "text/plain": [
              "array([1, 2])"
            ]
          },
          "metadata": {
            "tags": []
          },
          "execution_count": 27
        }
      ]
    },
    {
      "cell_type": "markdown",
      "metadata": {
        "id": "P6WjKjWPgnnN"
      },
      "source": [
        "Birden fazla boyutu veya ekseni olan dizilerle çalışıyorsak, indeksleme veya dilimleme işlemlerimizi aşağıdaki örnek dizisinde gösterildiği gibi virgülle ayırırız:"
      ]
    },
    {
      "cell_type": "code",
      "metadata": {
        "id": "_oBX21AQgnnN",
        "colab": {
          "base_uri": "https://localhost:8080/"
        },
        "outputId": "30c79c24-2a3a-4898-96a9-75fd7c561df2"
      },
      "source": [
        "ary = np.array([[1, 2, 3],\n",
        "                [4, 5, 6]])\n",
        "\n",
        "ary[0, 2] # upper left"
      ],
      "execution_count": null,
      "outputs": [
        {
          "output_type": "execute_result",
          "data": {
            "text/plain": [
              "3"
            ]
          },
          "metadata": {
            "tags": []
          },
          "execution_count": 89
        }
      ]
    },
    {
      "cell_type": "code",
      "metadata": {
        "id": "LQLbeJj3gnnN",
        "outputId": "7e6bc9b9-d20b-421c-9ab6-00cf1c0135c0"
      },
      "source": [
        "ary[-1, -1] # lower right"
      ],
      "execution_count": null,
      "outputs": [
        {
          "output_type": "execute_result",
          "data": {
            "text/plain": [
              "6"
            ]
          },
          "metadata": {
            "tags": []
          },
          "execution_count": 29
        }
      ]
    },
    {
      "cell_type": "code",
      "metadata": {
        "id": "IG3WHFuYgnnO",
        "outputId": "ef7229de-bfbc-4d1d-9f45-3567b9fad2bc"
      },
      "source": [
        "ary[0, 1] # first row, second column"
      ],
      "execution_count": null,
      "outputs": [
        {
          "output_type": "execute_result",
          "data": {
            "text/plain": [
              "2"
            ]
          },
          "metadata": {
            "tags": []
          },
          "execution_count": 30
        }
      ]
    },
    {
      "cell_type": "markdown",
      "metadata": {
        "id": "exlkwfyRgnnO"
      },
      "source": [
        "<img src=\"https://github.com/rasbt/stat451-machine-learning-fs20/raw/9e463e06a49278a3940774ef32def883e85e9cc0/L04/images/numpy-intro/array_2.png\" alt=\"Drawing\" style=\"width: 300px;\"/>"
      ]
    },
    {
      "cell_type": "code",
      "metadata": {
        "id": "mzKIxZ0bgnnO",
        "outputId": "95bcf300-1f15-44a9-eeb0-9cfa72cffe0f"
      },
      "source": [
        "ary[0] # entire first row"
      ],
      "execution_count": null,
      "outputs": [
        {
          "output_type": "execute_result",
          "data": {
            "text/plain": [
              "array([1, 2, 3])"
            ]
          },
          "metadata": {
            "tags": []
          },
          "execution_count": 31
        }
      ]
    },
    {
      "cell_type": "code",
      "metadata": {
        "id": "C48bfdc1gnnP",
        "outputId": "df95272b-0e21-43cb-a258-206246b2385c"
      },
      "source": [
        "ary[:, 0] # entire first column"
      ],
      "execution_count": null,
      "outputs": [
        {
          "output_type": "execute_result",
          "data": {
            "text/plain": [
              "array([1, 4])"
            ]
          },
          "metadata": {
            "tags": []
          },
          "execution_count": 32
        }
      ]
    },
    {
      "cell_type": "code",
      "metadata": {
        "id": "tjc9f5jpgnnP",
        "outputId": "a1f99d64-9a2d-48f9-ea7b-b36f63ffa6e3"
      },
      "source": [
        "ary[:, :2] # first two columns"
      ],
      "execution_count": null,
      "outputs": [
        {
          "output_type": "execute_result",
          "data": {
            "text/plain": [
              "array([[1, 2],\n",
              "       [4, 5]])"
            ]
          },
          "metadata": {
            "tags": []
          },
          "execution_count": 33
        }
      ]
    },
    {
      "cell_type": "code",
      "metadata": {
        "id": "YUfq3F2EgnnP",
        "outputId": "619616c5-1564-4959-ec9f-3e801dfeb864"
      },
      "source": [
        "ary[0, 0]"
      ],
      "execution_count": null,
      "outputs": [
        {
          "output_type": "execute_result",
          "data": {
            "text/plain": [
              "1"
            ]
          },
          "metadata": {
            "tags": []
          },
          "execution_count": 34
        }
      ]
    },
    {
      "cell_type": "markdown",
      "metadata": {
        "id": "tqJdGxeggnnQ"
      },
      "source": [
        "---\n",
        "\n",
        "### 4.3: NumPy Dizi Matematik ve Evrensel İşlevler\n",
        "\n",
        "---"
      ]
    },
    {
      "cell_type": "markdown",
      "metadata": {
        "id": "PmnPwZWCgnnQ"
      },
      "source": [
        "### Dizi Matematik ve Evrensel İşlevler"
      ]
    },
    {
      "cell_type": "markdown",
      "metadata": {
        "id": "gCqDq4jmgnnR"
      },
      "source": [
        "Önceki bölümlerde, NumPy dizilerinin nasıl oluşturulacağını ve bir dizideki farklı öğelere nasıl erişileceğini öğrendiniz. NumPy'nin `ndarray` ile çalışmayı çok verimli ve kullanışlı hale getiren temel özelliklerinden birini tanıtmanın zamanı geldi: vektörleştirme. Sıra benzeri nesneler üzerinde aritmetik işlemler yapmak istiyorsak genellikle for döngülerini kullanırken, NumPy, evrensel işlevlerin kısaltması olan *ufuncs* aracılığıyla dolaylı olarak öğe tabanlı işlemleri gerçekleştirmek için vektörleştirilmiş sarmalayıcılar sağlar.\n",
        "\n",
        "Bu yazı itibariyle, NumPy'de 60'tan fazla ufunc mevcuttur; ufuncs, derlenmiş C kodunda uygulanır ve vanilya Python'a kıyasla çok hızlı ve verimlidir. Bu bölümde en sık kullanılan ufunclara bir göz atacağız ve tam bir liste için [resmi belgeye](https://docs.scipy.org/doc/numpy/reference/ufuncs.html#available-ufuncs) göz atmanızı tavsiye ederim.\n",
        "\n",
        "Öğe bazında toplama için basit bir ufunc örneği sağlamak için, iç içe bir Python listesindeki her öğeye bir skaler eklediğimiz (burada: 1) aşağıdaki örneği göz önünde bulundurun:"
      ]
    },
    {
      "cell_type": "code",
      "metadata": {
        "id": "E2v7dY4_gnnR",
        "outputId": "81d124c3-dce7-44aa-c4ae-7d24c89eaec4"
      },
      "source": [
        "lst = [[1, 2, 3], [4, 5, 6]]\n",
        "\n",
        "for row_idx, row_val in enumerate(lst):\n",
        "    for col_idx, col_val in enumerate(row_val):\n",
        "        lst[row_idx][col_idx] += 1\n",
        "lst"
      ],
      "execution_count": null,
      "outputs": [
        {
          "output_type": "execute_result",
          "data": {
            "text/plain": [
              "[[2, 3, 4], [5, 6, 7]]"
            ]
          },
          "metadata": {
            "tags": []
          },
          "execution_count": 35
        }
      ]
    },
    {
      "cell_type": "markdown",
      "metadata": {
        "id": "06ypuuqvgnnS"
      },
      "source": [
        "Bu for-loop yaklaşımı çok ayrıntılıdır ve liste kavrayışlarını kullanarak aynı hedefe daha zarif bir şekilde ulaşabiliriz:"
      ]
    },
    {
      "cell_type": "code",
      "metadata": {
        "id": "1qy__EDugnnS",
        "outputId": "a4c3d9fe-3789-4cb9-de0f-1756b26cf82d"
      },
      "source": [
        "lst = [[1, 2, 3], [4, 5, 6]]\n",
        "[[cell + 1 for cell in row] for row in lst]"
      ],
      "execution_count": null,
      "outputs": [
        {
          "output_type": "execute_result",
          "data": {
            "text/plain": [
              "[[2, 3, 4], [5, 6, 7]]"
            ]
          },
          "metadata": {
            "tags": []
          },
          "execution_count": 36
        }
      ]
    },
    {
      "cell_type": "markdown",
      "metadata": {
        "id": "l0ZDl9jDgnnT"
      },
      "source": [
        "NumPy'nin eleman bazında skaler toplama için ufunc'unu aşağıda gösterildiği gibi kullanarak da aynısını yapabiliriz:"
      ]
    },
    {
      "cell_type": "code",
      "metadata": {
        "id": "0wC3WtkmgnnT",
        "outputId": "cc5f4813-11c1-412b-ea93-4a801769d47b"
      },
      "source": [
        "ary = np.array([[1, 2, 3], [4, 5, 6]])\n",
        "ary = np.add(ary, 1)\n",
        "ary"
      ],
      "execution_count": null,
      "outputs": [
        {
          "output_type": "execute_result",
          "data": {
            "text/plain": [
              "array([[2, 3, 4],\n",
              "       [5, 6, 7]])"
            ]
          },
          "metadata": {
            "tags": []
          },
          "execution_count": 37
        }
      ]
    },
    {
      "cell_type": "markdown",
      "metadata": {
        "id": "UKz4kV_VgnnT"
      },
      "source": [
        "Temel aritmetik işlemler için ufuncs `add`, `subtract`, `divide`, `multiply`, ve `exp`(üslü)'dir. Ancak NumPy, matematiksel operatörleri (`+`, `-`, `/`, `*` ve `**`) doğrudan kullanabilmemiz için operatör aşırı yüklemesini kullanır:"
      ]
    },
    {
      "cell_type": "code",
      "metadata": {
        "id": "dlTyKrGKgnnU",
        "outputId": "8d3c6b34-3479-403c-d6c5-d80a9a523853"
      },
      "source": [
        "ary + 1"
      ],
      "execution_count": null,
      "outputs": [
        {
          "output_type": "execute_result",
          "data": {
            "text/plain": [
              "array([[3, 4, 5],\n",
              "       [6, 7, 8]])"
            ]
          },
          "metadata": {
            "tags": []
          },
          "execution_count": 38
        }
      ]
    },
    {
      "cell_type": "code",
      "metadata": {
        "id": "5ViL0R84gnnU",
        "outputId": "e6745c43-450e-484c-b65a-fb91cf3fa096"
      },
      "source": [
        "ary**2"
      ],
      "execution_count": null,
      "outputs": [
        {
          "output_type": "execute_result",
          "data": {
            "text/plain": [
              "array([[ 4,  9, 16],\n",
              "       [25, 36, 49]])"
            ]
          },
          "metadata": {
            "tags": []
          },
          "execution_count": 39
        }
      ]
    },
    {
      "cell_type": "markdown",
      "metadata": {
        "id": "N9u7BpiGgnnV"
      },
      "source": [
        "Yukarıda, girdi olarak iki argüman alan ufunc olan *binary* ufunc örneklerini gördük. Ayrıca NumPy, `log` (doğal logaritma), `log10` (10 tabanında logoritma) ve `sqrt` (kare kök) gibi birkaç yararlı *unary* ufunc'u uygular.\n",
        "\n",
        "Genellikle, belirli bir eksen boyunca dizi öğesinin toplamını veya çarpımını hesaplamak isteriz. Bu amaçla, bir ufunc'un `reduce` işlemini kullanabiliriz. Varsayılan olarak, `reduce`, ilk eksen boyunca bir işlem uygular (`axis=0`). İki boyutlu bir dizi durumunda, ilk ekseni bir matrisin satırları olarak düşünebiliriz. Böylece, satırlar boyunca elemanların toplanması, aşağıda gösterildiği gibi bu matrisin sütun toplamlarını verir:"
      ]
    },
    {
      "cell_type": "code",
      "metadata": {
        "id": "fd_iaEX8gnnV",
        "outputId": "0c189517-b004-453f-b9f6-b62fba7a06bf"
      },
      "source": [
        "ary = np.array([[1, 2, 3], \n",
        "                [4, 5, 6]])\n",
        "\n",
        "np.add.reduce(ary) # column sumns"
      ],
      "execution_count": null,
      "outputs": [
        {
          "output_type": "execute_result",
          "data": {
            "text/plain": [
              "array([5, 7, 9])"
            ]
          },
          "metadata": {
            "tags": []
          },
          "execution_count": 40
        }
      ]
    },
    {
      "cell_type": "markdown",
      "metadata": {
        "id": "sLGw9co9gnnW"
      },
      "source": [
        "Yukarıdaki dizinin satır toplamlarını hesaplamak için `axis=1` belirtebiliriz:"
      ]
    },
    {
      "cell_type": "code",
      "metadata": {
        "id": "lLIP_EsegnnX",
        "outputId": "2e7a665b-a65c-4216-9ee7-bd524368d1ec"
      },
      "source": [
        "np.add.reduce(ary, axis=1) # row sums"
      ],
      "execution_count": null,
      "outputs": [
        {
          "output_type": "execute_result",
          "data": {
            "text/plain": [
              "array([ 6, 15])"
            ]
          },
          "metadata": {
            "tags": []
          },
          "execution_count": 41
        }
      ]
    },
    {
      "cell_type": "markdown",
      "metadata": {
        "id": "SYRr3RbMgnnY"
      },
      "source": [
        "Daha genel bir işlem olarak `reduce`'yı kullanmak daha sezgisel olsa da, NumPy ayrıca `product` ve `sum` gibi belirli işlemler için kısayollar sağlar. Örneğin, `sum(axis=0)`, `add.reduce` ile eşdeğerdir:"
      ]
    },
    {
      "cell_type": "code",
      "metadata": {
        "id": "71YCDVQFgnnY",
        "outputId": "f0a78c30-bb91-4c36-f277-32d3b85d991d"
      },
      "source": [
        "ary.sum(axis=0) # column sums"
      ],
      "execution_count": null,
      "outputs": [
        {
          "output_type": "execute_result",
          "data": {
            "text/plain": [
              "array([5, 7, 9])"
            ]
          },
          "metadata": {
            "tags": []
          },
          "execution_count": 42
        }
      ]
    },
    {
      "cell_type": "markdown",
      "metadata": {
        "id": "4sRWdgFKgnnZ"
      },
      "source": [
        "<img src=\"https://github.com/rasbt/stat451-machine-learning-fs20/raw/9e463e06a49278a3940774ef32def883e85e9cc0/L04/images/numpy-intro/ufunc.png\" alt=\"Drawing\" style=\"width: 600px;\"/>"
      ]
    },
    {
      "cell_type": "markdown",
      "metadata": {
        "id": "taB1ySVqgnnZ"
      },
      "source": [
        "Bir eksen belirtmezsek, `product` ve `sum` öğelerinin her ikisinin de tüm dizinin çarpımını veya toplamını hesapladığını unutmayın:"
      ]
    },
    {
      "cell_type": "code",
      "metadata": {
        "id": "Q5HKST3SgnnZ",
        "outputId": "f02da047-065f-41a4-9873-62c5093ee63f"
      },
      "source": [
        "ary.sum()"
      ],
      "execution_count": null,
      "outputs": [
        {
          "output_type": "execute_result",
          "data": {
            "text/plain": [
              "21"
            ]
          },
          "metadata": {
            "tags": []
          },
          "execution_count": 43
        }
      ]
    },
    {
      "cell_type": "markdown",
      "metadata": {
        "id": "Q7z-nePQgnnZ"
      },
      "source": [
        "Diğer yararlı tekli ufunc'lar şunlardır:\n",
        "\n",
        "- `np.mean` (aritmetik ortalamayı hesaplar)\n",
        "- `np.std` (standart sapmayı hesaplar)\n",
        "- `np.var` (varyansı hesaplar)\n",
        "- `np.sort` (bir diziyi sıralar)\n",
        "- `np.argsort` (bir diziyi sıralayacak dizinleri döndürür)\n",
        "- `np.min` (bir dizinin minimum değerini döndürür)\n",
        "- `np.max` (bir dizinin maksimum değerini döndürür)\n",
        "- `np.argmin` (minimum değerin indeksini döndürür)\n",
        "- `np.argmax` (maksimum değerin indeksini döndürür)\n",
        "- `np.array_equal` (iki dizinin aynı şekle ve elemanlara sahip olup olmadığını kontrol eder)"
      ]
    },
    {
      "cell_type": "markdown",
      "metadata": {
        "id": "5rZN1Ae5gnna"
      },
      "source": [
        "---\n",
        "\n",
        "### 4.4: NumPy Broadcasting\n",
        "\n",
        "---"
      ]
    },
    {
      "cell_type": "markdown",
      "metadata": {
        "id": "FSP5nWxZgnna"
      },
      "source": [
        "### Broadcasting"
      ]
    },
    {
      "cell_type": "markdown",
      "metadata": {
        "id": "XGMN2I_Kgnna"
      },
      "source": [
        "\n",
        "\n",
        "Bir önceki bölümde incelediğimiz bir konu Broadcasting. Broadcasting, örtük çok boyutlu ızgaralar oluşturarak boyutları eşleşmese bile iki dizi arasında vektörleştirilmiş işlemler gerçekleştirmemizi sağlar. Skaler ve çok boyutlu bir dizi arasında eleman bazında toplama gerçekleştirdiğimiz önceki bölümde ufuncs hakkında bilgi edinmiştiniz, ki bu yayının sadece bir örneğidir.\n",
        "\n",
        "<img src=\"https://github.com/rasbt/stat451-machine-learning-fs20/raw/9e463e06a49278a3940774ef32def883e85e9cc0/L04/images/numpy-intro/broadcasting-1.png\" alt=\"Drawing\" style=\"width: 500px;\"/>\n",
        "\n",
        "\n",
        "Doğal olarak, eşit boyutlu diziler arasında eleman bazında işlemler de gerçekleştirebiliriz:"
      ]
    },
    {
      "cell_type": "code",
      "metadata": {
        "id": "2P26DhaFgnna",
        "outputId": "b1131ffe-cf63-4798-d2da-32de8240b57c"
      },
      "source": [
        "ary1 = np.array([1, 2, 3])\n",
        "ary2 = np.array([4, 5, 6])\n",
        "\n",
        "ary1 + ary2"
      ],
      "execution_count": null,
      "outputs": [
        {
          "output_type": "execute_result",
          "data": {
            "text/plain": [
              "array([5, 7, 9])"
            ]
          },
          "metadata": {
            "tags": []
          },
          "execution_count": 44
        }
      ]
    },
    {
      "cell_type": "markdown",
      "metadata": {
        "id": "jA5QPqbwgnnb"
      },
      "source": [
        "Lineer cebirden kullandığımızın aksine, farklı şekillerde diziler de ekleyebiliriz. Yukarıdaki örnekte, iki boyutlu bir diziye bir boyutlu ekleyeceğiz, burada NumPy tek boyutlu `ary1` dizisinden örtük çok boyutlu bir ızgara oluşturur:"
      ]
    },
    {
      "cell_type": "code",
      "metadata": {
        "id": "6-jK72Hvgnnb",
        "outputId": "e973a250-7260-4d72-a302-87db73c42c7f"
      },
      "source": [
        "ary3 = np.array([[4, 5, 6], \n",
        "                 [7, 8, 9]])\n",
        "\n",
        "ary3 + ary1 # similarly, ary1 + ary3"
      ],
      "execution_count": null,
      "outputs": [
        {
          "output_type": "execute_result",
          "data": {
            "text/plain": [
              "array([[ 5,  7,  9],\n",
              "       [ 8, 10, 12]])"
            ]
          },
          "metadata": {
            "tags": []
          },
          "execution_count": 45
        }
      ]
    },
    {
      "cell_type": "markdown",
      "metadata": {
        "id": "tD2Ss_tHgnnc"
      },
      "source": [
        "<img src=\"https://github.com/rasbt/stat451-machine-learning-fs20/raw/9e463e06a49278a3940774ef32def883e85e9cc0/L04/images/numpy-intro/broadcasting-2.png\" alt=\"Drawing\" style=\"width: 500px;\"/>"
      ]
    },
    {
      "cell_type": "markdown",
      "metadata": {
        "id": "RYPYcemMgnnc"
      },
      "source": [
        "---\n",
        "\n",
        "### 4.5: NumPy Gelişmiş Dizin Oluşturma -- Bellek Görünümleri ve Kopyalar\n",
        "\n",
        "---"
      ]
    },
    {
      "cell_type": "markdown",
      "metadata": {
        "id": "bkInkm6Wgnnd"
      },
      "source": [
        "### Gelişmiş Dizin Oluşturma -- Bellek Görünümleri ve Kopyalar"
      ]
    },
    {
      "cell_type": "markdown",
      "metadata": {
        "id": "QDk-2zv1gnnd"
      },
      "source": [
        "Önceki bölümlerde, temel indeksleme ve dilimleme rutinlerini kullandık. Temel tamsayı tabanlı dizin oluşturma ve dilimlemenin bellekte NumPy dizilerinin *görünümler(views)* oluşturduğunu belirtmek önemlidir. Bellek kaynaklarından tasarruf etmek için dizilerin gereksiz kopyalarını yapmaktan kaçındığından, görünümlerle çalışmak oldukça arzu edilebilir. Bellek görünümleri kavramını göstermek için, bir dizideki ilk satıra eriştiğimiz, onu bir değişkene atadığımız ve bu değişkeni değiştirdiğimiz basit bir örnek üzerinden gidelim:\n"
      ]
    },
    {
      "cell_type": "code",
      "metadata": {
        "id": "X63wjohXgnnd",
        "outputId": "2d43208c-bfaa-43dd-f538-132c751a279b"
      },
      "source": [
        "ary = np.array([[1, 2, 3],\n",
        "                [4, 5, 6]])\n",
        "\n",
        "first_row = ary[0]\n",
        "first_row += 99\n",
        "ary"
      ],
      "execution_count": null,
      "outputs": [
        {
          "output_type": "execute_result",
          "data": {
            "text/plain": [
              "array([[100, 101, 102],\n",
              "       [  4,   5,   6]])"
            ]
          },
          "metadata": {
            "tags": []
          },
          "execution_count": 46
        }
      ]
    },
    {
      "cell_type": "markdown",
      "metadata": {
        "id": "sx0U5Ib6gnne"
      },
      "source": [
        "Yukarıdaki örnekte gördüğümüz gibi, `first_row` değerini değiştirmek orijinal diziyi de etkiledi. Bunun nedeni, `ary[0]` öğesinin `ary`'deki ilk satırın bir görünümünü oluşturması ve öğelerinin daha sonra 99 artırılmış olmasıdır. Aynı kavram dilimleme işlemleri için de geçerlidir:"
      ]
    },
    {
      "cell_type": "code",
      "metadata": {
        "id": "YXaowNn_gnnf",
        "outputId": "a537a49f-9954-46eb-874b-cf29399c8ace"
      },
      "source": [
        "ary = np.array([[1, 2, 3],\n",
        "                [4, 5, 6]])\n",
        "\n",
        "first_row = ary[:1]\n",
        "first_row += 99\n",
        "ary"
      ],
      "execution_count": null,
      "outputs": [
        {
          "output_type": "execute_result",
          "data": {
            "text/plain": [
              "array([[100, 101, 102],\n",
              "       [  4,   5,   6]])"
            ]
          },
          "metadata": {
            "tags": []
          },
          "execution_count": 47
        }
      ]
    },
    {
      "cell_type": "code",
      "metadata": {
        "id": "cHsp35n6gnnf",
        "outputId": "c7f5b9cf-51ba-40c7-8630-6fdf04c64e90"
      },
      "source": [
        "ary = np.array([[1, 2, 3],\n",
        "                [4, 5, 6]])\n",
        "\n",
        "center_col = ary[:, 1]\n",
        "center_col += 99\n",
        "ary"
      ],
      "execution_count": null,
      "outputs": [
        {
          "output_type": "execute_result",
          "data": {
            "text/plain": [
              "array([[  1, 101,   3],\n",
              "       [  4, 104,   6]])"
            ]
          },
          "metadata": {
            "tags": []
          },
          "execution_count": 48
        }
      ]
    },
    {
      "cell_type": "markdown",
      "metadata": {
        "id": "vMdo8pTwgnng"
      },
      "source": [
        "NumPy dizileriyle çalışıyorsak, **dilimlemenin görünümler oluşturduğunun** farkında olmak her zaman önemlidir -- bellekte gereksiz kopyalar oluşturmaktan kaçınarak kodumuzu hızlandırabileceğinden bazen bu istenir. Ancak, belirli senaryolarda bir dizinin bir kopyasını zorlamak isteriz; bunu aşağıda gösterildiği gibi `copy` yöntemiyle yapabiliriz:"
      ]
    },
    {
      "cell_type": "code",
      "metadata": {
        "id": "Gq8wObWtgnng",
        "outputId": "2ab020ab-4d4e-4316-f349-7290a8db5252"
      },
      "source": [
        "ary = np.array([[1, 2, 3],\n",
        "                [4, 5, 6]])\n",
        "\n",
        "second_row = ary[1].copy()\n",
        "second_row += 99\n",
        "ary"
      ],
      "execution_count": null,
      "outputs": [
        {
          "output_type": "execute_result",
          "data": {
            "text/plain": [
              "array([[1, 2, 3],\n",
              "       [4, 5, 6]])"
            ]
          },
          "metadata": {
            "tags": []
          },
          "execution_count": 49
        }
      ]
    },
    {
      "cell_type": "markdown",
      "metadata": {
        "id": "XTEmZCykgnnh"
      },
      "source": [
        "NumPy, temel tek tamsayılı indeksleme ve dilimleme işlemlerine ek olarak *fancy* indeksleme adı verilen gelişmiş indeksleme rutinlerini destekler. fancy indexing yoluyla, istenen dizi öğelerini döndürmek için bitişik olmayan tamsayı dizinlerinin nesnelerini veya liste nesnelerini kullanabiliriz. Fancy indexing, bitişik olmayan dizilerle gerçekleştirilebildiğinden, bir görünüm döndüremez - bellekten bitişik bir dilim. Bu nedenle, süslü indeksleme her zaman bir dizinin bir kopyasını döndürür - bunu akılda tutmak önemlidir. Aşağıdaki kod parçacıkları, bazı fancy indexing oluşturma örneklerini gösterir:"
      ]
    },
    {
      "cell_type": "code",
      "metadata": {
        "id": "3dkPkAVegnnh",
        "outputId": "fa19e1a9-8095-48da-fc3e-3f81f1c823c0"
      },
      "source": [
        "ary = np.array([[1, 2, 3],\n",
        "                [4, 5, 6]])\n",
        "\n",
        "ary[:, [0, 2]] # first and and last column"
      ],
      "execution_count": null,
      "outputs": [
        {
          "output_type": "execute_result",
          "data": {
            "text/plain": [
              "array([[1, 3],\n",
              "       [4, 6]])"
            ]
          },
          "metadata": {
            "tags": []
          },
          "execution_count": 50
        }
      ]
    },
    {
      "cell_type": "code",
      "metadata": {
        "id": "40KgXe83gnnh",
        "outputId": "253d8bed-1afa-4bb4-9668-37d51657fcb7"
      },
      "source": [
        "this_is_a_copy = ary[:, [0, 2]]\n",
        "this_is_a_copy += 99\n",
        "ary"
      ],
      "execution_count": null,
      "outputs": [
        {
          "output_type": "execute_result",
          "data": {
            "text/plain": [
              "array([[1, 2, 3],\n",
              "       [4, 5, 6]])"
            ]
          },
          "metadata": {
            "tags": []
          },
          "execution_count": 51
        }
      ]
    },
    {
      "cell_type": "code",
      "metadata": {
        "id": "E8YWuDUagnni",
        "outputId": "90f03b29-c54c-4405-a45c-2df6d6104a79"
      },
      "source": [
        "ary[:, [2, 0]] # first and and last column"
      ],
      "execution_count": null,
      "outputs": [
        {
          "output_type": "execute_result",
          "data": {
            "text/plain": [
              "array([[3, 1],\n",
              "       [6, 4]])"
            ]
          },
          "metadata": {
            "tags": []
          },
          "execution_count": 52
        }
      ]
    },
    {
      "cell_type": "markdown",
      "metadata": {
        "id": "9VUZ-KA5gnni"
      },
      "source": [
        "Son olarak, indeksleme için Boolean maskelerini de kullanabiliriz -- yani, `True ve `False` değer dizileri. Dizideki 3'ten büyük tüm değerleri döndürdüğümüz aşağıdaki örneği düşünün:"
      ]
    },
    {
      "cell_type": "code",
      "metadata": {
        "id": "DuUVZvG6gnni",
        "outputId": "ad46df16-d459-4942-fe00-665f223d38f6"
      },
      "source": [
        "ary = np.array([[1, 2, 3],\n",
        "                [4, 5, 6]])\n",
        "\n",
        "greater3_mask = ary > 3\n",
        "greater3_mask"
      ],
      "execution_count": null,
      "outputs": [
        {
          "output_type": "execute_result",
          "data": {
            "text/plain": [
              "array([[False, False, False],\n",
              "       [ True,  True,  True]])"
            ]
          },
          "metadata": {
            "tags": []
          },
          "execution_count": 53
        }
      ]
    },
    {
      "cell_type": "markdown",
      "metadata": {
        "id": "H4KBitO9gnnj"
      },
      "source": [
        "Bu maskeleri kullanarak, istediğimiz kriterleri verilen öğeleri seçebiliriz:"
      ]
    },
    {
      "cell_type": "code",
      "metadata": {
        "id": "hmW2AXzkgnnj",
        "outputId": "1f3ad8b2-2d1c-40dc-b1b2-de03e4a9d383"
      },
      "source": [
        "ary[greater3_mask]"
      ],
      "execution_count": null,
      "outputs": [
        {
          "output_type": "execute_result",
          "data": {
            "text/plain": [
              "array([4, 5, 6])"
            ]
          },
          "metadata": {
            "tags": []
          },
          "execution_count": 54
        }
      ]
    },
    {
      "cell_type": "markdown",
      "metadata": {
        "id": "89gs32PKgnnj"
      },
      "source": [
        "We can also chain different selection criteria using the logical *and* operator '&' or the logical *or* operator '|'. The example below demonstrates how we can select array elements that are greater than 3 and divisible by 2:\n",
        "\n",
        "Ayrıca mantıksal *and* operatörünü '&' veya mantıksal *or* operatörünü '|' kullanarak farklı seçim kriterlerini zincirleyebiliriz. Aşağıdaki örnek, 3'ten büyük ve 2'ye bölünebilen dizi öğelerini nasıl seçebileceğimizi gösterir:"
      ]
    },
    {
      "cell_type": "code",
      "metadata": {
        "id": "XzOgS2tjgnnj",
        "outputId": "75c14ef3-6c94-40dc-8b80-81a379b046a1"
      },
      "source": [
        "ary[(ary > 3) & (ary % 2 == 0)]"
      ],
      "execution_count": null,
      "outputs": [
        {
          "output_type": "execute_result",
          "data": {
            "text/plain": [
              "array([4, 6])"
            ]
          },
          "metadata": {
            "tags": []
          },
          "execution_count": 55
        }
      ]
    },
    {
      "cell_type": "markdown",
      "metadata": {
        "id": "uhLzeN5Bgnnk"
      },
      "source": [
        "Boolean dizilerini kullanarak indekslemenin de \"fancy indexing\" olarak kabul edildiğini ve dolayısıyla dizinin bir kopyasını döndürdüğünü unutmayın.\n"
      ]
    },
    {
      "cell_type": "markdown",
      "metadata": {
        "id": "RWq_D4Gognnk"
      },
      "source": [
        "---\n",
        "\n",
        "### 4.6: Rastgele Sayı Üretecleri\n",
        "\n",
        "---"
      ]
    },
    {
      "cell_type": "markdown",
      "metadata": {
        "id": "xNZe2HIMgnnk"
      },
      "source": [
        "### Rastgele Sayı Üretecleri"
      ]
    },
    {
      "cell_type": "markdown",
      "metadata": {
        "id": "cDCbZU32gnnk"
      },
      "source": [
        "Makine öğrenimi ve derin öğrenmede, genellikle rasgele sayı dizileri oluşturmamız gerekir - örneğin, optimizasyondan önce model parametrelerimizin başlangıç değerleri. NumPy, çeşitli dağılımlardan uygun şekilde rastgele sayılar ve örnekler oluşturmak için `random` alt paketine sahiptir. \n",
        "\n",
        "En yaygın olarak kullanacağımız sözde rasgele sayı üreteçlerine kısa bir genel bakış sağlamak için, tek tip bir dağılımdan rastgele bir örnek çizerek başlayalım: \n"
      ]
    },
    {
      "cell_type": "code",
      "metadata": {
        "id": "TFFbNp80gnnl",
        "colab": {
          "base_uri": "https://localhost:8080/"
        },
        "outputId": "e07971b1-5471-4adb-f73c-1c0cefb90599"
      },
      "source": [
        "np.random.seed(123)\n",
        "np.random.rand(3)\n",
        "x=np.random.rand(3,3)\n",
        "print(x)"
      ],
      "execution_count": null,
      "outputs": [
        {
          "output_type": "stream",
          "text": [
            "[[0.55131477 0.71946897 0.42310646]\n",
            " [0.9807642  0.68482974 0.4809319 ]\n",
            " [0.39211752 0.34317802 0.72904971]]\n"
          ],
          "name": "stdout"
        }
      ]
    },
    {
      "cell_type": "markdown",
      "metadata": {
        "id": "ryN9TIbrgnnl"
      },
      "source": [
        "Yukarıdaki kod parçasında önce NumPy'nin rastgele sayı üretecini tohumladık. Daha sonra, yarı açık aralıkta [0, 1) `random.rand` aracılığıyla düzgün bir dağılımdan üç rastgele örnek çektik. Sonuçlarımızın tekrarlanabilir olmasını sağladığı için, araştırma projelerinde olduğu kadar pratik uygulamalarda da tohumlama adımını şiddetle tavsiye ediyorum. Kodumuzu sıralı olarak çalıştırırsak - örneğin, bir Python betiği çalıştırırsak - farklı çalıştırmalar arasında tekrarlanabilir sonuçları zorlamak için rasgele sayı üretecini başlangıçta yalnızca bir kez tohumlamak yeterli olacaktır. Ancak, birim testlerinde fonksiyon yöntemlerini güvenilir bir şekilde test edebilmemiz için kodumuzun çeşitli bölümleri için ayrı `RandomState` nesneleri oluşturmak genellikle yararlıdır. Kodumuzu sıralı olmayan bir sırada çalıştırırsak, örneğin etkileşimli oturumlarda veya Jupyter Notebook ortamlarında kodumuzu deniyorsak, birden fazla, ayrı `RandomState` nesnesiyle çalışmak da yararlı olabilir.\n",
        "\n",
        "Aşağıdaki örnek, önceki kod parçacığında `np.random.rand` aracılığıyla elde ettiğimiz sonuçların aynısını oluşturmak için bir `RandomState` nesnesini nasıl kullanabileceğimizi gösterir:"
      ]
    },
    {
      "cell_type": "code",
      "metadata": {
        "id": "5qKVmzEhgnnl",
        "outputId": "ede4a3b0-1d60-44ea-bb78-d9f01219adce"
      },
      "source": [
        "rng1 = np.random.RandomState(seed=123)\n",
        "rng1.rand(3)"
      ],
      "execution_count": null,
      "outputs": [
        {
          "output_type": "execute_result",
          "data": {
            "text/plain": [
              "array([0.69646919, 0.28613933, 0.22685145])"
            ]
          },
          "metadata": {
            "tags": []
          },
          "execution_count": 57
        }
      ]
    },
    {
      "cell_type": "markdown",
      "metadata": {
        "id": "deWFc0Hrgnnl"
      },
      "source": [
        "---\n",
        "\n",
        "### 4.7: NumPy Dizilerini Yeniden Şekillendirme\n",
        "\n",
        "---"
      ]
    },
    {
      "cell_type": "markdown",
      "metadata": {
        "id": "vhMuF8W7gnnm"
      },
      "source": [
        "### Dizileri Yeniden Şekillendirme"
      ]
    },
    {
      "cell_type": "markdown",
      "metadata": {
        "id": "DtBpKtxZgnnm"
      },
      "source": [
        "In practice, we often run into situations where existing arrays do not have the *right* shape to perform certain computations. As you might remember from the beginning of this lecture, the size of NumPy arrays is fixed. Fortunately, this does not mean that we have to create new arrays and copy values from the old array to the new one if we want arrays of different shapes -- the size is fixed, but the shape is not. NumPy provides a `reshape` methods that allow us to obtain a view of an array with a different shape. \n",
        "\n",
        "For example, we can reshape a one-dimensional array into a two-dimensional one using `reshape` as follows:\n",
        "\n",
        "Uygulamada, genellikle mevcut dizilerin belirli hesaplamaları gerçekleştirmek için doğru şekle sahip olmadığı durumlarla karşılaşırız. Bu dersin başından hatırlayabileceğiniz gibi, NumPy dizilerinin boyutu sabittir. Neyse ki bu, farklı şekillerde diziler istiyorsak yeni diziler oluşturmamız ve değerleri eski diziden yenisine kopyalamamız gerektiği anlamına gelmez -- boyut sabittir, ancak şekil değildir. NumPy, farklı bir şekle sahip bir dizinin bir görünümünü elde etmemize izin veren bir yeniden şekillendirme yöntemleri sağlar.\n",
        "\n",
        "Örneğin, aşağıdaki gibi `reshape`'i kullanarak tek boyutlu bir diziyi iki boyutlu diziye dönüştürebiliriz:"
      ]
    },
    {
      "cell_type": "code",
      "metadata": {
        "id": "2PDjn7Bngnnm",
        "outputId": "9f3745a8-8b72-422b-f784-bd9ad8d54aa5"
      },
      "source": [
        "ary1d = np.array([1, 2, 3, 4, 5, 6])\n",
        "ary2d_view = ary1d.reshape(2, 3)\n",
        "ary2d_view"
      ],
      "execution_count": null,
      "outputs": [
        {
          "output_type": "execute_result",
          "data": {
            "text/plain": [
              "array([[1, 2, 3],\n",
              "       [4, 5, 6]])"
            ]
          },
          "metadata": {
            "tags": []
          },
          "execution_count": 58
        }
      ]
    },
    {
      "cell_type": "code",
      "metadata": {
        "id": "GhXnLQJXgnnm",
        "outputId": "5d688317-59f8-49ab-8360-7f1030e2ffa3"
      },
      "source": [
        "np.may_share_memory(ary2d_view, ary1d)"
      ],
      "execution_count": null,
      "outputs": [
        {
          "output_type": "execute_result",
          "data": {
            "text/plain": [
              "True"
            ]
          },
          "metadata": {
            "tags": []
          },
          "execution_count": 59
        }
      ]
    },
    {
      "cell_type": "markdown",
      "metadata": {
        "id": "yvv7BVWUgnnn"
      },
      "source": [
        "Her eksen boyunca istenen elemanları belirtmemiz gerekirken, yeniden şekillendirilen dizinin orijinal olanla aynı sayıda elemana sahip olduğundan emin olmamız gerekir. Ancak, her eksende sayı elemanlarını belirtmemize gerek yoktur; NumPy, yalnızca bir eksen belirtilmemişse (`-1` yer tutucusunu kullanarak) bir eksen boyunca kaç öğenin yerleştirileceğini anlayacak kadar akıllıdır:"
      ]
    },
    {
      "cell_type": "code",
      "metadata": {
        "id": "T9MJ8Eqmgnnn",
        "outputId": "bbdec3a3-7e37-4eda-b6f3-9ccc926ba053"
      },
      "source": [
        "ary1d.reshape(2, -1)"
      ],
      "execution_count": null,
      "outputs": [
        {
          "output_type": "execute_result",
          "data": {
            "text/plain": [
              "array([[1, 2, 3],\n",
              "       [4, 5, 6]])"
            ]
          },
          "metadata": {
            "tags": []
          },
          "execution_count": 60
        }
      ]
    },
    {
      "cell_type": "code",
      "metadata": {
        "id": "8tjVFCjOgnnn",
        "outputId": "9dc8fcf8-3165-4b05-807e-1ed5cd837cc9"
      },
      "source": [
        "ary1d.reshape(-1, 2)"
      ],
      "execution_count": null,
      "outputs": [
        {
          "output_type": "execute_result",
          "data": {
            "text/plain": [
              "array([[1, 2],\n",
              "       [3, 4],\n",
              "       [5, 6]])"
            ]
          },
          "metadata": {
            "tags": []
          },
          "execution_count": 61
        }
      ]
    },
    {
      "cell_type": "markdown",
      "metadata": {
        "id": "7NCV1yj-gnno"
      },
      "source": [
        "We can, of course, also use `reshape` to flatten an array:\n",
        "Elbette, bir diziyi düzleştirmek için `reshape`'i de kullanabiliriz:"
      ]
    },
    {
      "cell_type": "code",
      "metadata": {
        "id": "D5pz3SwDgnno",
        "outputId": "80a4bacf-48eb-44ab-edfe-b3fe31d54c93"
      },
      "source": [
        "ary = np.array([[[1, 2, 3],\n",
        "                [4, 5, 6]]])\n",
        "\n",
        "ary.reshape(-1)"
      ],
      "execution_count": null,
      "outputs": [
        {
          "output_type": "execute_result",
          "data": {
            "text/plain": [
              "array([1, 2, 3, 4, 5, 6])"
            ]
          },
          "metadata": {
            "tags": []
          },
          "execution_count": 62
        }
      ]
    },
    {
      "cell_type": "markdown",
      "metadata": {
        "id": "82bsZjvognno"
      },
      "source": [
        "Bazen farklı dizileri birleştirmek ile ilgileniyoruz. Ne yazık ki, NumPy dizilerinin sabit bir boyutu olduğundan, bunu yeni bir dizi oluşturmadan yapmanın etkili bir yolu yoktur. Mümkünse dizilerin birleştirilmesinden kaçınılması gerekirken - hesaplama verimliliği nedeniyle - bazen gereklidir. İki veya daha fazla dizi nesnesini birleştirmek için aşağıdaki örneklerde gösterildiği gibi NumPy'nin `concatenate` işlevini kullanabiliriz:"
      ]
    },
    {
      "cell_type": "code",
      "metadata": {
        "id": "cpbTim1rgnno",
        "outputId": "75617e8c-92c6-46cc-9d6c-cca9aee56211"
      },
      "source": [
        "ary = np.array([1, 2, 3])\n",
        "\n",
        "# stack along the first axis\n",
        "np.concatenate((ary, ary)) "
      ],
      "execution_count": null,
      "outputs": [
        {
          "output_type": "execute_result",
          "data": {
            "text/plain": [
              "array([1, 2, 3, 1, 2, 3])"
            ]
          },
          "metadata": {
            "tags": []
          },
          "execution_count": 63
        }
      ]
    },
    {
      "cell_type": "code",
      "metadata": {
        "id": "Or9ye1yNgnnp",
        "outputId": "b79ead5c-3e46-493d-ad49-7520e5d56ae3"
      },
      "source": [
        "ary = np.array([[1, 2, 3]])\n",
        "\n",
        "# stack along the first axis (here: rows)\n",
        "np.concatenate((ary, ary), axis=0) "
      ],
      "execution_count": null,
      "outputs": [
        {
          "output_type": "execute_result",
          "data": {
            "text/plain": [
              "array([[1, 2, 3],\n",
              "       [1, 2, 3]])"
            ]
          },
          "metadata": {
            "tags": []
          },
          "execution_count": 64
        }
      ]
    },
    {
      "cell_type": "code",
      "metadata": {
        "id": "yUJnuRYXgnnp",
        "outputId": "0a47f7a4-7588-425e-a8f6-8b117f6bd53e"
      },
      "source": [
        "# stack along the second axis (here: column)\n",
        "np.concatenate((ary, ary), axis=1) "
      ],
      "execution_count": null,
      "outputs": [
        {
          "output_type": "execute_result",
          "data": {
            "text/plain": [
              "array([[1, 2, 3, 1, 2, 3]])"
            ]
          },
          "metadata": {
            "tags": []
          },
          "execution_count": 65
        }
      ]
    },
    {
      "cell_type": "markdown",
      "metadata": {
        "id": "s83Xx6BTgnnp"
      },
      "source": [
        "---\n",
        "\n",
        "### 4.8: NumPy Karşılaştırma Operatörleri ve Maskeleri\n",
        "\n",
        "---"
      ]
    },
    {
      "cell_type": "markdown",
      "metadata": {
        "id": "YgO2w3Ukgnnq"
      },
      "source": [
        "### Karşılaştırma Operatörleri ve Maskeleri"
      ]
    },
    {
      "cell_type": "markdown",
      "metadata": {
        "id": "8IEDJnGGgnnq"
      },
      "source": [
        "Önceki bölümde, NumPy'deki Boole maskeleri kavramını kısaca tanıtmıştık. Boolean maskeleri, belirli bir hedef diziyle aynı şekle sahip olan (`True` ve `False` değerlerini saklayan) \"bool\" tipi dizilerdir. Örneğin, aşağıdaki 4 elemanlı diziyi düşünün. Karşılaştırma işleçlerini kullanma (örneğin`<`, `>`, `<=`, ve'>='), hedef dizide bir koşulun karşılanıp karşılanmadığına bağlı olarak `True` ve `False` öğelerinden oluşan bu dizinin bir Boolean maskesini oluşturabiliriz (burada: `ary`):"
      ]
    },
    {
      "cell_type": "code",
      "metadata": {
        "id": "2T8RA6M6gnnq",
        "outputId": "64c34691-825a-40d1-da58-fa9773e45112"
      },
      "source": [
        "ary = np.array([1, 2, 3, 4])\n",
        "mask = ary > 2\n",
        "mask"
      ],
      "execution_count": null,
      "outputs": [
        {
          "output_type": "execute_result",
          "data": {
            "text/plain": [
              "array([False, False,  True,  True])"
            ]
          },
          "metadata": {
            "tags": []
          },
          "execution_count": 66
        }
      ]
    },
    {
      "cell_type": "markdown",
      "metadata": {
        "id": "kraOwU-Pgnnq"
      },
      "source": [
        "Böyle bir Boolean maskesi yarattık, onu hedef diziden belirli girdileri seçmek için kullanabiliriz -- maskenin oluşturulduğu koşulla eşleşen girdiler):"
      ]
    },
    {
      "cell_type": "code",
      "metadata": {
        "id": "1oUmsgPDgnnr",
        "outputId": "eb84a69b-a813-45b7-9bd2-2ce264700142"
      },
      "source": [
        "ary[mask]"
      ],
      "execution_count": null,
      "outputs": [
        {
          "output_type": "execute_result",
          "data": {
            "text/plain": [
              "array([3, 4])"
            ]
          },
          "metadata": {
            "tags": []
          },
          "execution_count": 67
        }
      ]
    },
    {
      "cell_type": "markdown",
      "metadata": {
        "id": "EhZ6AuPNgnnr"
      },
      "source": [
        "Boolean maskeleri, bir dizideki öğelerin seçiminin ötesinde, bir dizideki kaç öğenin belirli bir koşulu karşıladığını saymak istediğimizde de kullanışlı olabilir:"
      ]
    },
    {
      "cell_type": "code",
      "metadata": {
        "id": "UM-AWobjgnnr",
        "outputId": "d1600956-ae02-489e-eaca-439e4c5963a1"
      },
      "source": [
        "mask"
      ],
      "execution_count": null,
      "outputs": [
        {
          "output_type": "execute_result",
          "data": {
            "text/plain": [
              "array([False, False,  True,  True])"
            ]
          },
          "metadata": {
            "tags": []
          },
          "execution_count": 68
        }
      ]
    },
    {
      "cell_type": "code",
      "metadata": {
        "id": "toljISBWgnnr",
        "outputId": "904f5fa5-ff7b-405e-b410-3bda7691af0e"
      },
      "source": [
        "mask.sum()"
      ],
      "execution_count": null,
      "outputs": [
        {
          "output_type": "execute_result",
          "data": {
            "text/plain": [
              "2"
            ]
          },
          "metadata": {
            "tags": []
          },
          "execution_count": 69
        }
      ]
    },
    {
      "cell_type": "markdown",
      "metadata": {
        "id": "Ylm53YFLgnns"
      },
      "source": [
        "`np.where`, bir dizideki belirli öğelere değer atamak için ilgili, kullanışlı bir fonksiyondur. Aşağıdaki örnekte, dizideki 2 -- ve 0'dan büyük olan tüm değerlere 1 atarız, aksi takdirde:"
      ]
    },
    {
      "cell_type": "code",
      "metadata": {
        "id": "5IK3IG_lgnns",
        "outputId": "d649d684-82b7-49a2-9919-4838c9045bb2"
      },
      "source": [
        "np.where(ary > 2, 1, 0)"
      ],
      "execution_count": null,
      "outputs": [
        {
          "output_type": "execute_result",
          "data": {
            "text/plain": [
              "array([0, 0, 1, 1])"
            ]
          },
          "metadata": {
            "tags": []
          },
          "execution_count": 70
        }
      ]
    },
    {
      "cell_type": "markdown",
      "metadata": {
        "id": "XpyxzuAUgnns"
      },
      "source": [
        "Daha karmaşık seçim kriterlerini belirtmek için kullanabileceğimiz bit tabanlı(bit-wise) operatörler de vardır:"
      ]
    },
    {
      "cell_type": "code",
      "metadata": {
        "id": "miIXQOxAgnns",
        "outputId": "9de080fc-a34a-4307-d965-740fae8eff61"
      },
      "source": [
        "ary = np.array([1, 2, 3, 4])\n",
        "mask = ary > 2\n",
        "ary[mask] = 1\n",
        "ary[~mask] = 0\n",
        "ary"
      ],
      "execution_count": null,
      "outputs": [
        {
          "output_type": "execute_result",
          "data": {
            "text/plain": [
              "array([0, 0, 1, 1])"
            ]
          },
          "metadata": {
            "tags": []
          },
          "execution_count": 71
        }
      ]
    },
    {
      "cell_type": "markdown",
      "metadata": {
        "id": "Rna8quRDgnnt"
      },
      "source": [
        "Yukarıdaki örnekteki `~` operatörü, NumPy'deki mantıksal operatörlerden biridir:    \n",
        "- A: `&`  or `np.bitwise_and`\n",
        "- Or: `|` or `np.bitwise_or`\n",
        "- Xor: `^` or `np.bitwise_xor`\n",
        "- Not: `~` or `np.bitwise_not`"
      ]
    },
    {
      "cell_type": "markdown",
      "metadata": {
        "id": "K6KIhLSBgnnt"
      },
      "source": [
        "Bu mantıksal operatörler, daha da \"complex\" Boole maskeleri oluşturmak için keyfi sayıda koşul zincirlememize izin verir. Örneğin, \"Or\" operatörünü kullanarak 3'ten büyük veya 2'den küçük tüm öğeleri aşağıdaki gibi seçebiliriz:"
      ]
    },
    {
      "cell_type": "code",
      "metadata": {
        "id": "TojRiiEIgnnt",
        "outputId": "a56019ae-c205-4381-9420-44e17e717e95"
      },
      "source": [
        "ary = np.array([1, 2, 3, 4])\n",
        "\n",
        "(ary > 3) | (ary < 2)"
      ],
      "execution_count": null,
      "outputs": [
        {
          "output_type": "execute_result",
          "data": {
            "text/plain": [
              "array([ True, False, False,  True])"
            ]
          },
          "metadata": {
            "tags": []
          },
          "execution_count": 72
        }
      ]
    },
    {
      "cell_type": "markdown",
      "metadata": {
        "id": "cosS0ytWgnnt"
      },
      "source": [
        "Örneğin, koşulu iptal etmek için `~` operatörünü kullanabiliriz:"
      ]
    },
    {
      "cell_type": "code",
      "metadata": {
        "id": "bFAsPjBvgnnu",
        "outputId": "69928a16-ab44-4f7f-a58a-7dc2292f2717"
      },
      "source": [
        "~((ary > 3) | (ary < 2))"
      ],
      "execution_count": null,
      "outputs": [
        {
          "output_type": "execute_result",
          "data": {
            "text/plain": [
              "array([False,  True,  True, False])"
            ]
          },
          "metadata": {
            "tags": []
          },
          "execution_count": 73
        }
      ]
    },
    {
      "cell_type": "markdown",
      "metadata": {
        "id": "AUre6ejFgnnu"
      },
      "source": [
        "---\n",
        "\n",
        "### 4.9: NumPy ile Lineer Cebir\n",
        "\n",
        "---"
      ]
    },
    {
      "cell_type": "markdown",
      "metadata": {
        "id": "DmW4psk4gnnu"
      },
      "source": [
        "### NumPy dizisi ile Lineer Cebir"
      ]
    },
    {
      "cell_type": "markdown",
      "metadata": {
        "id": "Ky1QEuo1gnnv"
      },
      "source": [
        "Sezgisel olarak, tek boyutlu NumPy dizilerini satır vektörlerini temsil eden veri yapıları olarak düşünebiliriz:"
      ]
    },
    {
      "cell_type": "code",
      "metadata": {
        "id": "LuToDqaTgnnv",
        "outputId": "8ffca761-e328-47de-c9ad-6cb29265e56e"
      },
      "source": [
        "row_vector = np.array([1, 2, 3])\n",
        "row_vector"
      ],
      "execution_count": null,
      "outputs": [
        {
          "output_type": "execute_result",
          "data": {
            "text/plain": [
              "array([1, 2, 3])"
            ]
          },
          "metadata": {
            "tags": []
          },
          "execution_count": 74
        }
      ]
    },
    {
      "cell_type": "markdown",
      "metadata": {
        "id": "Ov9Si7Q6gnnv"
      },
      "source": [
        "Benzer şekilde, sütun vektörleri oluşturmak için iki boyutlu dizileri kullanabiliriz:"
      ]
    },
    {
      "cell_type": "code",
      "metadata": {
        "id": "7-Eczm34gnnv",
        "colab": {
          "base_uri": "https://localhost:8080/"
        },
        "outputId": "663c60d4-b889-47eb-e56c-75ad846a2a38"
      },
      "source": [
        "column_vector = np.array([[1, 2, 3]]).reshape(-1, 1)\n",
        "column_vector"
      ],
      "execution_count": null,
      "outputs": [
        {
          "output_type": "execute_result",
          "data": {
            "text/plain": [
              "array([[1],\n",
              "       [2],\n",
              "       [3]])"
            ]
          },
          "metadata": {
            "tags": []
          },
          "execution_count": 92
        }
      ]
    },
    {
      "cell_type": "markdown",
      "metadata": {
        "id": "aOYBBOsggnnw"
      },
      "source": [
        "Tek boyutlu bir diziyi iki boyutlu diziye dönüştürmek yerine, aşağıda gösterildiği gibi yeni bir eksen ekleyebiliriz:"
      ]
    },
    {
      "cell_type": "code",
      "metadata": {
        "id": "XEQbMdKjgnnw",
        "outputId": "a33b5fad-5b09-486f-df7a-5c2b1941c8e3"
      },
      "source": [
        "row_vector[:, np.newaxis]"
      ],
      "execution_count": null,
      "outputs": [
        {
          "output_type": "execute_result",
          "data": {
            "text/plain": [
              "array([[1],\n",
              "       [2],\n",
              "       [3]])"
            ]
          },
          "metadata": {
            "tags": []
          },
          "execution_count": 76
        }
      ]
    },
    {
      "cell_type": "markdown",
      "metadata": {
        "id": "83FgD5oqgnnw"
      },
      "source": [
        "Bu bağlamda, \"np.newaxis\" öğesinin \"None\" gibi davrandığını unutmayın:"
      ]
    },
    {
      "cell_type": "code",
      "metadata": {
        "id": "1Fqqt5wugnnx",
        "outputId": "23e0b072-d520-4d52-e514-ef2dcb26eb74"
      },
      "source": [
        "row_vector[:, None]"
      ],
      "execution_count": null,
      "outputs": [
        {
          "output_type": "execute_result",
          "data": {
            "text/plain": [
              "array([[1],\n",
              "       [2],\n",
              "       [3]])"
            ]
          },
          "metadata": {
            "tags": []
          },
          "execution_count": 77
        }
      ]
    },
    {
      "cell_type": "markdown",
      "metadata": {
        "id": "OyLhx0Uegnnx"
      },
      "source": [
        "`reshape(-1, 1)`, `np.newaxis` veya `None` kullanılarak yukarıda listelenen üç yaklaşımın tümü aynı sonuçları verir - üç yaklaşımın tümü `row_vector` dizisinin kopyalarını değil görünümleri oluşturur.\n",
        "\n",
        "Lineer Cebir ekinden hatırladığımız gibi, bir sütun vektörünü sadece bir sütundan oluşan bir matris olarak düşünebiliriz. Matrisler arasında matris çarpımı yapmak için soldaki matrisin sütun sayısının sağdaki matrisin satır sayısıyla eşleşmesi gerektiğini öğrendik. NumPy'de `matmul` işlevi aracılığıyla matris çarpımı gerçekleştirebiliriz:"
      ]
    },
    {
      "cell_type": "code",
      "metadata": {
        "id": "qYydJNxHgnnx"
      },
      "source": [
        "matrix = np.array([[1, 2, 3], \n",
        "                   [4, 5, 6]])"
      ],
      "execution_count": null,
      "outputs": []
    },
    {
      "cell_type": "code",
      "metadata": {
        "id": "jlgvC0Kfgnnx",
        "outputId": "26f1d932-2510-482d-e1f4-3610c4de7ccf"
      },
      "source": [
        "np.matmul(matrix, column_vector)"
      ],
      "execution_count": null,
      "outputs": [
        {
          "output_type": "execute_result",
          "data": {
            "text/plain": [
              "array([[14],\n",
              "       [32]])"
            ]
          },
          "metadata": {
            "tags": []
          },
          "execution_count": 79
        }
      ]
    },
    {
      "cell_type": "markdown",
      "metadata": {
        "id": "xUL6VyUVgnny"
      },
      "source": [
        "<img src=\"https://github.com/rasbt/stat451-machine-learning-fs20/raw/9e463e06a49278a3940774ef32def883e85e9cc0/L04/images/numpy-intro/matmul.png\" alt=\"Drawing\" style=\"width: 300px;\"/>"
      ]
    },
    {
      "cell_type": "markdown",
      "metadata": {
        "id": "T5SRwvMIgnny"
      },
      "source": [
        "Bununla birlikte, matrisler ve vektörlerle çalışıyorsak, yayın sayesinde matrislerin ve tek boyutlu dizilerin boyutları tam olarak eşleşmezse NumPy oldukça bağışlayıcı olabilir. Aşağıdaki örnek, iki boyutlu bir dizi yerine tek boyutlu bir dizi döndürmesi dışında, matris-sütun vektör çarpımı ile aynı sonucu verir:"
      ]
    },
    {
      "cell_type": "code",
      "metadata": {
        "id": "fO_fJ-Kpgnny",
        "outputId": "63701a52-edfb-4a41-8a3d-98a86ca6be27"
      },
      "source": [
        "np.matmul(matrix, row_vector)"
      ],
      "execution_count": null,
      "outputs": [
        {
          "output_type": "execute_result",
          "data": {
            "text/plain": [
              "array([14, 32])"
            ]
          },
          "metadata": {
            "tags": []
          },
          "execution_count": 80
        }
      ]
    },
    {
      "cell_type": "markdown",
      "metadata": {
        "id": "8AGLYRq7gnnz"
      },
      "source": [
        "Benzer şekilde, iki vektör arasındaki nokta çarpımını hesaplayabiliriz (burada: vektör normu)"
      ]
    },
    {
      "cell_type": "code",
      "metadata": {
        "id": "WptBpXLPgnnz",
        "outputId": "5c5d4c4a-ed48-44c4-b336-a7237975ca61"
      },
      "source": [
        "np.matmul(row_vector, row_vector)"
      ],
      "execution_count": null,
      "outputs": [
        {
          "output_type": "execute_result",
          "data": {
            "text/plain": [
              "14"
            ]
          },
          "metadata": {
            "tags": []
          },
          "execution_count": 81
        }
      ]
    },
    {
      "cell_type": "markdown",
      "metadata": {
        "id": "5jkQBIxognnz"
      },
      "source": [
        "NumPy, bir veya iki boyutlu dizi çiftlerinde `matmul`'a benzer şekilde davranan özel bir `dot` işlevine sahiptir - ancak temeldeki uygulaması farklıdır ve belirli makinelerde ve [BLAS](https://en.wikipedia.org/wiki/Basic_Linear_Algebra_Subprograms) sürümlerinden biri veya diğeri biraz daha hızlı olabilir."
      ]
    },
    {
      "cell_type": "code",
      "metadata": {
        "id": "3q_Q768fgnnz",
        "outputId": "15e00b41-be65-49e5-f9df-cdce9330ab23"
      },
      "source": [
        "np.dot(row_vector, row_vector)"
      ],
      "execution_count": null,
      "outputs": [
        {
          "output_type": "execute_result",
          "data": {
            "text/plain": [
              "14"
            ]
          },
          "metadata": {
            "tags": []
          },
          "execution_count": 82
        }
      ]
    },
    {
      "cell_type": "code",
      "metadata": {
        "id": "i91FReHngnn0",
        "outputId": "29dbe7d7-e1d7-4d58-ebe4-344ad3019dd7"
      },
      "source": [
        "np.dot(matrix, row_vector)"
      ],
      "execution_count": null,
      "outputs": [
        {
          "output_type": "execute_result",
          "data": {
            "text/plain": [
              "array([14, 32])"
            ]
          },
          "metadata": {
            "tags": []
          },
          "execution_count": 83
        }
      ]
    },
    {
      "cell_type": "code",
      "metadata": {
        "id": "9e3dzXABgnn0",
        "outputId": "db74878a-0923-472a-b331-b6f7b6031772"
      },
      "source": [
        "np.dot(matrix, column_vector)"
      ],
      "execution_count": null,
      "outputs": [
        {
          "output_type": "execute_result",
          "data": {
            "text/plain": [
              "array([[14],\n",
              "       [32]])"
            ]
          },
          "metadata": {
            "tags": []
          },
          "execution_count": 84
        }
      ]
    },
    {
      "cell_type": "markdown",
      "metadata": {
        "id": "e3qpjKyTgnn0"
      },
      "source": [
        "Yukarıdaki örneklere benzer şekilde, iki matrisi çarpmak için `matmul` veya `dot` kullanabiliriz (burada: iki boyutlu diziler). Bu bağlamda, NumPy dizileri, gerektiğinde matrisleri transpoze etmek için kullanışlı bir `transpose` yöntemine sahiptir:"
      ]
    },
    {
      "cell_type": "code",
      "metadata": {
        "id": "mTNFHr-ggnn1",
        "outputId": "4ab8fc5f-cce7-4386-a83f-f948432095d9"
      },
      "source": [
        "matrix = np.array([[1, 2, 3], \n",
        "                   [4, 5, 6]])\n",
        "\n",
        "matrix.transpose()"
      ],
      "execution_count": null,
      "outputs": [
        {
          "output_type": "execute_result",
          "data": {
            "text/plain": [
              "array([[1, 4],\n",
              "       [2, 5],\n",
              "       [3, 6]])"
            ]
          },
          "metadata": {
            "tags": []
          },
          "execution_count": 85
        }
      ]
    },
    {
      "cell_type": "markdown",
      "metadata": {
        "id": "HOHPJ9Xjgnn1"
      },
      "source": [
        "<img src=\"https://github.com/rasbt/stat451-machine-learning-fs20/raw/9e463e06a49278a3940774ef32def883e85e9cc0/L04/images/numpy-intro/transpose.png\" alt=\"Drawing\" style=\"width: 500px;\"/>"
      ]
    },
    {
      "cell_type": "code",
      "metadata": {
        "id": "i8HYmdklgnn1",
        "outputId": "3f4ab69b-756f-45f3-c42d-07aa47550686"
      },
      "source": [
        "np.matmul(matrix, matrix.transpose())"
      ],
      "execution_count": null,
      "outputs": [
        {
          "output_type": "execute_result",
          "data": {
            "text/plain": [
              "array([[14, 32],\n",
              "       [32, 77]])"
            ]
          },
          "metadata": {
            "tags": []
          },
          "execution_count": 86
        }
      ]
    },
    {
      "cell_type": "markdown",
      "metadata": {
        "id": "YVclGpXYgnn1"
      },
      "source": [
        "<img src=\"https://github.com/rasbt/stat451-machine-learning-fs20/raw/9e463e06a49278a3940774ef32def883e85e9cc0/L04/images/numpy-intro/matmatmul.png\" alt=\"Drawing\" style=\"width: 500px;\"/>"
      ]
    },
    {
      "cell_type": "markdown",
      "metadata": {
        "id": "Jqf8rEKPgnn2"
      },
      "source": [
        "Lineer cebir işlemlerini uygulamak için `transpose` can sıkıcı bir şekilde ayrıntılı olsa da -- [PEP8's](https://www.python.org/dev/peps/pep-0008/)* satır başına 80 karakter* öneriyi düşünün -- NumPy'nin bunun için bir kısayolu var: \"T\":"
      ]
    },
    {
      "cell_type": "code",
      "metadata": {
        "id": "58Y2WHFTgnn2",
        "outputId": "42eca150-054d-4212-e411-d66b85c541f6"
      },
      "source": [
        "matrix.T"
      ],
      "execution_count": null,
      "outputs": [
        {
          "output_type": "execute_result",
          "data": {
            "text/plain": [
              "array([[1, 4],\n",
              "       [2, 5],\n",
              "       [3, 6]])"
            ]
          },
          "metadata": {
            "tags": []
          },
          "execution_count": 87
        }
      ]
    },
    {
      "cell_type": "markdown",
      "metadata": {
        "id": "4-Gou8yVgnn2"
      },
      "source": [
        "Bu bölüm, uygulamada kullandığımız NumPy dizileri üzerinde gerçekleştirilen bazı temel lineer cebir işlemlerini gösterirken, NumPy'nin lineer cebir için alt modülünün belgelerinde ek bir fonksiyon bulabilirsiniz: [`numpy.linalg`](https://docs.scipy.org/doc/numpy/reference/routines.linalg.html). NumPy'de uygulanmayan belirli bir lineer cebir rutini gerçekleştirmek istiyorsanız, [`scipy.linalg` dokümantasyonuna](https://docs.scipy.org/doc/scipy/reference/linalg.html) da başvurmaya değer-- SciPy, NumPy üzerine inşa edilmiş bir bilimsel hesaplama kütüphanesidir."
      ]
    },
    {
      "cell_type": "markdown",
      "metadata": {
        "id": "NPZAXW7jgnn2"
      },
      "source": [
        "---\n",
        "\n",
        "\n",
        "NumPy'de ayrıca özel bir [`matrix`](https://docs.scipy.org/doc/numpy/reference/generated/numpy.matrix.html) tipi olduğunu belirtmek isterim. NumPy `matrix` nesneleri NumPy dizilerine benzer ancak iki boyutla sınırlıdır. Ayrıca, matrisler belirli işlemleri dizilerden farklı tanımlar; örneğin, `*` operatörü eleman bazında çarpma yerine matris çarpımı gerçekleştirir. Ancak, NumPy `matrix`, daha genel dizi veri yapısına kıyasla bilim camiasında daha az popülerdir.\n",
        "\n",
        "\n",
        "---"
      ]
    },
    {
      "cell_type": "markdown",
      "metadata": {
        "id": "H3UKwwbRgnn3"
      },
      "source": [
        "## SciPy"
      ]
    },
    {
      "cell_type": "markdown",
      "metadata": {
        "id": "IJ_XTvX-gnn3"
      },
      "source": [
        "SciPy, Python'un bilimsel bilgi işlem yığınından başka bir açık kaynaklı kitaplıktır. SciPy, entegrasyon, optimizasyon ve NumPy'nin kapsamı dışında kalan diğer birçok hesaplama türü için alt modüller içerir. SciPy'yi burada bir kitaplık olarak ele almayacağız, çünkü daha çok NumPy'nin üzerinde bir \"eklenti\" kitaplığı olarak kabul edilebilir. Bunun yerine, ihtiyaç duyulursa, bireysel SciPy işlevini ev ödevi alıştırmaları bağlamında tartışabiliriz.\n",
        "\n",
        "Her durumda, bu kütüphanede bulunan farklı işlevlere kısa bir genel bakış için SciPy belgelerine bir göz atmanızı tavsiye ederim: [https://docs.scipy.org/doc/scipy/reference/](https://docs.scipy.org/doc/scipy/reference/)"
      ]
    },
    {
      "cell_type": "markdown",
      "metadata": {
        "id": "wmfVlTSEgnn3"
      },
      "source": [
        "---\n",
        "\n",
        "### 4.10: Matplotlib\n",
        "\n",
        "---"
      ]
    },
    {
      "cell_type": "markdown",
      "metadata": {
        "id": "kYNmaCHegnn3"
      },
      "source": [
        "## Matplotlib"
      ]
    },
    {
      "cell_type": "markdown",
      "metadata": {
        "id": "NaNDElGNgnn4"
      },
      "source": [
        "Son olarak, bu derste Matplotlib'e kısaca değineceğiz. Matplotlib, 2003 yılında John D. Hunter tarafından oluşturulan Python için bir çizim kütüphanesidir. Ne yazık ki, John D. Hunter 2012'de hastalandı ve vefat etti. Bununla birlikte, Matplot hala en olgun çizim kütüphanesidir ve bu güne kadar korunmaktadır. aslında, sürüm 3.1.1 birkaç ay önce piyasaya sürüldü\n",
        "önce, Temmuz 2019'da).\n",
        "\n",
        "Genel olarak, Matplotlib oldukça \"düşük seviyeli\" bir çizim kitaplığıdır, bu da özelleştirme için çok fazla alana sahip olduğu anlamına gelir. Matplotlib'in avantajı, çok özelleştirilebilir olmasıdır; Matplotlib'in dezavantajı, çok özelleştirilebilir olmasıdır - bazı insanlar, tüm farklı seçeneklerden dolayı onu biraz fazla ayrıntılı bulmaktadır.\n",
        "\n",
        "Her durumda, Matplotlib en yaygın kullanılan çizim kitaplığı arasındadır ve birçok veri bilimcisi ve makine öğrenimi araştırmacısı ve uygulayıcısı için ilk tercihtir.\n",
        "\n",
        "Benim düşünceme göre, Matplotlib ile çalışmanın en iyi yolu,  [https://matplotlib.org/gallery/index.html](https://matplotlib.org/gallery/index.html)'daki resmi web sitesindeki Matplotlib galerisini sık sık kullanmaktır.Kendi çizimlerinizi oluşturmak için şablonlar olarak faydalı olan, çeşitli farklı türde çizimler oluşturmak için kod örnekleri içerir. Ayrıca, Matplotlib'de tamamen yeniyseniz, [https://matplotlib.org/tutorials/index.html](https://matplotlib.org/tutorials/index.html) adresindeki öğreticileri tavsiye ederim.\n",
        "\n",
        "Bu bölümde, çok sezgisel olması gereken ve fazla açıklama gerektirmeyen çok basit birkaç örneğe bakacağız."
      ]
    },
    {
      "cell_type": "code",
      "metadata": {
        "id": "S-jUbQ17gnn4"
      },
      "source": [
        "%matplotlib inline\n",
        "import matplotlib.pyplot as plt"
      ],
      "execution_count": null,
      "outputs": []
    },
    {
      "cell_type": "markdown",
      "metadata": {
        "id": "LMbNVat-gnn4"
      },
      "source": [
        "The main plotting functions of Matplotlib are contained in the pyplot module, which we imported above. Note that the `%matplotlib inline` command is an \"IPython magic\" command -- we discussed this last lecture. This particular `%matplotlib inline` is specific to Jupyter notebooks (which, in our case, use an IPython kernel) to show the plots \"inline,\" that is, the notebook itself.\n",
        "\n",
        "Matplotlib'in ana çizim işlevleri, yukarıda içe aktardığımız pyplot modülünde bulunur. `%matplotlib inline` komutunun bir \"IPython magic\" komutu olduğuna dikkat edin -- bu son derste tartıştık. Bu özel `%matplotlib inline`, çizimleri \"satır içi(inline)\", yani not defterinin kendisini göstermek için Jupyter not defterlerine (bizim durumumuzda bir IPython çekirdeği kullanır) özeldir."
      ]
    },
    {
      "cell_type": "markdown",
      "metadata": {
        "id": "edqRr1K-gnn4"
      },
      "source": [
        "### Çizim Fonksiyonları ve Çizgiler"
      ]
    },
    {
      "cell_type": "code",
      "metadata": {
        "id": "lCym3yXGgnn5",
        "colab": {
          "base_uri": "https://localhost:8080/",
          "height": 265
        },
        "outputId": "2b2aedc9-b832-4be8-a69b-4a231673b312"
      },
      "source": [
        "import matplotlib.pyplot as plt\n",
        "x = np.linspace(0, (10*np.pi), 200)\n",
        "plt.plot(x, np.sin(x))\n",
        "plt.show()"
      ],
      "execution_count": null,
      "outputs": [
        {
          "output_type": "display_data",
          "data": {
            "image/png": "[encoded data removed]",
            "text/plain": [
              "<Figure size 432x288 with 1 Axes>"
            ]
          },
          "metadata": {
            "tags": [],
            "needs_background": "light"
          }
        }
      ]
    },
    {
      "cell_type": "markdown",
      "metadata": {
        "id": "R9plnFmbgnn5"
      },
      "source": [
        "Eksen aralıkları ve etiketler ekleyin:"
      ]
    },
    {
      "cell_type": "code",
      "metadata": {
        "id": "KloiCysCgnn5",
        "colab": {
          "base_uri": "https://localhost:8080/",
          "height": 283
        },
        "outputId": "f1cf517f-d77f-4e89-9f61-04520cd90a1d"
      },
      "source": [
        "x = np.linspace(0, 10, 100)\n",
        "plt.plot(x, np.sin(x))\n",
        "\n",
        "plt.xlim([0, 15])\n",
        "plt.ylim([-2, 2])\n",
        "\n",
        "plt.xlabel('x-axis')\n",
        "plt.ylabel('y-axis')\n",
        "\n",
        "plt.show()"
      ],
      "execution_count": null,
      "outputs": [
        {
          "output_type": "display_data",
          "data": {
            "image/png": "[encoded data removed]",
            "text/plain": [
              "<Figure size 432x288 with 1 Axes>"
            ]
          },
          "metadata": {
            "tags": [],
            "needs_background": "light"
          }
        }
      ]
    },
    {
      "cell_type": "code",
      "metadata": {
        "id": "sEns_3VSgnn6",
        "outputId": "b9dd1084-2bd1-4f06-c43a-25436a4d0450"
      },
      "source": [
        "x = np.linspace(0, 10, 100)\n",
        "\n",
        "plt.plot(x, np.sin(x), label=('sin(x)'))\n",
        "plt.plot(x, np.cos(x), label=('cos(x)'))\n",
        "\n",
        "plt.ylabel('f(x)')\n",
        "plt.xlabel('x')\n",
        "\n",
        "plt.legend(loc='lower left')\n",
        "plt.show()"
      ],
      "execution_count": null,
      "outputs": [
        {
          "output_type": "display_data",
          "data": {
            "image/png": "[encoded data removed]",
            "text/plain": [
              "<Figure size 432x288 with 1 Axes>"
            ]
          },
          "metadata": {
            "tags": [],
            "needs_background": "light"
          }
        }
      ]
    },
    {
      "cell_type": "markdown",
      "metadata": {
        "id": "n_HF-Tfbgnn6"
      },
      "source": [
        "## Dağılım Grafikleri"
      ]
    },
    {
      "cell_type": "code",
      "metadata": {
        "id": "Ld-j_YbNgnn6",
        "outputId": "a176fc2b-7e51-44e4-e0e9-3e575bc50803"
      },
      "source": [
        "rng = np.random.RandomState(123)\n",
        "x = rng.normal(size=500)\n",
        "y = rng.normal(size=500)\n",
        "\n",
        "\n",
        "plt.scatter(x, y)\n",
        "plt.show()"
      ],
      "execution_count": null,
      "outputs": [
        {
          "output_type": "display_data",
          "data": {
            "image/png": "[encoded data removed]",
            "text/plain": [
              "<Figure size 432x288 with 1 Axes>"
            ]
          },
          "metadata": {
            "tags": [],
            "needs_background": "light"
          }
        }
      ]
    },
    {
      "cell_type": "markdown",
      "metadata": {
        "id": "6KqSczrOgnn7"
      },
      "source": [
        "### Çizgi Grafikleri"
      ]
    },
    {
      "cell_type": "code",
      "metadata": {
        "id": "EadBaYmLgnn7",
        "outputId": "687c5bcf-7853-420d-dfe3-025ff3241c04"
      },
      "source": [
        "# input data\n",
        "means = [1, 2, 3]\n",
        "stddevs = [0.2, 0.4, 0.5]\n",
        "bar_labels = ['bar 1', 'bar 2', 'bar 3']\n",
        "\n",
        "\n",
        "# plot bars\n",
        "x_pos = list(range(len(bar_labels)))\n",
        "plt.bar(x_pos, means, yerr=stddevs)\n",
        "\n",
        "plt.show()"
      ],
      "execution_count": null,
      "outputs": [
        {
          "output_type": "display_data",
          "data": {
            "image/png": "[encoded data removed]",
            "text/plain": [
              "<Figure size 432x288 with 1 Axes>"
            ]
          },
          "metadata": {
            "tags": [],
            "needs_background": "light"
          }
        }
      ]
    },
    {
      "cell_type": "markdown",
      "metadata": {
        "id": "p68UP2T8gnn8"
      },
      "source": [
        "### Histogramlar"
      ]
    },
    {
      "cell_type": "code",
      "metadata": {
        "id": "hsfq8IF4gnn8",
        "colab": {
          "base_uri": "https://localhost:8080/",
          "height": 269
        },
        "outputId": "ff504bb4-51ac-40da-f089-1c820c0c8e3e"
      },
      "source": [
        "rng = np.random.RandomState(123)\n",
        "x = rng.normal(0, 20, 1000) \n",
        "\n",
        "# fixed bin size\n",
        "bins = np.arange(-100, 100, 5) # fixed bin size\n",
        "\n",
        "plt.hist(x)\n",
        "plt.show()"
      ],
      "execution_count": null,
      "outputs": [
        {
          "output_type": "display_data",
          "data": {
            "image/png": "[encoded data removed]",
            "text/plain": [
              "<Figure size 432x288 with 1 Axes>"
            ]
          },
          "metadata": {
            "tags": [],
            "needs_background": "light"
          }
        }
      ]
    },
    {
      "cell_type": "code",
      "metadata": {
        "id": "EtPsAzC8gnn8",
        "outputId": "b55211a4-65bc-458e-fedc-a9df17084d90"
      },
      "source": [
        "rng = np.random.RandomState(123)\n",
        "x1 = rng.normal(0, 20, 1000) \n",
        "x2 = rng.normal(15, 10, 1000)\n",
        "\n",
        "# fixed bin size\n",
        "bins = np.arange(-100, 100, 5) # fixed bin size\n",
        "\n",
        "plt.hist(x1, bins=bins, alpha=0.5)\n",
        "plt.hist(x2, bins=bins, alpha=0.5)\n",
        "plt.show()"
      ],
      "execution_count": null,
      "outputs": [
        {
          "output_type": "display_data",
          "data": {
            "image/png": "[encoded data removed]",
            "text/plain": [
              "<Figure size 432x288 with 1 Axes>"
            ]
          },
          "metadata": {
            "tags": [],
            "needs_background": "light"
          }
        }
      ]
    },
    {
      "cell_type": "markdown",
      "metadata": {
        "id": "5bEgbo9ognn9"
      },
      "source": [
        "### Subplots"
      ]
    },
    {
      "cell_type": "code",
      "metadata": {
        "id": "NUUuHX1Xgnn9",
        "outputId": "d6805563-2389-44cf-d935-9d52acdbee86"
      },
      "source": [
        "\n",
        "import matplotlib.pyplot as plt\n",
        "\n",
        "x = range(11)\n",
        "y = range(11)\n",
        "\n",
        "fig, ax = plt.subplots(nrows=2, ncols=3,\n",
        "                       sharex=True, sharey=True)\n",
        "\n",
        "for row in ax:\n",
        "    for col in row:\n",
        "        col.plot(x, y)\n",
        "        \n",
        "plt.show()"
      ],
      "execution_count": null,
      "outputs": [
        {
          "output_type": "display_data",
          "data": {
            "image/png": "[encoded data removed]",
            "text/plain": [
              "<Figure size 432x288 with 6 Axes>"
            ]
          },
          "metadata": {
            "tags": [],
            "needs_background": "light"
          }
        }
      ]
    },
    {
      "cell_type": "markdown",
      "metadata": {
        "id": "wL4JoJJ9gnn9"
      },
      "source": [
        "### Renkler ve İşaretleyiciler"
      ]
    },
    {
      "cell_type": "code",
      "metadata": {
        "id": "ZQTFPxlAgnn9",
        "colab": {
          "base_uri": "https://localhost:8080/",
          "height": 265
        },
        "outputId": "d222dfab-346d-4fcc-9923-94eab1f234ee"
      },
      "source": [
        "x = np.linspace(0, 10, 100)\n",
        "plt.plot(x, np.sin(x),\n",
        "         color='red',\n",
        "         marker='x',\n",
        "         linestyle='-')\n",
        "plt.show()"
      ],
      "execution_count": null,
      "outputs": [
        {
          "output_type": "display_data",
          "data": {
            "image/png": "[encoded data removed]",
            "text/plain": [
              "<Figure size 432x288 with 1 Axes>"
            ]
          },
          "metadata": {
            "tags": [],
            "needs_background": "light"
          }
        }
      ]
    },
    {
      "cell_type": "markdown",
      "metadata": {
        "id": "EMK1Rldfgnn-"
      },
      "source": [
        "### Çizimleri Kaydetme"
      ]
    },
    {
      "cell_type": "markdown",
      "metadata": {
        "id": "a-ju4mS6gnn-"
      },
      "source": [
        "Grafikleri kaydetmek için dosya formatı, dosya son eki (.eps, .svg, .jpg, .png, .pdf, .tiff, vb.) aracılığıyla kolaylıkla belirlenebilir. Şahsen, mümkün olduğunda bir vektör grafik formatı (.eps, .svg, .pdf) kullanmanızı öneririm, bu genellikle bitmap grafiklerinden (.jpg, .png, .bmp, tiff) daha küçük dosya boyutları ve sınırsız çözünürlük verir."
      ]
    },
    {
      "cell_type": "code",
      "metadata": {
        "id": "0_xh2xMWgnn-",
        "outputId": "3bfd9119-da89-4f9d-f025-86dd0bf889e9"
      },
      "source": [
        "x = np.linspace(0, 10, 100)\n",
        "plt.plot(x, np.sin(x))\n",
        "\n",
        "plt.savefig('myplot.png', dpi=300)\n",
        "plt.savefig('myplot.pdf')\n",
        "\n",
        "plt.show()"
      ],
      "execution_count": null,
      "outputs": [
        {
          "output_type": "display_data",
          "data": {
            "image/png": "[encoded data removed]",
            "text/plain": [
              "<Figure size 432x288 with 1 Axes>"
            ]
          },
          "metadata": {
            "tags": [],
            "needs_background": "light"
          }
        }
      ]
    },
    {
      "cell_type": "markdown",
      "metadata": {
        "id": "4QdLR0Rxgnn_"
      },
      "source": [
        "## Kaynaklar"
      ]
    },
    {
      "cell_type": "markdown",
      "metadata": {
        "id": "b5rwsxmHgnoA"
      },
      "source": [
        "Bu ders için okuma ödevi yok. Ancak, bu notebook'u bilgisayarınızda yukarıdan aşağıya kendi hızınızda çalıştırmalı ve çoğu problem setleri için ihtiyaç duyabileceğiniz farklı komutlar konusunda rahat olduğunuzdan emin olmalısınız.\n"
      ]
    },
    {
      "cell_type": "markdown",
      "metadata": {
        "id": "jVqSdqutgnoA"
      },
      "source": [
        "NumPy ve Matplotlib referans materyalleri:\n",
        "\n",
        "- [The official NumPy documentation](https://docs.scipy.org/doc/numpy/reference/index.html)\n",
        "- [The official Matplotlib Gallery](https://matplotlib.org/gallery/index.html)\n",
        "- [The official Matplotlib Tutorials](https://matplotlib.org/tutorials/index.html)\n",
        "\n",
        "\n",
        "NumPy ve SciPy'yi kullanmak için isteğe bağlı referans kitapları. Bu ders için bunu okumanız beklenmiyor, ancak projeleriniz için NumPy öğrenmekle ilgilenirseniz diye listeliyorum.\n",
        "\n",
        "- Rougier, N.P., 2016. [From Python to NumPy](http://www.labri.fr/perso/nrougier/from-python-to-numpy/).\n",
        "- Oliphant, T.E., 2015. [A Guide to NumPy: 2nd Edition](https://www.amazon.com/Guide-NumPy-Travis-Oliphant-PhD/dp/151730007X). USA: Travis Oliphant, independent publishing.\n",
        "- Varoquaux, G., Gouillart, E., Vahtras, O., Haenel, V., Rougier, N.P., Gommers, R., Pedregosa, F., Jędrzejewski-Szmek, Z., Virtanen, P., Combelles, C. and Pinte, D., 2015. [SciPy Lecture Notes](http://www.scipy-lectures.org/intro/numpy/index.html).\n",
        "- Harris, C.R., Millman, K.J., van der Walt, S.J. et al. [Array Programming with NumPy](https://www.nature.com/articles/s41586-020-2649-2). Nature 585, 357–362 (2020). "
      ]
    }
  ]
}