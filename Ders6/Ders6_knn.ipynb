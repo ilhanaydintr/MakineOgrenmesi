{
  "nbformat": 4,
  "nbformat_minor": 0,
  "metadata": {
    "kernelspec": {
      "display_name": "Python 3",
      "language": "python",
      "name": "python3"
    },
    "language_info": {
      "codemirror_mode": {
        "name": "ipython",
        "version": 3
      },
      "file_extension": ".py",
      "mimetype": "text/x-python",
      "name": "python",
      "nbconvert_exporter": "python",
      "pygments_lexer": "ipython3",
      "version": "3.7.1"
    },
    "colab": {
      "name": "Ders5_knn.ipynb",
      "provenance": [],
      "collapsed_sections": []
    },
    "accelerator": "GPU"
  },
  "cells": [
    {
      "cell_type": "markdown",
      "metadata": {
        "id": "VG8q2I3DH6ZF"
      },
      "source": [
        "# Makine Öğrenmesi-KNN"
      ]
    },
    {
      "cell_type": "markdown",
      "metadata": {
        "id": "Hrc3GEjmH6ZG"
      },
      "source": [
        "## 0 - Genel Import edilecek kütüphaneler"
      ]
    },
    {
      "cell_type": "markdown",
      "metadata": {
        "id": "BzLeTwpXH6ZG"
      },
      "source": [
        "Not defterinde kullanılan tüm import aktarmaları en üstte bir yerde tek bir hücreye koymayı her zaman yararlı buluyorum. Bu şekilde, bu not defterinde kodu çalıştırmak için neyin gerekli olacağını söylemek kolaydır."
      ]
    },
    {
      "cell_type": "code",
      "metadata": {
        "id": "IwX55hX-H6ZG"
      },
      "source": [
        "import pandas as pd\n",
        "import numpy as np\n",
        "import matplotlib.pyplot as plt"
      ],
      "execution_count": 1,
      "outputs": []
    },
    {
      "cell_type": "markdown",
      "metadata": {
        "id": "bn75zRIKH6ZG"
      },
      "source": [
        "## 1 -   Pandas DataFrame'e Verileri Yükleme"
      ]
    },
    {
      "cell_type": "markdown",
      "metadata": {
        "id": "49fDh4H9H6ZH"
      },
      "source": [
        "Bir sonraki kod satırı, CSV dosyasını bir Pandas `DataFrame` nesnesine okuyacaktır, böylece onu mevcut Python oturumumuzda bulundurur ve onunla çalışabiliriz:"
      ]
    },
    {
      "cell_type": "code",
      "metadata": {
        "colab": {
          "base_uri": "https://localhost:8080/"
        },
        "id": "wC8Il6CrIrFS",
        "outputId": "dfa872c9-31e9-47ea-86ef-46a943b64a27"
      },
      "source": [
        "from google.colab import drive\n",
        "drive.mount('/content/drive')"
      ],
      "execution_count": 2,
      "outputs": [
        {
          "output_type": "stream",
          "text": [
            "Mounted at /content/drive\n"
          ],
          "name": "stdout"
        }
      ]
    },
    {
      "cell_type": "code",
      "metadata": {
        "scrolled": true,
        "colab": {
          "base_uri": "https://localhost:8080/",
          "height": 204
        },
        "id": "2xG9SqfBH6ZH",
        "outputId": "5f8cad05-b184-40f1-b56f-38b18529567a"
      },
      "source": [
        "df_iris = pd.read_csv('/content/drive/MyDrive/Iris.csv')\n",
        "df_iris.tail()"
      ],
      "execution_count": 3,
      "outputs": [
        {
          "output_type": "execute_result",
          "data": {
            "text/html": [
              "<div>\n",
              "<style scoped>\n",
              "    .dataframe tbody tr th:only-of-type {\n",
              "        vertical-align: middle;\n",
              "    }\n",
              "\n",
              "    .dataframe tbody tr th {\n",
              "        vertical-align: top;\n",
              "    }\n",
              "\n",
              "    .dataframe thead th {\n",
              "        text-align: right;\n",
              "    }\n",
              "</style>\n",
              "<table border=\"1\" class=\"dataframe\">\n",
              "  <thead>\n",
              "    <tr style=\"text-align: right;\">\n",
              "      <th></th>\n",
              "      <th>Id</th>\n",
              "      <th>SepalLengthCm</th>\n",
              "      <th>SepalWidthCm</th>\n",
              "      <th>PetalLengthCm</th>\n",
              "      <th>PetalWidthCm</th>\n",
              "      <th>Species</th>\n",
              "    </tr>\n",
              "  </thead>\n",
              "  <tbody>\n",
              "    <tr>\n",
              "      <th>145</th>\n",
              "      <td>146</td>\n",
              "      <td>6.7</td>\n",
              "      <td>3.0</td>\n",
              "      <td>5.2</td>\n",
              "      <td>2.3</td>\n",
              "      <td>Iris-virginica</td>\n",
              "    </tr>\n",
              "    <tr>\n",
              "      <th>146</th>\n",
              "      <td>147</td>\n",
              "      <td>6.3</td>\n",
              "      <td>2.5</td>\n",
              "      <td>5.0</td>\n",
              "      <td>1.9</td>\n",
              "      <td>Iris-virginica</td>\n",
              "    </tr>\n",
              "    <tr>\n",
              "      <th>147</th>\n",
              "      <td>148</td>\n",
              "      <td>6.5</td>\n",
              "      <td>3.0</td>\n",
              "      <td>5.2</td>\n",
              "      <td>2.0</td>\n",
              "      <td>Iris-virginica</td>\n",
              "    </tr>\n",
              "    <tr>\n",
              "      <th>148</th>\n",
              "      <td>149</td>\n",
              "      <td>6.2</td>\n",
              "      <td>3.4</td>\n",
              "      <td>5.4</td>\n",
              "      <td>2.3</td>\n",
              "      <td>Iris-virginica</td>\n",
              "    </tr>\n",
              "    <tr>\n",
              "      <th>149</th>\n",
              "      <td>150</td>\n",
              "      <td>5.9</td>\n",
              "      <td>3.0</td>\n",
              "      <td>5.1</td>\n",
              "      <td>1.8</td>\n",
              "      <td>Iris-virginica</td>\n",
              "    </tr>\n",
              "  </tbody>\n",
              "</table>\n",
              "</div>"
            ],
            "text/plain": [
              "      Id  SepalLengthCm  ...  PetalWidthCm         Species\n",
              "145  146            6.7  ...           2.3  Iris-virginica\n",
              "146  147            6.3  ...           1.9  Iris-virginica\n",
              "147  148            6.5  ...           2.0  Iris-virginica\n",
              "148  149            6.2  ...           2.3  Iris-virginica\n",
              "149  150            5.9  ...           1.8  Iris-virginica\n",
              "\n",
              "[5 rows x 6 columns]"
            ]
          },
          "metadata": {
            "tags": []
          },
          "execution_count": 3
        }
      ]
    },
    {
      "cell_type": "markdown",
      "metadata": {
        "id": "76p7w3uVH6ZH"
      },
      "source": [
        "## 2 - Bir NumPy Dizisine Özellikleri Alma"
      ]
    },
    {
      "cell_type": "markdown",
      "metadata": {
        "id": "Yd1O0ZLUH6ZH"
      },
      "source": [
        "Son zamanlarda, scikit-learn gibi makine öğrenimi kitaplıkları Pandas DataFrame'leri desteklemeye başladı. Ancak geleneksel olarak NumPy dizileriyle çalışmak gelenekseldir. Aslında, DataFrame'ler NumPy dizilerinin üzerine inşa edilmiştir, bu nedenle NumPy dizileri biraz daha düşük seviyelidir. Btw. bir NumPy dizisini bir tensör olarak düşünebilirsiniz, NumPy dizileri olarak temsil edilen skalerler, vektörler, matrisler vb. olabilir.\n",
        "\n",
        "Sonraki kod hücresinde, DataFrame'de gömülü olan NumPy dizisine .values özniteliği aracılığıyla erişiyoruz. Daha spesifik olarak, bir X değişkenine yalnızca 'PetalLength[cm]', 'PetalWidth[cm]' 2 özellik sütununu atadık. Burada X, 150x2 şeklinde NumPy dizisine başvurur (bunu bir matris olarak düşünebilirsiniz)."
      ]
    },
    {
      "cell_type": "code",
      "metadata": {
        "colab": {
          "base_uri": "https://localhost:8080/"
        },
        "id": "CDfaVTKbH6ZI",
        "outputId": "0ec1aec2-c92f-4b67-921a-8c9971818102"
      },
      "source": [
        "X = df_iris[['PetalLengthCm', 'PetalWidthCm']].values\n",
        "print(X.shape)"
      ],
      "execution_count": 6,
      "outputs": [
        {
          "output_type": "stream",
          "text": [
            "(150, 2)\n"
          ],
          "name": "stdout"
        }
      ]
    },
    {
      "cell_type": "markdown",
      "metadata": {
        "id": "-x6Qgqn1H6ZI"
      },
      "source": [
        "Sonraki hücre veri setindeki ilk 5 kaydı gösterir."
      ]
    },
    {
      "cell_type": "code",
      "metadata": {
        "colab": {
          "base_uri": "https://localhost:8080/"
        },
        "id": "uEZ9c0ySH6ZI",
        "outputId": "f819346a-e842-4e88-e662-348519554d1c"
      },
      "source": [
        "X[:5, :]"
      ],
      "execution_count": 7,
      "outputs": [
        {
          "output_type": "execute_result",
          "data": {
            "text/plain": [
              "array([[1.4, 0.2],\n",
              "       [1.4, 0.2],\n",
              "       [1.3, 0.2],\n",
              "       [1.5, 0.2],\n",
              "       [1.4, 0.2]])"
            ]
          },
          "metadata": {
            "tags": []
          },
          "execution_count": 7
        }
      ]
    },
    {
      "cell_type": "markdown",
      "metadata": {
        "id": "VxJrLhyYH6ZI"
      },
      "source": [
        "## 3 - Sınıf Etiketlerini Numpy Dizisine Aktarma"
      ]
    },
    {
      "cell_type": "markdown",
      "metadata": {
        "id": "qfctsHphH6ZI"
      },
      "source": [
        "Nitelikleri yeni bir \"X\" değişkenine atamaya benzer şekilde, şimdi sınıf etiketlerini \"y\" olarak adlandıracağımız yeni bir değişkene atadık. Ancak, bunu yapmadan önce, bir 'string' temsilinden sınıf etiketlerini bir 'int' (tamsayı) biçiminde eşleştirelim. Bunun için veri çerçevesine yeni bir \"ClassLabel\" sütunu ekliyoruz:"
      ]
    },
    {
      "cell_type": "code",
      "metadata": {
        "colab": {
          "base_uri": "https://localhost:8080/",
          "height": 204
        },
        "id": "_S-Ez9X2H6ZI",
        "outputId": "9bdcab00-1579-4b8a-9252-3c75e8762c9e"
      },
      "source": [
        "label_dict = {'Iris-setosa': 0,\n",
        "              'Iris-versicolor': 1,\n",
        "              'Iris-virginica': 2}\n",
        "\n",
        "df_iris['ClassLabel'] = df_iris['Species'].map(label_dict)\n",
        "df_iris.tail()"
      ],
      "execution_count": 8,
      "outputs": [
        {
          "output_type": "execute_result",
          "data": {
            "text/html": [
              "<div>\n",
              "<style scoped>\n",
              "    .dataframe tbody tr th:only-of-type {\n",
              "        vertical-align: middle;\n",
              "    }\n",
              "\n",
              "    .dataframe tbody tr th {\n",
              "        vertical-align: top;\n",
              "    }\n",
              "\n",
              "    .dataframe thead th {\n",
              "        text-align: right;\n",
              "    }\n",
              "</style>\n",
              "<table border=\"1\" class=\"dataframe\">\n",
              "  <thead>\n",
              "    <tr style=\"text-align: right;\">\n",
              "      <th></th>\n",
              "      <th>Id</th>\n",
              "      <th>SepalLengthCm</th>\n",
              "      <th>SepalWidthCm</th>\n",
              "      <th>PetalLengthCm</th>\n",
              "      <th>PetalWidthCm</th>\n",
              "      <th>Species</th>\n",
              "      <th>ClassLabel</th>\n",
              "    </tr>\n",
              "  </thead>\n",
              "  <tbody>\n",
              "    <tr>\n",
              "      <th>145</th>\n",
              "      <td>146</td>\n",
              "      <td>6.7</td>\n",
              "      <td>3.0</td>\n",
              "      <td>5.2</td>\n",
              "      <td>2.3</td>\n",
              "      <td>Iris-virginica</td>\n",
              "      <td>2</td>\n",
              "    </tr>\n",
              "    <tr>\n",
              "      <th>146</th>\n",
              "      <td>147</td>\n",
              "      <td>6.3</td>\n",
              "      <td>2.5</td>\n",
              "      <td>5.0</td>\n",
              "      <td>1.9</td>\n",
              "      <td>Iris-virginica</td>\n",
              "      <td>2</td>\n",
              "    </tr>\n",
              "    <tr>\n",
              "      <th>147</th>\n",
              "      <td>148</td>\n",
              "      <td>6.5</td>\n",
              "      <td>3.0</td>\n",
              "      <td>5.2</td>\n",
              "      <td>2.0</td>\n",
              "      <td>Iris-virginica</td>\n",
              "      <td>2</td>\n",
              "    </tr>\n",
              "    <tr>\n",
              "      <th>148</th>\n",
              "      <td>149</td>\n",
              "      <td>6.2</td>\n",
              "      <td>3.4</td>\n",
              "      <td>5.4</td>\n",
              "      <td>2.3</td>\n",
              "      <td>Iris-virginica</td>\n",
              "      <td>2</td>\n",
              "    </tr>\n",
              "    <tr>\n",
              "      <th>149</th>\n",
              "      <td>150</td>\n",
              "      <td>5.9</td>\n",
              "      <td>3.0</td>\n",
              "      <td>5.1</td>\n",
              "      <td>1.8</td>\n",
              "      <td>Iris-virginica</td>\n",
              "      <td>2</td>\n",
              "    </tr>\n",
              "  </tbody>\n",
              "</table>\n",
              "</div>"
            ],
            "text/plain": [
              "      Id  SepalLengthCm  SepalWidthCm  ...  PetalWidthCm         Species ClassLabel\n",
              "145  146            6.7           3.0  ...           2.3  Iris-virginica          2\n",
              "146  147            6.3           2.5  ...           1.9  Iris-virginica          2\n",
              "147  148            6.5           3.0  ...           2.0  Iris-virginica          2\n",
              "148  149            6.2           3.4  ...           2.3  Iris-virginica          2\n",
              "149  150            5.9           3.0  ...           1.8  Iris-virginica          2\n",
              "\n",
              "[5 rows x 7 columns]"
            ]
          },
          "metadata": {
            "tags": []
          },
          "execution_count": 8
        }
      ]
    },
    {
      "cell_type": "markdown",
      "metadata": {
        "id": "P-bptVisH6ZJ"
      },
      "source": [
        "Ardından, öncekine benzer şekilde, temel NumPy dizisine \".values\" özniteliği aracılığıyla başvurur ve onu bir \"y\" değişkenine atarız:"
      ]
    },
    {
      "cell_type": "code",
      "metadata": {
        "colab": {
          "base_uri": "https://localhost:8080/"
        },
        "id": "naYyWJmSH6ZJ",
        "outputId": "f3495c3c-5372-4789-ba0a-4e2324cb62cf"
      },
      "source": [
        "y = df_iris['ClassLabel'].values\n",
        "y[:10]"
      ],
      "execution_count": 9,
      "outputs": [
        {
          "output_type": "execute_result",
          "data": {
            "text/plain": [
              "array([0, 0, 0, 0, 0, 0, 0, 0, 0, 0])"
            ]
          },
          "metadata": {
            "tags": []
          },
          "execution_count": 9
        }
      ]
    },
    {
      "cell_type": "markdown",
      "metadata": {
        "id": "W2ejCciDH6ZJ"
      },
      "source": [
        "Bir sonraki görev, veri kümesini bir eğitim ve bir test kümesine bölmektir. İlk 10 girişin hepsinin sıfır olduğuna dikkat edin. Bunun nedeni, veri kümesinin henüz karıştırılmamış olmasıdır. Dolayısıyla, İris'te \"y\" vektörü 50 0, 50 1 ve 50 2'den oluşacaktır (sırasıyla).\n",
        "\n",
        "Bu nedenle, ilk 100 girişi bir eğitim setine ve son 50 girişi test setine atasaydık biraz problemli olurdu. Nedenini görebiliyor musun?\n",
        "\n"
      ]
    },
    {
      "cell_type": "markdown",
      "metadata": {
        "id": "F18J0oGLH6ZJ"
      },
      "source": [
        "## 4 - Veri Kümesini Karıştırın ve Eğitim ve Test Alt Kümeleri Oluşturun"
      ]
    },
    {
      "cell_type": "markdown",
      "metadata": {
        "id": "77XL7wcqH6ZJ"
      },
      "source": [
        "Veri setini eğitim ve test seti olarak ikiye ayırmak için önce veri setini karıştıracağız. Örnekleme amacıyla, bunu birkaç adımda yapacağız.\n",
        "\n",
        "İlk adımda, veri setimizin bir indeks dizisini oluşturuyoruz:"
      ]
    },
    {
      "cell_type": "code",
      "metadata": {
        "colab": {
          "base_uri": "https://localhost:8080/"
        },
        "id": "98MTAhFxH6ZK",
        "outputId": "1c88db78-0b4b-4eb0-b0e8-72da12b1c151"
      },
      "source": [
        "indices = np.arange(y.shape[0])\n",
        "indices"
      ],
      "execution_count": 10,
      "outputs": [
        {
          "output_type": "execute_result",
          "data": {
            "text/plain": [
              "array([  0,   1,   2,   3,   4,   5,   6,   7,   8,   9,  10,  11,  12,\n",
              "        13,  14,  15,  16,  17,  18,  19,  20,  21,  22,  23,  24,  25,\n",
              "        26,  27,  28,  29,  30,  31,  32,  33,  34,  35,  36,  37,  38,\n",
              "        39,  40,  41,  42,  43,  44,  45,  46,  47,  48,  49,  50,  51,\n",
              "        52,  53,  54,  55,  56,  57,  58,  59,  60,  61,  62,  63,  64,\n",
              "        65,  66,  67,  68,  69,  70,  71,  72,  73,  74,  75,  76,  77,\n",
              "        78,  79,  80,  81,  82,  83,  84,  85,  86,  87,  88,  89,  90,\n",
              "        91,  92,  93,  94,  95,  96,  97,  98,  99, 100, 101, 102, 103,\n",
              "       104, 105, 106, 107, 108, 109, 110, 111, 112, 113, 114, 115, 116,\n",
              "       117, 118, 119, 120, 121, 122, 123, 124, 125, 126, 127, 128, 129,\n",
              "       130, 131, 132, 133, 134, 135, 136, 137, 138, 139, 140, 141, 142,\n",
              "       143, 144, 145, 146, 147, 148, 149])"
            ]
          },
          "metadata": {
            "tags": []
          },
          "execution_count": 10
        }
      ]
    },
    {
      "cell_type": "markdown",
      "metadata": {
        "id": "UvHYLBkYH6ZK"
      },
      "source": [
        "Ardından, bu dizin dizisini karıştırıyoruz. Diğer insanların sonuçları yeniden üretebilmesi için rastgele bir tohum kullandığımızı unutmayın. Bu, başka biri bu kodu farklı bir bilgisayarda kullanırsa, kişinin aynı karıştırma sırasını alacağı anlamına gelir."
      ]
    },
    {
      "cell_type": "code",
      "metadata": {
        "colab": {
          "base_uri": "https://localhost:8080/"
        },
        "id": "9qhpaoBAH6ZK",
        "outputId": "e5dae10b-0663-4479-8e33-63fa9a8762de"
      },
      "source": [
        "rnd = np.random.RandomState(123)\n",
        "shuffled_indices = rnd.permutation(indices)\n",
        "shuffled_indices"
      ],
      "execution_count": 11,
      "outputs": [
        {
          "output_type": "execute_result",
          "data": {
            "text/plain": [
              "array([ 72, 112, 132,  88,  37, 138,  87,  42,   8,  90, 141,  33,  59,\n",
              "       116, 135, 104,  36,  13,  63,  45,  28, 133,  24, 127,  46,  20,\n",
              "        31, 121, 117,   4, 130, 119,  29,   0,  62,  93, 131,   5,  16,\n",
              "        82,  60,  35, 143, 145, 142, 114, 136,  53,  19,  38, 110,  23,\n",
              "         9,  86,  91,  89,  79, 101,  65, 115,  41, 124,  95,  21,  11,\n",
              "       103,  74, 122, 118,  44,  51,  81, 149,  12, 129,  56,  50,  25,\n",
              "       128, 146,  43,   1,  71,  54, 100,  14,   6,  80,  26,  70, 139,\n",
              "        30, 108,  15,  18,  77,  22,  10,  58, 107,  75,  64,  69,   3,\n",
              "        40,  76, 134,  34,  27,  94,  85,  97, 102,  52,  92,  99, 105,\n",
              "         7,  48,  61, 120, 137, 125, 147,  39,  84,   2,  67,  55,  49,\n",
              "        68, 140,  78, 144, 111,  32,  73,  47, 148, 113,  96,  57, 123,\n",
              "       106,  83,  17,  98,  66, 126, 109])"
            ]
          },
          "metadata": {
            "tags": []
          },
          "execution_count": 11
        }
      ]
    },
    {
      "cell_type": "markdown",
      "metadata": {
        "id": "y0CuP319H6ZK"
      },
      "source": [
        "Karıştırılmış indekslere sahip olduğumuza göre, bunları hem \"X\" hem de \"y\" özelliklerini birbirine göre karıştırmak için kullanabiliriz -- bunu, \"X\" ve \"y\"deki özellik ve etiket arasındaki uyumu korumak için yapıyoruz:"
      ]
    },
    {
      "cell_type": "code",
      "metadata": {
        "id": "D1RHtWFJH6ZL"
      },
      "source": [
        "X_shuffled, y_shuffled = X[shuffled_indices], y[shuffled_indices]"
      ],
      "execution_count": 12,
      "outputs": []
    },
    {
      "cell_type": "markdown",
      "metadata": {
        "id": "i1FUdOrdH6ZL"
      },
      "source": [
        "Son olarak, veri kümesini eğitim ve test alt kümelerine ayırabiliriz:"
      ]
    },
    {
      "cell_type": "code",
      "metadata": {
        "id": "S9DjPSN1H6ZL"
      },
      "source": [
        "X_train, y_train = X_shuffled[:105], y_shuffled[:105]\n",
        "X_test, y_test = X_shuffled[105:], y_shuffled[105:]"
      ],
      "execution_count": 13,
      "outputs": []
    },
    {
      "cell_type": "markdown",
      "metadata": {
        "id": "EMJutuoaH6ZL"
      },
      "source": [
        "## 5 - Scikit-Learn'de 1-4 arasındaki Adımları Yapma"
      ]
    },
    {
      "cell_type": "markdown",
      "metadata": {
        "id": "gvY_Cqj3H6ZL"
      },
      "source": [
        "Veri kümesini yüklemek ve onu eğitim ve test alt kümelerine bölmek için birçok adımdan geçtiğimizi unutmayın. Bunu, prosedür için bir sezgi geliştirmeniz için yaptık. Bununla birlikte, scikit-learn'de aynı şeyleri çok daha az kod satırında yapmamıza izin veren kullanışlı işlevler de vardır. Yani, aşağıdaki kod iris veri setini yükleyecek ve onu %30 test verisine ve %70 eğitim verisine bölecektir:"
      ]
    },
    {
      "cell_type": "code",
      "metadata": {
        "id": "9v-ZFq92H6ZL"
      },
      "source": [
        "from sklearn.datasets import load_iris\n",
        "from sklearn.model_selection import train_test_split\n",
        "\n",
        "\n",
        "iris = load_iris()\n",
        "X, y = iris.data[:, 2:], iris.target\n",
        "X_train, X_test, y_train, y_test = train_test_split(X, y, \n",
        "                                                    test_size=0.3,\n",
        "                                                    random_state=123,\n",
        "                                                    shuffle=True)"
      ],
      "execution_count": 14,
      "outputs": []
    },
    {
      "cell_type": "code",
      "metadata": {
        "colab": {
          "base_uri": "https://localhost:8080/"
        },
        "id": "cDs0PY7NH6ZL",
        "outputId": "97764286-5a31-433c-e292-dc7f6f8e3386"
      },
      "source": [
        "print(f'X_train.shape: {X_train.shape}')\n",
        "print(f'y_train.shape: {y_train.shape}')\n",
        "print(f'X_test.shape: {X_test.shape}')\n",
        "print(f'y_test.shape: {y_test.shape}')"
      ],
      "execution_count": 15,
      "outputs": [
        {
          "output_type": "stream",
          "text": [
            "X_train.shape: (105, 2)\n",
            "y_train.shape: (105,)\n",
            "X_test.shape: (45, 2)\n",
            "y_test.shape: (45,)\n"
          ],
          "name": "stdout"
        }
      ]
    },
    {
      "cell_type": "markdown",
      "metadata": {
        "id": "6RAM-1NPH6ZM"
      },
      "source": [
        "## 6 - Veri Setini Çizdirme"
      ]
    },
    {
      "cell_type": "markdown",
      "metadata": {
        "id": "AhXvUOY4H6ZM"
      },
      "source": [
        "Muhtemelen diğer istatistik sınıflarında öğrenmiş olduğunuz gibi, daha fazla analiz yapmadan önce verilerinizi görselleştirmek her zaman iyi bir fikirdir.\n",
        "\n",
        "Aşağıda 4 özelliğin tümünü bir dağılım grafiği matrisi kullanarak çiziyoruz:"
      ]
    },
    {
      "cell_type": "code",
      "metadata": {
        "colab": {
          "base_uri": "https://localhost:8080/",
          "height": 585
        },
        "id": "rWWrBEPtH6ZM",
        "outputId": "bfd3f038-9981-481c-9324-38bff977805f"
      },
      "source": [
        "from mlxtend.plotting import scatterplotmatrix\n",
        "\n",
        "\n",
        "names = ['sepal length [cm]', 'sepal width [cm]',\n",
        "         'petal length [cm]', 'petal width [cm]']\n",
        "\n",
        "fig, axes = scatterplotmatrix(iris.data[y==0], figsize=(10, 8), alpha=0.5)\n",
        "fig, axes = scatterplotmatrix(iris.data[y==1], fig_axes=(fig, axes), alpha=0.5)\n",
        "fig, axes = scatterplotmatrix(iris.data[y==2], fig_axes=(fig, axes), alpha=0.5, names=names)\n",
        "\n",
        "plt.tight_layout()\n",
        "plt.show()"
      ],
      "execution_count": 16,
      "outputs": [
        {
          "output_type": "display_data",
          "data": {
            "image/png": "[encoded data removed]",
            "text/plain": [
              "<Figure size 720x576 with 16 Axes>"
            ]
          },
          "metadata": {
            "tags": [],
            "needs_background": "light"
          }
        }
      ]
    },
    {
      "cell_type": "markdown",
      "metadata": {
        "id": "SPsOHqxPH6ZM"
      },
      "source": [
        "Ancak, yalnızca 2 özellikle çalışıyoruz, yani taç yaprağı uzunluğu ve taç yaprağı genişliği (daha önce `X, y = iris.data[:, 2:], iris.target` aracılığıyla). Aşağıda, \"X_train\" için bu 2 özelliğin dağılım grafiği matrisi bulunmaktadır:"
      ]
    },
    {
      "cell_type": "code",
      "metadata": {
        "colab": {
          "base_uri": "https://localhost:8080/",
          "height": 591
        },
        "id": "FDYjpAdUH6ZM",
        "outputId": "ec9c056c-cb06-422f-d9a2-6f411929cf67"
      },
      "source": [
        "names = ['petal length [cm]', 'petal width [cm]']\n",
        "\n",
        "fig, axes = scatterplotmatrix(X_train[y_train==0], figsize=(10, 8), alpha=0.5, label=\"Setosa\")\n",
        "fig, axes = scatterplotmatrix(X_train[y_train==1], fig_axes=(fig, axes), alpha=0.5, label=\"Versicolor\")\n",
        "fig, axes = scatterplotmatrix(X_train[y_train==2], fig_axes=(fig, axes), alpha=0.5, names=names, label=\"Virginica\")\n",
        "\n",
        "fig.legend()\n",
        "\n",
        "plt.tight_layout()\n",
        "plt.show()"
      ],
      "execution_count": 17,
      "outputs": [
        {
          "output_type": "display_data",
          "data": {
            "image/png": "[encoded data removed]",
            "text/plain": [
              "<Figure size 720x576 with 4 Axes>"
            ]
          },
          "metadata": {
            "tags": [],
            "needs_background": "light"
          }
        }
      ]
    },
    {
      "cell_type": "markdown",
      "metadata": {
        "id": "UsbbL90bH6ZN"
      },
      "source": [
        "Bu durumda, dağılım grafiği işlevini kullanmak aşırıya kaçabilir; matplotlib'i doğrudan kullanarak bir dağılım grafiği oluşturabiliriz:"
      ]
    },
    {
      "cell_type": "code",
      "metadata": {
        "colab": {
          "base_uri": "https://localhost:8080/",
          "height": 279
        },
        "id": "ae0Fb6ZZH6ZN",
        "outputId": "a45ece10-2508-417a-9fd9-882781426259"
      },
      "source": [
        "plt.scatter(X_train[y_train == 0, 0],\n",
        "            X_train[y_train == 0, 1],\n",
        "            marker='o',\n",
        "            label='class 0 (Setosa)')\n",
        "\n",
        "plt.scatter(X_train[y_train == 1, 0],\n",
        "            X_train[y_train == 1, 1],\n",
        "            marker='^',\n",
        "            label='class 1 (Versicolor)')\n",
        "\n",
        "plt.scatter(X_train[y_train == 2, 0],\n",
        "            X_train[y_train == 2, 1],\n",
        "            marker='s',\n",
        "            label='class 2 (Virginica)')\n",
        "\n",
        "plt.xlabel('petal length [cm]')\n",
        "plt.ylabel('petal width [cm]')\n",
        "plt.legend(loc='upper left')\n",
        "\n",
        "plt.show()"
      ],
      "execution_count": 18,
      "outputs": [
        {
          "output_type": "display_data",
          "data": {
            "image/png": "[encoded data removed]",
            "text/plain": [
              "<Figure size 432x288 with 1 Axes>"
            ]
          },
          "metadata": {
            "tags": [],
            "needs_background": "light"
          }
        }
      ]
    },
    {
      "cell_type": "markdown",
      "metadata": {
        "id": "9Cb6RThnH6ZN"
      },
      "source": [
        "## 7 - K-NN modelinin Eğitimi "
      ]
    },
    {
      "cell_type": "markdown",
      "metadata": {
        "id": "Qqq5gqdmH6ZN"
      },
      "source": [
        "Daha sonra, scikit-learn'den `KNeighborsClassifier` sınıfını kullanacağız ve `knn_model` dediğimiz yeni bir KNN nesnesini somutlaştıracağız. Ardından, bu modele eğitim veri kümesini \"uydururuz\":"
      ]
    },
    {
      "cell_type": "code",
      "metadata": {
        "colab": {
          "base_uri": "https://localhost:8080/"
        },
        "id": "9V2CwNqkH6ZN",
        "outputId": "945c04aa-9708-4789-a36a-89007795be23"
      },
      "source": [
        "from sklearn.neighbors import KNeighborsClassifier\n",
        "\n",
        "\n",
        "knn_model = KNeighborsClassifier(n_neighbors=3)\n",
        "knn_model.fit(X_train, y_train)"
      ],
      "execution_count": 19,
      "outputs": [
        {
          "output_type": "execute_result",
          "data": {
            "text/plain": [
              "KNeighborsClassifier(algorithm='auto', leaf_size=30, metric='minkowski',\n",
              "                     metric_params=None, n_jobs=None, n_neighbors=3, p=2,\n",
              "                     weights='uniform')"
            ]
          },
          "metadata": {
            "tags": []
          },
          "execution_count": 19
        }
      ]
    },
    {
      "cell_type": "markdown",
      "metadata": {
        "id": "nMrQYXb-H6ZO"
      },
      "source": [
        "## 8 - KNN Modeli ile Tahminleri Yapmak"
      ]
    },
    {
      "cell_type": "markdown",
      "metadata": {
        "id": "zlf9Ln5bH6ZO"
      },
      "source": [
        "KNN modelini \"uydurma\" işleminden sonra artık modelin daha önce görmediği yeni veri noktaları üzerinde tahminlerde bulunabiliriz. Test seti, bu tür veri noktalarını temsil eder. Elbette, test seti için de etiketlerimiz var, ancak bu etiketleri yalnızca modeli değerlendirmek için kullanıyoruz -- yani, modelin ne kadar iyi olduğunu bulmak için tahminleri test setindeki gerçek etiketlerle karşılaştırıyoruz:"
      ]
    },
    {
      "cell_type": "code",
      "metadata": {
        "id": "NjOYDjcOH6ZO"
      },
      "source": [
        "y_pred = knn_model.predict(X_test)"
      ],
      "execution_count": 20,
      "outputs": []
    },
    {
      "cell_type": "code",
      "metadata": {
        "colab": {
          "base_uri": "https://localhost:8080/"
        },
        "id": "scAYd6W1H6ZO",
        "outputId": "c6672180-2a17-4b1e-bfe7-da4e2143a0b8"
      },
      "source": [
        "num_correct_predictions = (y_pred == y_test).sum()\n",
        "accuracy = (num_correct_predictions / y_test.shape[0]) * 100\n",
        "\n",
        "# print('Test set accuracy: %.2f%%' % accuracy)\n",
        "\n",
        "print(f'Test set accuracy: {accuracy:.2f}%')"
      ],
      "execution_count": 21,
      "outputs": [
        {
          "output_type": "stream",
          "text": [
            "Test set accuracy: 95.56%\n"
          ],
          "name": "stdout"
        }
      ]
    },
    {
      "cell_type": "code",
      "metadata": {
        "colab": {
          "base_uri": "https://localhost:8080/"
        },
        "id": "A9KebVKgH6ZO",
        "outputId": "a9e5a50e-353f-4031-949c-b0a034ea48c8"
      },
      "source": [
        "# print('Test set accuracy: %.2f%%' % (knn_model.score(X_test, y_test)*100))\n",
        "\n",
        "print(f'Test set accuracy: {knn_model.score(X_test, y_test)*100:.2f}%')"
      ],
      "execution_count": 22,
      "outputs": [
        {
          "output_type": "stream",
          "text": [
            "Test set accuracy: 95.56%\n"
          ],
          "name": "stdout"
        }
      ]
    },
    {
      "cell_type": "markdown",
      "metadata": {
        "id": "0V8Xq7sSH6ZO"
      },
      "source": [
        "## 9 - Karar Sınırlarını Çizdirme"
      ]
    },
    {
      "cell_type": "markdown",
      "metadata": {
        "id": "kjMxT6xuH6ZO"
      },
      "source": [
        "Genellikle makine öğreniminde 2'den fazla özellik değişkenine sahip veri kümeleriyle çalışırız. Ancak eğitim amaçlı olarak, burada sadece iki özellikten oluşan çok basit bir veri seti seçtik (İris çiçeklerinin taç yaprağı uzunluğu ve taç yaprağı genişliği). Yalnızca iki özelliğimiz varsa, modelin karar sınırlarını kolayca görselleştirebiliriz -- burada MLxtend kitaplığında uyguladığım bir kolaylık işlevini kullanacağız:"
      ]
    },
    {
      "cell_type": "code",
      "metadata": {
        "colab": {
          "base_uri": "https://localhost:8080/",
          "height": 337
        },
        "id": "XQN1B93vH6ZP",
        "outputId": "0c2af932-97f7-4c02-ec0a-2e350548fc21"
      },
      "source": [
        "from mlxtend.plotting import plot_decision_regions\n",
        "\n",
        "\n",
        "plot_decision_regions(X_train, y_train, knn_model)\n",
        "plt.xlabel('petal length [cm]')\n",
        "plt.ylabel('petal width [cm]')\n",
        "plt.legend(loc='upper left')\n",
        "plt.show()"
      ],
      "execution_count": 23,
      "outputs": [
        {
          "output_type": "stream",
          "text": [
            "/usr/local/lib/python3.7/dist-packages/mlxtend/plotting/decision_regions.py:244: MatplotlibDeprecationWarning: Passing unsupported keyword arguments to axis() will raise a TypeError in 3.3.\n",
            "  ax.axis(xmin=xx.min(), xmax=xx.max(), y_min=yy.min(), y_max=yy.max())\n"
          ],
          "name": "stderr"
        },
        {
          "output_type": "display_data",
          "data": {
            "image/png": "[encoded data removed]",
            "text/plain": [
              "<Figure size 432x288 with 1 Axes>"
            ]
          },
          "metadata": {
            "tags": [],
            "needs_background": "light"
          }
        }
      ]
    },
    {
      "cell_type": "code",
      "metadata": {
        "colab": {
          "base_uri": "https://localhost:8080/",
          "height": 333
        },
        "id": "w9zc16LTH6ZP",
        "outputId": "ef9a06e3-a789-41cf-f508-2a7486a62e07"
      },
      "source": [
        "plot_decision_regions(X_test, y_test, knn_model)\n",
        "plt.xlabel('petal length [cm]')\n",
        "plt.ylabel('petal width [cm]')\n",
        "plt.legend(loc='upper left')\n",
        "plt.show()"
      ],
      "execution_count": 24,
      "outputs": [
        {
          "output_type": "stream",
          "text": [
            "/usr/local/lib/python3.7/dist-packages/mlxtend/plotting/decision_regions.py:244: MatplotlibDeprecationWarning: Passing unsupported keyword arguments to axis() will raise a TypeError in 3.3.\n",
            "  ax.axis(xmin=xx.min(), xmax=xx.max(), y_min=yy.min(), y_max=yy.max())\n"
          ],
          "name": "stderr"
        },
        {
          "output_type": "display_data",
          "data": {
            "image/png": "[encoded data removed]",
            "text/plain": [
              "<Figure size 432x288 with 1 Axes>"
            ]
          },
          "metadata": {
            "tags": [],
            "needs_background": "light"
          }
        }
      ]
    }
  ]
}